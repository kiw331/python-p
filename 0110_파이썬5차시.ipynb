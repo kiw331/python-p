{
 "cells": [
  {
   "cell_type": "code",
   "execution_count": 1,
   "metadata": {},
   "outputs": [
    {
     "name": "stdout",
     "output_type": "stream",
     "text": [
      "3\n",
      "2\n",
      "1\n"
     ]
    }
   ],
   "source": [
    "for n in range(3,0,-1):\n",
    "    print(n)"
   ]
  },
  {
   "cell_type": "code",
   "execution_count": 2,
   "metadata": {},
   "outputs": [
    {
     "name": "stdout",
     "output_type": "stream",
     "text": [
      "클로버1\n",
      "클로버2\n",
      "클로버3\n"
     ]
    }
   ],
   "source": [
    "clovers = ['클로버1', '클로버2', '클로버3']\n",
    "\n",
    "for i in clovers:\n",
    "    print(i)"
   ]
  },
  {
   "cell_type": "code",
   "execution_count": 3,
   "metadata": {},
   "outputs": [
    {
     "name": "stdout",
     "output_type": "stream",
     "text": [
      "클로버1\n",
      "클로버2\n",
      "클로버3\n"
     ]
    }
   ],
   "source": [
    "for i in range(3):\n",
    "    print(clovers[i])"
   ]
  },
  {
   "cell_type": "code",
   "execution_count": 4,
   "metadata": {},
   "outputs": [
    {
     "name": "stdout",
     "output_type": "stream",
     "text": [
      "2\n",
      "3\n",
      "4\n"
     ]
    }
   ],
   "source": [
    "cnt = 1\n",
    "while cnt<4:\n",
    "    cnt +=1\n",
    "    print(cnt)"
   ]
  },
  {
   "cell_type": "code",
   "execution_count": 6,
   "metadata": {},
   "outputs": [
    {
     "name": "stdout",
     "output_type": "stream",
     "text": [
      "3\n",
      "6\n",
      "9\n",
      "12\n",
      "15\n",
      "18\n",
      "21\n",
      "24\n",
      "27\n",
      "30\n",
      "33\n",
      "36\n",
      "39\n",
      "42\n",
      "45\n",
      "48\n",
      "51\n",
      "54\n",
      "57\n",
      "60\n",
      "63\n",
      "66\n",
      "69\n",
      "72\n",
      "75\n",
      "78\n",
      "81\n",
      "84\n",
      "87\n",
      "90\n",
      "93\n",
      "96\n",
      "99\n"
     ]
    }
   ],
   "source": [
    "for i in range(3,100,3):\n",
    "    print(i)"
   ]
  },
  {
   "cell_type": "code",
   "execution_count": 7,
   "metadata": {},
   "outputs": [
    {
     "name": "stdout",
     "output_type": "stream",
     "text": [
      "1\n",
      "2\n",
      "4\n",
      "5\n",
      "7\n",
      "8\n",
      "10\n"
     ]
    }
   ],
   "source": [
    "#continue 문을 이용하여 1부터 10까지의 수를 차례대로\n",
    "#출력하지만 3의 배수는 출력하지 않는 프로그램을 작성하세요\n",
    "\n",
    "for i in range(1,11):\n",
    "    \n",
    "    if i%3 == 0:\n",
    "        continue\n",
    "    \n",
    "    print(i)\n"
   ]
  },
  {
   "cell_type": "code",
   "execution_count": 10,
   "metadata": {},
   "outputs": [
    {
     "name": "stdout",
     "output_type": "stream",
     "text": [
      "55\n"
     ]
    }
   ],
   "source": [
    "#1부터 입력받은 정수까지의 총합을 구하는 프로그램을\n",
    "# while 문으로 작성하세요.\n",
    "\n",
    "n = 10\n",
    "sn = 0\n",
    "i = 1\n",
    "while i<=n:\n",
    "    sn += i\n",
    "    i +=1\n",
    "    \n",
    "    \n",
    "print(sn)"
   ]
  },
  {
   "cell_type": "code",
   "execution_count": 13,
   "metadata": {},
   "outputs": [
    {
     "name": "stdout",
     "output_type": "stream",
     "text": [
      "55\n"
     ]
    }
   ],
   "source": [
    "#앞서 작성한 1부터 임의의 수까지의 총합을 구하는 프로그램을 \n",
    "#break 문을 사용한 것으로 변경하세요\n",
    "\n",
    "n = 10\n",
    "sn, i = 0, 1\n",
    "\n",
    "while True:    \n",
    "    if i > n:\n",
    "        break\n",
    "    \n",
    "    sn += i\n",
    "    i +=1\n",
    "\n",
    "print(sn)\n",
    "    "
   ]
  },
  {
   "cell_type": "code",
   "execution_count": null,
   "metadata": {},
   "outputs": [],
   "source": [
    "#총합을 구할 첫 번째 수와 두 번째 수를 입력받아 총합을 구하는\n",
    "#프로그램을 for 문과 while 문으로 작성하세요\n",
    "\n",
    "a, b = 10, 20\n"
   ]
  },
  {
   "cell_type": "code",
   "execution_count": null,
   "metadata": {},
   "outputs": [],
   "source": []
  },
  {
   "cell_type": "code",
   "execution_count": 14,
   "metadata": {},
   "outputs": [
    {
     "name": "stdout",
     "output_type": "stream",
     "text": [
      "확인되었습니다.\n"
     ]
    }
   ],
   "source": [
    "# 29슬라이드:   아래의 순서도대로 while 문을 사용하여 프로그램을 작성하세요.\n",
    "\n",
    "myname = ''\n",
    "\n",
    "while True:\n",
    "    myname = input('이름을 입력하세요 ')\n",
    "    \n",
    "    if myname == 'hongkildong':\n",
    "        break\n",
    "\n",
    "print('확인되었습니다.')\n"
   ]
  },
  {
   "cell_type": "code",
   "execution_count": null,
   "metadata": {},
   "outputs": [],
   "source": [
    "# 30슬라이드"
   ]
  },
  {
   "cell_type": "code",
   "execution_count": 42,
   "metadata": {},
   "outputs": [
    {
     "name": "stdout",
     "output_type": "stream",
     "text": [
      "2 * 1 = 2\n",
      "2 * 2 = 4\n",
      "2 * 3 = 6\n",
      "2 * 4 = 8\n",
      "2 * 5 = 10\n",
      "2 * 6 = 12\n",
      "2 * 7 = 14\n",
      "2 * 8 = 16\n",
      "2 * 9 = 18\n"
     ]
    }
   ],
   "source": [
    "# for문을 사용하여 1단 구구단을 출력하는 프로그램을 작성해 보자.\n",
    "\n",
    "n = 2\n",
    "for i in range(1,10):\n",
    "    print(f'{n} * {i} = {n*i}')"
   ]
  },
  {
   "cell_type": "code",
   "execution_count": 16,
   "metadata": {},
   "outputs": [
    {
     "name": "stdout",
     "output_type": "stream",
     "text": [
      "1 * 0 = 1\n",
      "1 * 1 = 1\n",
      "1 * 2 = 1\n",
      "1 * 3 = 1\n",
      "1 * 4 = 1\n",
      "1 * 5 = 1\n",
      "1 * 6 = 1\n",
      "1 * 7 = 1\n",
      "1 * 8 = 1\n",
      "1 * 9 = 1\n",
      "\n",
      "2 * 0 = 2\n",
      "2 * 1 = 2\n",
      "2 * 2 = 2\n",
      "2 * 3 = 2\n",
      "2 * 4 = 2\n",
      "2 * 5 = 2\n",
      "2 * 6 = 2\n",
      "2 * 7 = 2\n",
      "2 * 8 = 2\n",
      "2 * 9 = 2\n",
      "\n",
      "3 * 0 = 3\n",
      "3 * 1 = 3\n",
      "3 * 2 = 3\n",
      "3 * 3 = 3\n",
      "3 * 4 = 3\n",
      "3 * 5 = 3\n",
      "3 * 6 = 3\n",
      "3 * 7 = 3\n",
      "3 * 8 = 3\n",
      "3 * 9 = 3\n",
      "\n",
      "4 * 0 = 4\n",
      "4 * 1 = 4\n",
      "4 * 2 = 4\n",
      "4 * 3 = 4\n",
      "4 * 4 = 4\n",
      "4 * 5 = 4\n",
      "4 * 6 = 4\n",
      "4 * 7 = 4\n",
      "4 * 8 = 4\n",
      "4 * 9 = 4\n",
      "\n",
      "5 * 0 = 5\n",
      "5 * 1 = 5\n",
      "5 * 2 = 5\n",
      "5 * 3 = 5\n",
      "5 * 4 = 5\n",
      "5 * 5 = 5\n",
      "5 * 6 = 5\n",
      "5 * 7 = 5\n",
      "5 * 8 = 5\n",
      "5 * 9 = 5\n",
      "\n"
     ]
    }
   ],
   "source": [
    "# 슬라이드 33, 34 중복\n",
    "# 이중 for문을 사용하여 1단부터 5단까지 구구단을 출력하는 프로그램을 작성해 보자\n",
    "\n",
    "for i in range(1,6):\n",
    "    \n",
    "    for j in range(10):\n",
    "        \n",
    "        print(f'{i} * {j} = {n*i}')\n",
    "        \n",
    "    print()"
   ]
  },
  {
   "cell_type": "code",
   "execution_count": 30,
   "metadata": {},
   "outputs": [
    {
     "name": "stdout",
     "output_type": "stream",
     "text": [
      "1 \n",
      "1 2 \n",
      "1 2 3 \n",
      "1 2 3 4 \n",
      "1 2 3 4 5 \n"
     ]
    }
   ],
   "source": [
    "# (35슬라이드)이중 for문을 사용하여 다음과 같은 출력을 만드는 프로그램을 작성 해보자.\n",
    "\n",
    "\n",
    "for i in range(5):\n",
    "    for j in range(1,i+2):\n",
    "        print(j, end=' ')\n",
    "    print()\n"
   ]
  },
  {
   "cell_type": "code",
   "execution_count": 41,
   "metadata": {},
   "outputs": [
    {
     "name": "stdout",
     "output_type": "stream",
     "text": [
      "A \n",
      "A B \n",
      "A B C \n",
      "A B C D \n",
      "A B C D E \n"
     ]
    }
   ],
   "source": [
    "A = ord('A')\n",
    "\n",
    "for i in range(1,6):\n",
    "    for j in range(A,A+i):\n",
    "        print(chr(j), end=' ')\n",
    "        \n",
    "    print()"
   ]
  },
  {
   "cell_type": "code",
   "execution_count": null,
   "metadata": {},
   "outputs": [],
   "source": [
    "A = ord('A')\n",
    "\n",
    "for i in range(1,6):\n",
    "    for j in range(A,A+i):\n",
    "        print(chr(j), end=' ')\n",
    "        \n",
    "    print()"
   ]
  },
  {
   "cell_type": "code",
   "execution_count": 44,
   "metadata": {},
   "outputs": [
    {
     "name": "stdout",
     "output_type": "stream",
     "text": [
      "A \n",
      "A B \n",
      "A B C \n",
      "A B C D \n",
      "A B C D E \n"
     ]
    }
   ],
   "source": [
    "A = ord('A')\n",
    "\n",
    "for i in range(5):\n",
    "    for j in range(i+1):\n",
    "        print(chr(A+j),end=' ')\n",
    "    print()\n",
    "        "
   ]
  },
  {
   "cell_type": "code",
   "execution_count": 37,
   "metadata": {},
   "outputs": [
    {
     "name": "stdout",
     "output_type": "stream",
     "text": [
      "A\n",
      "A B\n",
      "A B C\n",
      "A B C D\n",
      "A B C D E\n"
     ]
    }
   ],
   "source": [
    "# 리스트 표현식\n",
    "A = ord('A')\n",
    "\n",
    "for i in range(1, 6):\n",
    "    print(' '.join([chr(A + j) for j in range(i)]))"
   ]
  },
  {
   "cell_type": "code",
   "execution_count": 38,
   "metadata": {},
   "outputs": [
    {
     "name": "stdout",
     "output_type": "stream",
     "text": [
      "A\n",
      "A B\n",
      "A B C\n",
      "A B C D\n",
      "A B C D E\n"
     ]
    }
   ],
   "source": [
    "# print문안에 for\n",
    "A = ord('A')\n",
    "\n",
    "for i in range(1, 6):\n",
    "    print(*[chr(A + j) for j in range(i)])"
   ]
  },
  {
   "cell_type": "markdown",
   "metadata": {},
   "source": [
    "---"
   ]
  },
  {
   "cell_type": "markdown",
   "metadata": {},
   "source": [
    "과제"
   ]
  },
  {
   "cell_type": "code",
   "execution_count": 1,
   "metadata": {},
   "outputs": [
    {
     "name": "stdout",
     "output_type": "stream",
     "text": [
      "사과\n",
      "귤\n",
      "수박\n"
     ]
    }
   ],
   "source": [
    "과일 = [\"사과\", \"귤\", \"수박\"]\n",
    "for 변수 in 과일:\n",
    "    print(변수)"
   ]
  },
  {
   "cell_type": "markdown",
   "metadata": {},
   "source": [
    "2. 다음 코드를 for문으로 작성하라.\n",
    "변수 = 10\n",
    "print(변수)\n",
    "변수 = 20\n",
    "print(변수)\n",
    "변수 = 30\n",
    "print(변수)"
   ]
  },
  {
   "cell_type": "code",
   "execution_count": 2,
   "metadata": {},
   "outputs": [
    {
     "name": "stdout",
     "output_type": "stream",
     "text": [
      "10\n",
      "20\n",
      "30\n"
     ]
    }
   ],
   "source": [
    "for 변수 in [10, 20, 30]:\n",
    "    print(변수)"
   ]
  },
  {
   "cell_type": "code",
   "execution_count": 5,
   "metadata": {},
   "outputs": [
    {
     "name": "stdout",
     "output_type": "stream",
     "text": [
      "110\n",
      "210\n",
      "310\n"
     ]
    }
   ],
   "source": [
    "# 3. 다음과 같이 상품 판매가가 저장된 리스트가 있을 때 부가세가 포함된 가격을 for 문을 사용해서 화면에 출력하라. 단 부가세는 10원으로 가정한다.\n",
    "# 가격리스트 = [100, 200, 300]\n",
    "# 110\n",
    "# 210\n",
    "# 310\n",
    "\n",
    "가격리스트 = [100, 200, 300]\n",
    "for i in 가격리스트:\n",
    "    print(i+10)\n"
   ]
  },
  {
   "cell_type": "code",
   "execution_count": 7,
   "metadata": {},
   "outputs": [
    {
     "name": "stdout",
     "output_type": "stream",
     "text": [
      "dog 3\n",
      "cat 3\n",
      "parrot 6\n"
     ]
    }
   ],
   "source": [
    "# 4. 리스트에는 동물이름이 문자열로 저장돼 있다.\n",
    "# 리스트 = ['dog', 'cat', 'parrot']\n",
    "# 동물 이름과 글자수를 다음과 같이 출력하라.\n",
    "# dog 3\n",
    "# cat 3\n",
    "# parrot 6\n",
    "\n",
    "리스트 = ['dog', 'cat', 'parrot']\n",
    "\n",
    "for i in 리스트:\n",
    "    print(i,len(i))\n",
    "\n",
    "\n"
   ]
  },
  {
   "cell_type": "code",
   "execution_count": 9,
   "metadata": {},
   "outputs": [
    {
     "name": "stdout",
     "output_type": "stream",
     "text": [
      "나\n",
      "다\n",
      "라\n"
     ]
    }
   ],
   "source": [
    "# 5. 리스트에는 네 개의 문자열이 바인딩돼 있다.\n",
    "# 리스트 = [\"가\", \"나\", \"다\", \"라\"]\n",
    "# for문을 사용해서 다음과 같이 출력하라.\n",
    "# 나\n",
    "# 다\n",
    "# 라\n",
    "\n",
    "리스트 = [\"가\", \"나\", \"다\", \"라\"]\n",
    "for i in 리스트[1:]:\n",
    "    print(i)"
   ]
  },
  {
   "cell_type": "code",
   "execution_count": 10,
   "metadata": {},
   "outputs": [
    {
     "name": "stdout",
     "output_type": "stream",
     "text": [
      "-20\n",
      "-3\n"
     ]
    }
   ],
   "source": [
    "''' \n",
    "6. 리스트에는 네 개의 정수가 저장돼 있다.\n",
    "리스트 = [3, -20, -3, 44]\n",
    "for문을 사용해서 리스트의 음수를 출력하라.\n",
    "-20\n",
    "-3\n",
    "'''\n",
    "리스트 = [3, -20, -3, 44]\n",
    "for i in 리스트:\n",
    "    if i < 0:\n",
    "        print(i)\n"
   ]
  },
  {
   "cell_type": "code",
   "execution_count": 11,
   "metadata": {},
   "outputs": [
    {
     "name": "stdout",
     "output_type": "stream",
     "text": [
      "2002\n",
      "2006\n",
      "2010\n",
      "2014\n",
      "2018\n",
      "2022\n",
      "2026\n",
      "2030\n",
      "2034\n",
      "2038\n",
      "2042\n",
      "2046\n",
      "2050\n"
     ]
    }
   ],
   "source": [
    "''' \n",
    "7. 월드컵은 4년에 한 번 개최된다. range()를 사용하여 2002~2050년까지 중 월드컵이 개최되는 연도를 출력하라.\n",
    "2002\n",
    "2006\n",
    "2010\n",
    "...\n",
    "2042\n",
    "2046\n",
    "2050\n",
    "\n",
    "'''\n",
    "\n",
    "for i in range(2002,2051,4):\n",
    "    print(i)\n"
   ]
  },
  {
   "cell_type": "code",
   "execution_count": 12,
   "metadata": {},
   "outputs": [
    {
     "name": "stdout",
     "output_type": "stream",
     "text": [
      "5050\n"
     ]
    }
   ],
   "source": [
    "''' \n",
    "9. while문을 사용하여 1부터 100까지의 자연수를 모두 더하고 그 결과를 출력하시오.\n",
    "'''\n",
    "result, i = 0, 1\n",
    "\n",
    "while i<=100:\n",
    "    result += i\n",
    "    i += 1\n",
    "    \n",
    "print(result)"
   ]
  },
  {
   "cell_type": "code",
   "execution_count": 14,
   "metadata": {},
   "outputs": [
    {
     "name": "stdout",
     "output_type": "stream",
     "text": [
      "1 : 홀수\n",
      "2 : 짝수\n",
      "3 : 홀수\n",
      "4 : 짝수\n",
      "5 : 홀수\n",
      "6 : 짝수\n",
      "7 : 홀수\n",
      "8 : 짝수\n",
      "9 : 홀수\n",
      "10 : 짝수\n",
      "11 : 홀수\n",
      "12 : 짝수\n",
      "13 : 홀수\n",
      "14 : 짝수\n",
      "15 : 홀수\n",
      "16 : 짝수\n",
      "17 : 홀수\n",
      "18 : 짝수\n",
      "19 : 홀수\n",
      "20 : 짝수\n",
      "21 : 홀수\n",
      "22 : 짝수\n",
      "23 : 홀수\n",
      "24 : 짝수\n",
      "25 : 홀수\n",
      "26 : 짝수\n",
      "27 : 홀수\n",
      "28 : 짝수\n",
      "29 : 홀수\n",
      "30 : 짝수\n"
     ]
    }
   ],
   "source": [
    "''' \n",
    "10. 1부터 30까지의 정수를 홀수와 짝수를 구분하여 출력하시오.\n",
    "1 : 홀수\n",
    "2 : 짝수\n",
    "...\n",
    "29 : 홀수\n",
    "30 : 짝수\n",
    "\n",
    "'''\n",
    "\n",
    "for i in range(1,31):\n",
    "    if i % 2 == 1:\n",
    "        print(i,': 홀수')\n",
    "        \n",
    "    else:\n",
    "        print(i,': 짝수')\n"
   ]
  },
  {
   "cell_type": "code",
   "execution_count": 17,
   "metadata": {},
   "outputs": [
    {
     "name": "stdout",
     "output_type": "stream",
     "text": [
      "홀수리스트 : [1, 3, 5, 7, 9, 11, 13, 15, 17, 19, 21, 23, 25, 27, 29]\n",
      "짝수리스트 : [2, 4, 6, 8, 10, 12, 14, 16, 18, 20, 22, 24, 26, 28, 30]\n"
     ]
    }
   ],
   "source": [
    "''' \n",
    "11. 앞선 프로그램을 수정하여 홀수와 짝수를 구분하여 리스트에 저장하고 출력 하시오.\n",
    "'''\n",
    "\n",
    "odd = []\n",
    "even = []\n",
    "\n",
    "\n",
    "for i in range(1,31):\n",
    "    if i % 2 == 1:\n",
    "        odd.append(i)\n",
    "        \n",
    "    else:\n",
    "        even.append(i)\n",
    "        \n",
    "print('홀수리스트 :',odd)\n",
    "print('짝수리스트 :',even)\n",
    "\n"
   ]
  },
  {
   "cell_type": "code",
   "execution_count": null,
   "metadata": {},
   "outputs": [],
   "source": []
  }
 ],
 "metadata": {
  "kernelspec": {
   "display_name": "conda",
   "language": "python",
   "name": "conda"
  },
  "language_info": {
   "codemirror_mode": {
    "name": "ipython",
    "version": 3
   },
   "file_extension": ".py",
   "mimetype": "text/x-python",
   "name": "python",
   "nbconvert_exporter": "python",
   "pygments_lexer": "ipython3",
   "version": "3.10.4"
  }
 },
 "nbformat": 4,
 "nbformat_minor": 2
}
