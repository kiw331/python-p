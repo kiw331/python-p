{
 "cells": [
  {
   "cell_type": "markdown",
   "metadata": {},
   "source": [
    "   문제 1) 파이썬의 주요 특징을 3가지 작성하세요.\n",
    "인터프리터 프로그래밍언어\n",
    "무료 소프트웨어 (오픈소스)\n",
    "객체지향적이며 클래스 지원함"
   ]
  },
  {
   "cell_type": "code",
   "execution_count": null,
   "metadata": {},
   "outputs": [],
   "source": [
    "a, b = map(int, input('두개 숫자를 입력하세요').split())"
   ]
  },
  {
   "cell_type": "code",
   "execution_count": 3,
   "metadata": {},
   "outputs": [
    {
     "name": "stdout",
     "output_type": "stream",
     "text": [
      "20 + 2 = 22\n",
      "20 - 2 = 22\n",
      "20 x 2 = 40\n",
      "20 / 2 = 10.0\n"
     ]
    }
   ],
   "source": [
    "# 문제 2) 두 개의 숫자를 입력받아 다음 연산 결과를 출력하는 프로그램을 작성하세요.\n",
    "#     - 덧셈, 뺄셈, 곱셈, 나눗셈 결과를 출력합니다.\n",
    "    \n",
    "a, b = map(int, input('두 개의 숫자를 입력하세요').split())\n",
    "\n",
    "print(f'{a} + {b} = {a+b}')\n",
    "print(f'{a} - {b} = {a+b}')\n",
    "print(f'{a} x {b} = {a*b}')\n",
    "print(f'{a} / {b} = {a/b}')"
   ]
  },
  {
   "cell_type": "code",
   "execution_count": 5,
   "metadata": {},
   "outputs": [
    {
     "data": {
      "text/plain": [
       "(float, bool, str)"
      ]
     },
     "execution_count": 5,
     "metadata": {},
     "output_type": "execute_result"
    }
   ],
   "source": [
    "'''\n",
    "   문제 3)  다음 코드에서 변수 a, b, c의 데이터 타입을 작성하세요.\n",
    "   ```\n",
    "     a = 3.14\n",
    "     b = True\n",
    "     c = “False”\n",
    "   ```\n",
    "\n",
    "'''\n",
    "a = 3.14\n",
    "b = True\n",
    "c = \"False\"\n",
    "\n",
    "type(a), type(b), type(c)"
   ]
  },
  {
   "cell_type": "code",
   "execution_count": 7,
   "metadata": {},
   "outputs": [
    {
     "name": "stdout",
     "output_type": "stream",
     "text": [
      "F학점\n"
     ]
    }
   ],
   "source": [
    "'''\n",
    "   문제 4) 점수를 입력 받아 다음 조건에 따라 학점을 출력하는 프로그램을 작성하세요.\n",
    "•\t90점 이상: A학점\n",
    "•\t80점 이상 90점 미만: B학점\n",
    "•\t70점 이상 80점 미만: C학점\n",
    "•\t70점 미만: F학점\n",
    "'''\n",
    "\n",
    "\n",
    "score = int(input('점수를 입력하세요: '))\n",
    "\n",
    "if score >= 90:\n",
    "    print('A학점')\n",
    "elif score >= 80:\n",
    "    print('B학점')\n",
    "elif score >= 70:\n",
    "    print('C학점')\n",
    "else:\n",
    "    print('F학점')\n"
   ]
  },
  {
   "cell_type": "code",
   "execution_count": 8,
   "metadata": {},
   "outputs": [
    {
     "name": "stdout",
     "output_type": "stream",
     "text": [
      "1 2 3 4 5\n"
     ]
    }
   ],
   "source": [
    "'''\n",
    "  문제 5) 리스트 numbers = [1, 2, 3, 4, 5]에 저장된 모든 값을 출력하는 프로그램을     \n",
    "  작성하세요. \n",
    "'''\n",
    "\n",
    "numbers = [1, 2, 3, 4, 5]\n",
    "print(*numbers)"
   ]
  },
  {
   "cell_type": "code",
   "execution_count": null,
   "metadata": {},
   "outputs": [],
   "source": [
    "'''\n",
    " 문제 6) 사용자로부터 나이를 입력 받아 다음 조건을 만족하는 프로그램을 작성하세요.\n",
    "•\t나이가 20세 이상 60세 이하일 경우 \"적정 연령대입니다.\"를 출력합니다.\n",
    "•\t그 외의 경우 \"적정 연령대가 아닙니다.\"를 출력합니다.\n",
    "\n",
    "'''\n",
    "\n",
    "age = int(input('나이를 입력하세요: '))\n",
    "\n",
    "if age >= 20 and age <=60:\n",
    "    print('적정 연령대입니다.')\n",
    "    \n",
    "else:\n",
    "    print('적정 연령대가 아닙니다.')"
   ]
  },
  {
   "cell_type": "markdown",
   "metadata": {},
   "source": [
    "      *\n",
    "    *****\n",
    "  *********\n",
    "*************\n",
    "  *********\n",
    "    *****\n",
    "      *\n",
    "\n",
    "6, 1\n",
    "4, 5\n",
    "2, 9\n",
    "0, 13\n",
    "2, 9\n",
    "4, 5\n",
    "6, 1"
   ]
  },
  {
   "cell_type": "code",
   "execution_count": null,
   "metadata": {},
   "outputs": [],
   "source": [
    "n = 4  # 다이아몬드의 중심 높이\n",
    "\n",
    "for i in range(-n + 1, n):\n",
    "    print(' ' * abs(i) + '*' * (2 * (n - abs(i)) - 1))"
   ]
  },
  {
   "cell_type": "code",
   "execution_count": null,
   "metadata": {},
   "outputs": [],
   "source": [
    "n = 7   #전체 높이\n",
    "\n",
    "#층수\n",
    "for i in range(4):\n",
    "    \n",
    "    blank = ' ' * (n-1)\n",
    "    star = '*'\n",
    "    \n",
    "    print(blank + star) \n",
    "    \n",
    "    \n",
    "    \n",
    "    \n"
   ]
  },
  {
   "cell_type": "code",
   "execution_count": null,
   "metadata": {},
   "outputs": [],
   "source": [
    "#층수\n",
    "for i in range(3,-4,-1):\n",
    "    \n",
    "    #공백개수\n",
    "    for b in range(abs(i)*2):\n",
    "        print(' ', end='')\n",
    "    print()\n",
    "    \n",
    "    #별개수\n",
    "    for s in range(1,14,4):\n",
    "        print('*', end='')\n",
    "    print()\n"
   ]
  },
  {
   "cell_type": "code",
   "execution_count": 2,
   "metadata": {},
   "outputs": [
    {
     "name": "stdout",
     "output_type": "stream",
     "text": [
      "*\n",
      "*****\n",
      "*********\n",
      "*************\n",
      "*********\n",
      "*****\n",
      "*\n"
     ]
    }
   ],
   "source": [
    "'''\n",
    " 문제 7) 아래와 같이 다이아몬드 패턴을 출력하는 코드를 작성하세요 .\n",
    "    *\n",
    "    *****\n",
    "    *********\n",
    "    *************\n",
    "    *********\n",
    "    *****\n",
    "    *\n",
    "\n",
    "'''\n",
    "\n",
    "for i in range(1,14,4):\n",
    "    print('*'*i)\n",
    "    \n",
    "for i in range(9,0,-4):\n",
    "    print('*'*i)"
   ]
  },
  {
   "cell_type": "code",
   "execution_count": 5,
   "metadata": {},
   "outputs": [
    {
     "name": "stdout",
     "output_type": "stream",
     "text": [
      "바나나\n",
      "파인애플\n",
      "복숭아\n",
      "사과를  찾았습니다!\n",
      "포도\n"
     ]
    }
   ],
   "source": [
    "'''\n",
    "  문제 8) fruits리스트에 저장된 과일 이름을 하나 씩 출력하면서 \"사과\"가 포함된 경우 \n",
    "  \"사과를  찾았습니다!\"라는 메시지를 출력하는 프로그램을 작성하세요.\n",
    "  - fruits = [‘바나나’, ‘파인애플’, ‘복숭아’, ‘사과’, ‘포도’]\n",
    "\n",
    "'''\n",
    "\n",
    "fruits = ['바나나', '파인애플', '복숭아', '사과', '포도']\n",
    "\n",
    "for f in fruits:\n",
    "        \n",
    "  if f=='사과':\n",
    "    print('사과를  찾았습니다!')\n",
    "    continue\n",
    "    \n",
    "  print(f)\n"
   ]
  },
  {
   "cell_type": "code",
   "execution_count": null,
   "metadata": {},
   "outputs": [],
   "source": [
    "def greet(name=\"Guest\"):\n",
    "    return f\"Hello, {name}!\"\n",
    "print(greet(\"Alice\"))\n"
   ]
  },
  {
   "cell_type": "code",
   "execution_count": null,
   "metadata": {},
   "outputs": [],
   "source": []
  }
 ],
 "metadata": {
  "kernelspec": {
   "display_name": "conda",
   "language": "python",
   "name": "conda"
  },
  "language_info": {
   "codemirror_mode": {
    "name": "ipython",
    "version": 3
   },
   "file_extension": ".py",
   "mimetype": "text/x-python",
   "name": "python",
   "nbconvert_exporter": "python",
   "pygments_lexer": "ipython3",
   "version": "3.10.4"
  }
 },
 "nbformat": 4,
 "nbformat_minor": 2
}
