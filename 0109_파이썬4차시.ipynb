{
 "cells": [
  {
   "cell_type": "code",
   "execution_count": null,
   "metadata": {},
   "outputs": [],
   "source": []
  },
  {
   "cell_type": "code",
   "execution_count": null,
   "metadata": {},
   "outputs": [],
   "source": []
  },
  {
   "cell_type": "markdown",
   "metadata": {},
   "source": [
    "### 튜플"
   ]
  },
  {
   "cell_type": "code",
   "execution_count": 3,
   "metadata": {},
   "outputs": [
    {
     "data": {
      "text/plain": [
       "(1, 2, 3)"
      ]
     },
     "execution_count": 3,
     "metadata": {},
     "output_type": "execute_result"
    }
   ],
   "source": [
    "#괄호 생략가능\n",
    "t = 1,2,3\n",
    "\n",
    "t"
   ]
  },
  {
   "cell_type": "code",
   "execution_count": 8,
   "metadata": {},
   "outputs": [
    {
     "name": "stdout",
     "output_type": "stream",
     "text": [
      "1 <class 'int'>\n",
      "(1,) <class 'tuple'>\n"
     ]
    }
   ],
   "source": [
    "# 값을 한 개만 가진 튜플에서는 값 뒤에 쉼표 넣어줘야 함\n",
    "t1 = (1) # 쉼표 없으면 정수형이 됨\n",
    "t2 = (1,)\n",
    "\n",
    "print(t1, type(t1))\n",
    "print(t2, type(t2))"
   ]
  },
  {
   "cell_type": "code",
   "execution_count": 18,
   "metadata": {},
   "outputs": [
    {
     "name": "stdout",
     "output_type": "stream",
     "text": [
      "<class 'list'>\n",
      "<class 'list'>\n"
     ]
    }
   ],
   "source": [
    "# 참고: 리스트는 쉼표 필요없음\n",
    "\n",
    "print(type([1]))\n",
    "print(type([1,]))"
   ]
  },
  {
   "cell_type": "markdown",
   "metadata": {},
   "source": [
    "튜플에 리스트 형태의 원소가 있으면 해당 리스트의 내용은 수정이 가능한가요?\n",
    "\n",
    "해당 내용은 참조(reference)의 개념에 대해서 공부해보시면 됩니다.\n",
    "\n",
    "그럼 튜플 안에 요소를 변수로 지정한 경우, 특정 변수의 값이 재할당되면 튜플 안에도 재할당된 값이 반영되는걸까요?"
   ]
  },
  {
   "cell_type": "code",
   "execution_count": 11,
   "metadata": {},
   "outputs": [
    {
     "ename": "TypeError",
     "evalue": "'tuple' object does not support item assignment",
     "output_type": "error",
     "traceback": [
      "\u001b[1;31m---------------------------------------------------------------------------\u001b[0m",
      "\u001b[1;31mTypeError\u001b[0m                                 Traceback (most recent call last)",
      "Input \u001b[1;32mIn [11]\u001b[0m, in \u001b[0;36m<cell line: 3>\u001b[1;34m()\u001b[0m\n\u001b[0;32m      1\u001b[0m \u001b[38;5;66;03m# 리스트 속에 있는 튜플 수정 - 안됨\u001b[39;00m\n\u001b[0;32m      2\u001b[0m lst \u001b[38;5;241m=\u001b[39m [\u001b[38;5;241m1\u001b[39m,\u001b[38;5;241m2\u001b[39m,\u001b[38;5;241m3\u001b[39m,(\u001b[38;5;241m4\u001b[39m,)]\n\u001b[1;32m----> 3\u001b[0m lst[\u001b[38;5;241m3\u001b[39m][\u001b[38;5;241m0\u001b[39m] \u001b[38;5;241m=\u001b[39m \u001b[38;5;241m10\u001b[39m\n\u001b[0;32m      4\u001b[0m lst\n",
      "\u001b[1;31mTypeError\u001b[0m: 'tuple' object does not support item assignment"
     ]
    }
   ],
   "source": [
    "# 리스트 속에 있는 튜플 수정 - 안됨\n",
    "lst = [1,2,3,(4,)]\n",
    "lst[3][0] = 10\n",
    "lst"
   ]
  },
  {
   "cell_type": "code",
   "execution_count": 19,
   "metadata": {},
   "outputs": [
    {
     "name": "stdout",
     "output_type": "stream",
     "text": [
      "(1, 2, [3])\n",
      "(1, 2, [4])\n"
     ]
    }
   ],
   "source": [
    "# 튜플 속에 있는 리스트 수정 - 가능\n",
    "my_tuple = (1, 2, [3])\n",
    "print(my_tuple)\n",
    "my_tuple[2][0] = 4\n",
    "print(my_tuple)"
   ]
  },
  {
   "cell_type": "code",
   "execution_count": 21,
   "metadata": {},
   "outputs": [
    {
     "name": "stdout",
     "output_type": "stream",
     "text": [
      "(1, 2, 3)\n",
      "(1, 2, 3)\n"
     ]
    }
   ],
   "source": [
    "# 튜플 안에 변수를 넣고 변수값을 변경했을 때 튜플에 반영되는가? - 안됨\n",
    "a,b,c = 1,2,3\n",
    "\n",
    "tp = (a,b,c)\n",
    "print(tp)\n",
    "\n",
    "a = 11\n",
    "print(tp)"
   ]
  },
  {
   "cell_type": "code",
   "execution_count": 36,
   "metadata": {},
   "outputs": [
    {
     "data": {
      "text/plain": [
       "[]"
      ]
     },
     "execution_count": 36,
     "metadata": {},
     "output_type": "execute_result"
    }
   ],
   "source": [
    "# 슬라이싱\n",
    "week = ['월','화','수','목','금','토','일']\n",
    "\n",
    "week[-1:-4] #오른쪽에서 왼쪽으로 슬라이싱은 안됨"
   ]
  },
  {
   "cell_type": "code",
   "execution_count": 39,
   "metadata": {},
   "outputs": [
    {
     "name": "stdout",
     "output_type": "stream",
     "text": [
      "[]\n",
      "['목', '금', '토']\n",
      "['목', '금', '토', '일']\n"
     ]
    }
   ],
   "source": [
    "# 음수로 슬라이싱\n",
    "print(week[-1:-4])  # 슬라이싱 안됨  \n",
    "print(week[-4:-1])  # 오른쪽에서 왼쪽으로 슬라이싱은 안됨 ()\n",
    "print(week[-4:7])   # 뒤에서 4번째 요소 부터 6번째 요소까지\n",
    "\n",
    "#(2번 추가 설명) 리스트 슬라이싱에서 list[start : end]라면, 시작점이 끝보다 크면 빈 리스트를 반환"
   ]
  },
  {
   "cell_type": "code",
   "execution_count": 38,
   "metadata": {},
   "outputs": [
    {
     "name": "stdout",
     "output_type": "stream",
     "text": [
      "['월', '화', '수']\n",
      "['목', '금', '토', '일']\n"
     ]
    }
   ],
   "source": [
    "print(week[:-4])\n",
    "print(week[-4:])"
   ]
  },
  {
   "cell_type": "code",
   "execution_count": 31,
   "metadata": {},
   "outputs": [
    {
     "data": {
      "text/plain": [
       "('화', '수', '목')"
      ]
     },
     "execution_count": 31,
     "metadata": {},
     "output_type": "execute_result"
    }
   ],
   "source": [
    "# 투플도 슬라이싱 되나? O\n",
    "week = ['월','화','수','목','금','토','일']\n",
    "week = tuple(week)\n",
    "\n",
    "week[1:4]"
   ]
  },
  {
   "cell_type": "markdown",
   "metadata": {},
   "source": [
    "### 딕셔너리"
   ]
  },
  {
   "cell_type": "code",
   "execution_count": 40,
   "metadata": {},
   "outputs": [
    {
     "data": {
      "text/plain": [
       "{}"
      ]
     },
     "execution_count": 40,
     "metadata": {},
     "output_type": "execute_result"
    }
   ],
   "source": [
    "empty_dict = {}\n",
    "empty_dict"
   ]
  },
  {
   "cell_type": "code",
   "execution_count": 44,
   "metadata": {},
   "outputs": [
    {
     "data": {
      "text/plain": [
       "{0: 0, 1: 11, 2: 22}"
      ]
     },
     "execution_count": 44,
     "metadata": {},
     "output_type": "execute_result"
    }
   ],
   "source": [
    "dict1 = {0:00, 1:11, 2:22}\n",
    "dict1"
   ]
  },
  {
   "cell_type": "code",
   "execution_count": 3,
   "metadata": {},
   "outputs": [
    {
     "data": {
      "text/plain": [
       "{'a': 'aa', 'b': 'bb', 'c': 'cc'}"
      ]
     },
     "execution_count": 3,
     "metadata": {},
     "output_type": "execute_result"
    }
   ],
   "source": [
    "# 문자열을 키로 쓰려면 따옴표 필요\n",
    "#dict2 = {a:'aa',b:'bb',c:'cc'}  #NameError\n",
    "#dict2\n",
    "\n",
    "dict3 = {'a':'aa','b':'bb','c':'cc'}  #NameError\n",
    "dict3"
   ]
  },
  {
   "cell_type": "code",
   "execution_count": 46,
   "metadata": {},
   "outputs": [
    {
     "data": {
      "text/plain": [
       "{0: 0, 1: 11, 2: 22, 3: 33}"
      ]
     },
     "execution_count": 46,
     "metadata": {},
     "output_type": "execute_result"
    }
   ],
   "source": [
    "#키 값 추가\n",
    "dict1[3] = 33\n",
    "dict1"
   ]
  },
  {
   "cell_type": "code",
   "execution_count": 5,
   "metadata": {},
   "outputs": [
    {
     "data": {
      "text/plain": [
       "11"
      ]
     },
     "execution_count": 5,
     "metadata": {},
     "output_type": "execute_result"
    }
   ],
   "source": [
    "#값에 접근 하기 2가지 방법: •딕셔너리[접근할_키], 딕셔너리.get(접근할_키)\n",
    "dict1 = {0:0, 1:11, 2:22}\n",
    "\n",
    "dict1[1]"
   ]
  },
  {
   "cell_type": "code",
   "execution_count": 13,
   "metadata": {},
   "outputs": [
    {
     "name": "stdout",
     "output_type": "stream",
     "text": [
      "None\n"
     ]
    }
   ],
   "source": [
    "# 딕셔너리.get(접근할_키)\n",
    "# 딕셔너리에 없는 키 사용할 경우 get() 메소드 활용 (키값이 없을 수도 있을 때)\n",
    "\n",
    "# a = dict1[4]      #KeyError\n",
    "b = dict1.get(4)    #None 리턴\n",
    "print(b)"
   ]
  }
 ],
 "metadata": {
  "kernelspec": {
   "display_name": "conda",
   "language": "python",
   "name": "conda"
  },
  "language_info": {
   "codemirror_mode": {
    "name": "ipython",
    "version": 3
   },
   "file_extension": ".py",
   "mimetype": "text/x-python",
   "name": "python",
   "nbconvert_exporter": "python",
   "pygments_lexer": "ipython3",
   "version": "3.10.4"
  }
 },
 "nbformat": 4,
 "nbformat_minor": 2
}
