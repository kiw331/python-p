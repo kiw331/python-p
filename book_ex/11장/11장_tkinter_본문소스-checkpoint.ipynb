{
 "cells": [
  {
   "cell_type": "code",
   "execution_count": 2,
   "id": "3d551435",
   "metadata": {},
   "outputs": [],
   "source": [
    "#p278.py\n",
    "import tkinter\n",
    "otk = tkinter.Tk()\n",
    "obtn = tkinter.Button(otk, text=\"click\")\n",
    "obtn.pack()\n",
    "otk.mainloop()"
   ]
  },
  {
   "cell_type": "code",
   "execution_count": 4,
   "id": "72f4558a",
   "metadata": {},
   "outputs": [],
   "source": [
    "#p280_1.py\n",
    "import tkinter\n",
    "otk = tkinter.Tk()\n",
    "otk.geometry(\"100x150\")\n",
    "obtn=tkinter.Button(otk, text=\"click\")\n",
    "obtn.pack()\n",
    "otk.mainloop()"
   ]
  },
  {
   "cell_type": "code",
   "execution_count": 6,
   "id": "8af59e88",
   "metadata": {},
   "outputs": [],
   "source": [
    "#p280_2.py\n",
    "import tkinter\n",
    "otk = tkinter.Tk()\n",
    "otk.geometry(\"100x150+400+400\")\n",
    "obtn=tkinter.Button(otk, text=\"click\")\n",
    "obtn.pack()\n",
    "otk.mainloop()"
   ]
  },
  {
   "cell_type": "code",
   "execution_count": 9,
   "id": "4f81f9d2",
   "metadata": {},
   "outputs": [],
   "source": [
    "#p281.py\n",
    "def hello():\n",
    "    print(\"hello there\")\n",
    "from tkinter import *\n",
    "otk = Tk()\n",
    "obtn = Button(otk, text=\"click me\", command=hello)\n",
    "obtn.pack()\n",
    "otk.mainloop()"
   ]
  },
  {
   "cell_type": "code",
   "execution_count": 11,
   "id": "d1b09407",
   "metadata": {},
   "outputs": [],
   "source": [
    "#p282_1.py\n",
    "from tkinter import *\n",
    "oroot = Tk()\n",
    "obutton1 = Button(oroot, text=\"PUSH1\")\n",
    "obutton2 = Button(oroot, text=\"PUSH2\")\n",
    "obutton3 = Button(oroot, text=\"PUSH3\")\n",
    "\n",
    "obutton1.pack()\n",
    "obutton2.pack()\n",
    "obutton3.pack()\n",
    "oroot.mainloop()"
   ]
  },
  {
   "cell_type": "code",
   "execution_count": 12,
   "id": "88eceb69",
   "metadata": {},
   "outputs": [],
   "source": [
    "#p282_2.py\n",
    "from tkinter import *\n",
    "oroot = Tk()\n",
    "olabel1 = Label(oroot, text=\"적\", bg=\"red\", width = 20)\n",
    "olabel2 = Label(oroot, text=\"녹\", bg=\"green\", width=20)\n",
    "olabel3 = Label(oroot, text=\"파\", bg=\"blue\", width=20)\n",
    "olabel1.pack()\n",
    "olabel2.pack()\n",
    "olabel3.pack()\n",
    "oroot.mainloop()"
   ]
  },
  {
   "cell_type": "code",
   "execution_count": 13,
   "id": "0adfbd02",
   "metadata": {},
   "outputs": [],
   "source": [
    "#p285.py\n",
    "import tkinter\n",
    "oroot = tkinter.Tk()\n",
    "oent= tkinter.Entry(oroot)\n",
    "oent.pack()\n",
    "olabel =tkinter.Label(oroot, text=\"이름입력\")\n",
    "olabel.pack()\n",
    "oroot.mainloop()"
   ]
  },
  {
   "cell_type": "code",
   "execution_count": 14,
   "id": "02ffb863",
   "metadata": {},
   "outputs": [],
   "source": [
    "#p286.py\n",
    "import tkinter\n",
    "oroot = tkinter.Tk()\n",
    "ostring = tkinter.StringVar()\n",
    "oentry = tkinter.Entry(oroot, textvariable = ostring)\n",
    "oentry.pack()\n",
    "olabel =tkinter.Label(oroot, textvariable = ostring)\n",
    "olabel.pack()\n",
    "oroot.mainloop()"
   ]
  },
  {
   "cell_type": "code",
   "execution_count": 18,
   "id": "6a0874d2",
   "metadata": {},
   "outputs": [],
   "source": [
    "#p289_1.py  #책에 있는 grid() 내용 아래 코드로 교체해야함. 그림도 잘 못 들어감\n",
    "import tkinter\n",
    "oroot = tkinter.Tk()\n",
    "oroot.geometry(\"200x100\")\n",
    "obutton1 = tkinter.Button(oroot, text=\"PUSH1\")\n",
    "obutton2 = tkinter.Button(oroot, text=\"PUSH2\")\n",
    "obutton3 = tkinter.Button(oroot, text=\"PUSH3\")\n",
    "obutton1.grid(row=1, column=0)\n",
    "obutton2.grid(row=1, column=1)\n",
    "obutton3.grid(row=0, column=4)\n",
    "oroot.mainloop()"
   ]
  },
  {
   "cell_type": "code",
   "execution_count": 16,
   "id": "565330ac",
   "metadata": {},
   "outputs": [],
   "source": [
    "#p289_2.py\n",
    "import tkinter\n",
    "oroot = tkinter.Tk()\n",
    "oroot.geometry(\"200x100+600+300\")\n",
    "obutton1 = Button(oroot, text=\"PUSH1\")\n",
    "obutton2 = Button(oroot, text=\"PUSH2\")\n",
    "obutton3 = Button(oroot, text=\"PUSH3\")\n",
    "\n",
    "obutton1.pack(side='left')\n",
    "obutton2.pack(side='right')\n",
    "obutton3.pack(side='top')\n",
    "oroot.mainloop()"
   ]
  },
  {
   "cell_type": "code",
   "execution_count": 17,
   "id": "0e7a5c47",
   "metadata": {},
   "outputs": [],
   "source": [
    "#p289_3.py\n",
    "import tkinter\n",
    "oroot = tkinter.Tk()\n",
    "oroot.geometry(\"200x100\")\n",
    "obutton1 = tkinter.Button(oroot, text=\"PUSH1\")\n",
    "obutton2 = tkinter.Button(oroot, text=\"PUSH2\")\n",
    "obutton3 = tkinter.Button(oroot, text=\"PUSH3\")\n",
    "obutton1.place(x=10, y=60)\n",
    "obutton2.place(x=140, y=60)\n",
    "obutton3.place(x=80, y=10)\n",
    "oroot.mainloop()"
   ]
  },
  {
   "cell_type": "code",
   "execution_count": 21,
   "id": "5230be3d",
   "metadata": {},
   "outputs": [
    {
     "name": "stdout",
     "output_type": "stream",
     "text": [
      "주문하세요\n"
     ]
    }
   ],
   "source": [
    "#p291_1.py\n",
    "import tkinter\n",
    "def order():\n",
    "    print(\"주문하세요\")    \n",
    "root = tkinter.Tk()\n",
    "btn=tkinter.Button(root, text=\"주문\", command=order)\n",
    "btn.pack()\n",
    "root.mainloop()"
   ]
  },
  {
   "cell_type": "code",
   "execution_count": 23,
   "id": "0a8df08e",
   "metadata": {},
   "outputs": [
    {
     "name": "stdout",
     "output_type": "stream",
     "text": [
      "start tkinter\n"
     ]
    }
   ],
   "source": [
    "#p291_2.py\n",
    "import tkinter\n",
    "def msg():\n",
    "    print(\"start tkinter\")\n",
    "\n",
    "root = tkinter.Tk()\n",
    "mlabel = tkinter.Label(root, text=\"시작레이블\")\n",
    "mlabel.pack(side = 'top')\n",
    "\n",
    "mbutton = tkinter.Button(root, text=\"시작버튼\", command=msg)\n",
    "mbutton.pack(side = 'bottom')\n",
    "root.mainloop()"
   ]
  },
  {
   "cell_type": "code",
   "execution_count": 27,
   "id": "fc1a47c8",
   "metadata": {},
   "outputs": [
    {
     "name": "stdout",
     "output_type": "stream",
     "text": [
      "B런치\n"
     ]
    }
   ],
   "source": [
    "#p294.py\n",
    "import tkinter\n",
    "oroot = tkinter.Tk()\n",
    "radio_value = tkinter.IntVar()\n",
    "radio_value.set(1)\n",
    "lunch = {0: \"A런치\", 1:\"B런치\", 2:\"C런치\"}\n",
    "orb1=tkinter.Radiobutton(oroot, text = lunch[0], variable = radio_value, value = 0)\n",
    "orb1.pack()\n",
    "orb2=tkinter.Radiobutton(oroot, text = lunch[1], variable = radio_value, value = 1)\n",
    "orb2.pack()\n",
    "orb3=tkinter.Radiobutton(oroot, text = lunch[2], variable = radio_value, value =2)\n",
    "orb3.pack()\n",
    "def buy():\n",
    "    value = radio_value.get()\n",
    "    print(lunch[value])\n",
    "\n",
    "obutton = tkinter.Button(oroot, text = \"주문\", command = buy)\n",
    "obutton.pack()\n",
    "oroot.mainloop()"
   ]
  },
  {
   "cell_type": "code",
   "execution_count": 25,
   "id": "a96e25de",
   "metadata": {},
   "outputs": [],
   "source": [
    "#p298.py\n",
    "import tkinter\n",
    "oroot = tkinter.Tk()\n",
    "coffee = {0:\"아메리카노\", 1:\"라떼\", 2:\"카프치노\", 3:\"에스프레소\"}\n",
    "check_value={}\n",
    "for i in range(len(coffee)):\n",
    "    check_value[i]=tkinter.BooleanVar()\n",
    "    ocheckbutton=tkinter.Checkbutton(oroot,variable=check_value[i], text=coffee[i])   \n",
    "    ocheckbutton.pack(anchor=\"w\")\n",
    "\n",
    "def buy():\n",
    "    for i in check_value:      \n",
    "        if check_value[i].get() == True:\n",
    "            print(coffee[i])\n",
    "            \n",
    "tkinter.Button(oroot, text=\"주문\", command=buy).pack()\n",
    "oroot.mainloop()"
   ]
  },
  {
   "cell_type": "code",
   "execution_count": 2,
   "id": "83978662",
   "metadata": {
    "scrolled": true
   },
   "outputs": [],
   "source": [
    "#p299.py\n",
    "'''프로그램 실행시 TclError: image \" pyimage2\" dosent exist \n",
    "는 이전코드에서 오류가 난 것이 계속 영향을 주어가 발생하는 \n",
    "현상으로 jupyter notebook 에디터인 경우 restart 버튼을 실행하면 된다.\n",
    "'''\n",
    "import tkinter\n",
    "oroot = tkinter.Tk()\n",
    "oroot.geometry(\"200x100\")\n",
    "img1=tkinter.PhotoImage(file='pizzasb2.png')\n",
    "img_label = tkinter.Label(oroot, image=img1)\n",
    "img_label.place(x=-20, y=-20)\n",
    "obutton1 = tkinter.Button(oroot, text=\"PUSH1\")\n",
    "obutton2 = tkinter.Button(oroot, text=\"PUSH2\")\n",
    "obutton3 = tkinter.Button(oroot, text=\"PUSH3\")\n",
    "obutton1.place(x=10, y=60)\n",
    "obutton2.place(x=140, y=60)\n",
    "obutton3.place(x=80, y=10)\n",
    "oroot.mainloop()"
   ]
  },
  {
   "cell_type": "code",
   "execution_count": 5,
   "id": "4433e623",
   "metadata": {},
   "outputs": [],
   "source": [
    "#p300\n",
    "import tkinter as tk\n",
    "root = tk.Tk()\n",
    "options_list =['Option 1', 'Option 2', 'Option 3']\n",
    "selected_option=tk.StringVar()\n",
    "selected_option.set(options_list[0])\n",
    "\n",
    "option_menu = tk.OptionMenu(root, selected_option,*options_list)\n",
    "option_menu.pack()\n",
    "root.mainloop()"
   ]
  },
  {
   "cell_type": "code",
   "execution_count": null,
   "id": "57966ebe",
   "metadata": {},
   "outputs": [],
   "source": []
  }
 ],
 "metadata": {
  "kernelspec": {
   "display_name": "Python 3 (ipykernel)",
   "language": "python",
   "name": "python3"
  },
  "language_info": {
   "codemirror_mode": {
    "name": "ipython",
    "version": 3
   },
   "file_extension": ".py",
   "mimetype": "text/x-python",
   "name": "python",
   "nbconvert_exporter": "python",
   "pygments_lexer": "ipython3",
   "version": "3.9.13"
  }
 },
 "nbformat": 4,
 "nbformat_minor": 5
}
