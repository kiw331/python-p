{
 "cells": [
  {
   "cell_type": "code",
   "execution_count": null,
   "id": "1f12c714",
   "metadata": {},
   "outputs": [],
   "source": [
    "#mex1.py\n",
    "class Cvalue:\n",
    "    \n",
    "    def __init__(self):\n",
    "        self.lista=[]\n",
    "        \n",
    "    def add(self, num):\n",
    "        self.lista.append(num)\n",
    "        \n",
    "    def fprint(self):\n",
    "        print(self.lista)\n",
    "def plus(a, b):\n",
    "    c = a + b\n",
    "    return c\n",
    "        \n",
    "p1=Cvalue()\n",
    "p1.add(1)\n",
    "p1.add(2)\n",
    "p1.add(3)\n",
    "p1.fprint()"
   ]
  }
 ],
 "metadata": {
  "kernelspec": {
   "display_name": "Python 3 (ipykernel)",
   "language": "python",
   "name": "python3"
  },
  "language_info": {
   "codemirror_mode": {
    "name": "ipython",
    "version": 3
   },
   "file_extension": ".py",
   "mimetype": "text/x-python",
   "name": "python",
   "nbconvert_exporter": "python",
   "pygments_lexer": "ipython3",
   "version": "3.9.13"
  }
 },
 "nbformat": 4,
 "nbformat_minor": 5
}
