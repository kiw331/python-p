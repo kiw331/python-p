{
 "cells": [
  {
   "cell_type": "code",
   "execution_count": null,
   "id": "05c4d8f6",
   "metadata": {},
   "outputs": [],
   "source": [
    "#mex4.py\n",
    "#이 프로그램을 mex1.py 로 따로 저장해야 한다.\n",
    "#import 하는 프로그램과 같은 폴더에 저장한다. \n",
    "class Cvalue:\n",
    "    \n",
    "    def __init__(self):\n",
    "        self.lista=[]\n",
    "        \n",
    "    def add(self, num):\n",
    "        self.lista.append(num)\n",
    "        \n",
    "    def fprint(self):\n",
    "        print(self.lista)\n",
    "def plus(a, b):\n",
    "    c = a + b\n",
    "    return c\n",
    "\n",
    "if __name__ == \"__namin__\":\n",
    "        \n",
    "    p1=Cvalue()\n",
    "    p1.add(1)\n",
    "    p1.add(2)\n",
    "    p1.add(3)\n",
    "    p1.fprint()"
   ]
  }
 ],
 "metadata": {
  "kernelspec": {
   "display_name": "Python 3 (ipykernel)",
   "language": "python",
   "name": "python3"
  },
  "language_info": {
   "codemirror_mode": {
    "name": "ipython",
    "version": 3
   },
   "file_extension": ".py",
   "mimetype": "text/x-python",
   "name": "python",
   "nbconvert_exporter": "python",
   "pygments_lexer": "ipython3",
   "version": "3.9.13"
  }
 },
 "nbformat": 4,
 "nbformat_minor": 5
}
