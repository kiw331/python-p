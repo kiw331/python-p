{
 "cells": [
  {
   "cell_type": "code",
   "execution_count": 3,
   "id": "9d5a4e19",
   "metadata": {},
   "outputs": [
    {
     "name": "stdout",
     "output_type": "stream",
     "text": [
      "[1, 2, 3]\n"
     ]
    }
   ],
   "source": [
    "#p259.py\n",
    "class Cvalue:\n",
    "    \n",
    "    def __init__(self):\n",
    "        self.lista=[]\n",
    "        \n",
    "    def add(self, num):\n",
    "        self.lista.append(num)\n",
    "        \n",
    "    def fprint(self):\n",
    "        print(self.lista)\n",
    "        \n",
    "p1=Cvalue()\n",
    "p1.add(1)\n",
    "p1.add(2)\n",
    "p1.add(3)\n",
    "p1.fprint()\n",
    "            \n",
    "        "
   ]
  },
  {
   "cell_type": "code",
   "execution_count": 9,
   "id": "bf33db7d",
   "metadata": {},
   "outputs": [
    {
     "name": "stdout",
     "output_type": "stream",
     "text": [
      "[1, 2, 3]\n"
     ]
    }
   ],
   "source": [
    "#mex1.py    #p260\n",
    "#이 프로그램을 mex1.py 로 따로 저장해야 한다.\n",
    "#import 하는 프로그램과 같은 폴더에 저장한다. \n",
    "class Cvalue:\n",
    "    \n",
    "    def __init__(self):\n",
    "        self.lista=[]\n",
    "        \n",
    "    def add(self, num):\n",
    "        self.lista.append(num)\n",
    "        \n",
    "    def fprint(self):\n",
    "        print(self.lista)\n",
    "def plus(a, b):\n",
    "    c = a + b\n",
    "    return c\n",
    "        \n",
    "p1=Cvalue()\n",
    "p1.add(1)\n",
    "p1.add(2)\n",
    "p1.add(3)\n",
    "p1.fprint()"
   ]
  },
  {
   "cell_type": "code",
   "execution_count": 8,
   "id": "9e6d581a",
   "metadata": {},
   "outputs": [
    {
     "name": "stdout",
     "output_type": "stream",
     "text": [
      "[1, 2, 3]\n",
      "[1, 2, 3]\n",
      "30\n"
     ]
    }
   ],
   "source": [
    "#p262.py\n",
    "import mex1\n",
    "\n",
    "p2 = mex1.Cvalue()\n",
    "p2.add(1)\n",
    "p2.add(2)\n",
    "p2.add(3)\n",
    "p2.fprint()\n",
    "value = mex1.plus(10, 20)\n",
    "print(value)"
   ]
  },
  {
   "cell_type": "code",
   "execution_count": 13,
   "id": "09f6a2ca",
   "metadata": {},
   "outputs": [],
   "source": [
    "#mex4.py #p265  #책에 selflista.append(num)-> self.lista.append(num) 수정해야 함. \n",
    "\n",
    "\n",
    "class Cvalue:\n",
    "    \n",
    "    def __init__(self):\n",
    "        self.lista=[]\n",
    "        \n",
    "    def add(self, num):\n",
    "        self.lista.append(num)#책에 selflista.append(num)-> self.lista.append(num)\n",
    "        \n",
    "    def fprint(self):\n",
    "        print(self.lista)\n",
    "def plus(a, b):\n",
    "    c = a + b\n",
    "    return c\n",
    "\n",
    "if __name__ == \"__main__\":\n",
    "        \n",
    "    p1=Cvalue()\n",
    "    p1.add(1)\n",
    "    p1.add(2)\n",
    "    p1.add(3)\n",
    "    p1.fprint()"
   ]
  },
  {
   "cell_type": "code",
   "execution_count": 14,
   "id": "b3641701",
   "metadata": {},
   "outputs": [
    {
     "name": "stdout",
     "output_type": "stream",
     "text": [
      "30\n"
     ]
    }
   ],
   "source": [
    "#p266.py\n",
    "from mex4 import plus\n",
    "\n",
    "value = plus(10, 20)\n",
    "print(value)"
   ]
  },
  {
   "cell_type": "code",
   "execution_count": 15,
   "id": "d340bf1e",
   "metadata": {},
   "outputs": [
    {
     "name": "stdout",
     "output_type": "stream",
     "text": [
      "Cvalue.cnum 0 p1.cnum 3\n",
      "Cvalue.cnum 0 p1.cnum 6\n",
      "Cvalue.cnum 0 p1.cnum 9\n",
      "Cvalue.cnum 0 p2.cnum 3\n",
      "Cvalue.cnum 0 p3.cnum 3\n"
     ]
    }
   ],
   "source": [
    "#p270.py\n",
    "class Cvalue:\n",
    "    cnum = 0\n",
    "    def add(self, num):\n",
    "        self.cnum = self.cnum + num\n",
    "p1 = Cvalue()\n",
    "p2 = Cvalue()\n",
    "p3 = Cvalue()\n",
    "\n",
    "a=p1.add(3)\n",
    "print(\"Cvalue.cnum\", Cvalue.cnum, \"p1.cnum\", p1.cnum)\n",
    "a=p1.add(3)\n",
    "print(\"Cvalue.cnum\", Cvalue.cnum, \"p1.cnum\", p1.cnum)\n",
    "a=p1.add(3)\n",
    "print(\"Cvalue.cnum\", Cvalue.cnum, \"p1.cnum\", p1.cnum)\n",
    "b=p2.add(3)\n",
    "print(\"Cvalue.cnum\", Cvalue.cnum, \"p2.cnum\", p2.cnum)\n",
    "c=p3.add(3)\n",
    "print(\"Cvalue.cnum\", Cvalue.cnum, \"p3.cnum\", p3.cnum)"
   ]
  },
  {
   "cell_type": "code",
   "execution_count": 17,
   "id": "6e39f7b0",
   "metadata": {},
   "outputs": [
    {
     "name": "stdout",
     "output_type": "stream",
     "text": [
      "Cvalue.cnum 1 p1.cnum 3\n",
      "Cvalue.cnum 2 p1.cnum 6\n",
      "Cvalue.cnum 3 p1.cnum 9\n",
      "Cvalue.cnum 4 p2.cnum 6\n",
      "Cvalue.cnum 5 p3.cnum 7\n"
     ]
    }
   ],
   "source": [
    "#p271.py\n",
    "class Cvalue:\n",
    "    cnum = 0\n",
    "    def add(self, num):\n",
    "        self.cnum = self.cnum + num\n",
    "        Cvalue.cnum = Cvalue.cnum + 1\n",
    "p1 = Cvalue()\n",
    "p2 = Cvalue()\n",
    "p3 = Cvalue()\n",
    "\n",
    "a=p1.add(3)\n",
    "print(\"Cvalue.cnum\", Cvalue.cnum, \"p1.cnum\", p1.cnum)\n",
    "a=p1.add(3)\n",
    "print(\"Cvalue.cnum\", Cvalue.cnum, \"p1.cnum\", p1.cnum)\n",
    "a=p1.add(3)\n",
    "print(\"Cvalue.cnum\", Cvalue.cnum, \"p1.cnum\", p1.cnum)\n",
    "b=p2.add(3)\n",
    "print(\"Cvalue.cnum\", Cvalue.cnum, \"p2.cnum\", p2.cnum)\n",
    "c=p3.add(3)\n",
    "print(\"Cvalue.cnum\", Cvalue.cnum, \"p3.cnum\", p3.cnum)"
   ]
  },
  {
   "cell_type": "code",
   "execution_count": 19,
   "id": "20c2ef3e",
   "metadata": {},
   "outputs": [
    {
     "name": "stdout",
     "output_type": "stream",
     "text": [
      "addcnum 3\n",
      "cnum 3\n",
      "addcnum 6\n",
      "cnum 6\n",
      "addcnum 9\n",
      "cnum 9\n"
     ]
    }
   ],
   "source": [
    "#ㅔ272,py\n",
    "'''클래스멤버변수와 인스턴스 멤버변수는\n",
    "어디에서나 접근 가능한 멤버변수와 함수내에서만 접근가능한 지역변수를\n",
    "global을 이용 전역변수로 사용하도록 하는 것과 유사한 기능으로 이해를 위해\n",
    "아래 코드를 실행시켜 보자'''\n",
    "cnum = 0\n",
    "def add(num):\n",
    "    global cnum\n",
    "    cnum = cnum + num\n",
    "    print(\"addcnum\", cnum)\n",
    "add(3)\n",
    "print(\"cnum\", cnum)\n",
    "add(3)\n",
    "print(\"cnum\", cnum)\n",
    "add(3)\n",
    "print(\"cnum\", cnum)"
   ]
  },
  {
   "cell_type": "code",
   "execution_count": null,
   "id": "d210209c",
   "metadata": {},
   "outputs": [],
   "source": []
  }
 ],
 "metadata": {
  "kernelspec": {
   "display_name": "Python 3 (ipykernel)",
   "language": "python",
   "name": "python3"
  },
  "language_info": {
   "codemirror_mode": {
    "name": "ipython",
    "version": 3
   },
   "file_extension": ".py",
   "mimetype": "text/x-python",
   "name": "python",
   "nbconvert_exporter": "python",
   "pygments_lexer": "ipython3",
   "version": "3.9.13"
  }
 },
 "nbformat": 4,
 "nbformat_minor": 5
}
