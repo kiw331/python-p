{
  "nbformat": 4,
  "nbformat_minor": 0,
  "metadata": {
    "colab": {
      "provenance": []
    },
    "kernelspec": {
      "name": "python3",
      "display_name": "Python 3"
    },
    "language_info": {
      "name": "python"
    }
  },
  "cells": [
    {
      "cell_type": "markdown",
      "source": [
        "파이썬 워크북 10장 문제"
      ],
      "metadata": {
        "id": "LQu6Ft2G2xRF"
      }
    },
    {
      "cell_type": "code",
      "execution_count": null,
      "metadata": {
        "id": "rVlZuiVB1pEe"
      },
      "outputs": [],
      "source": [
        "# 문제 1-1\n",
        "\n",
        "# turtleex1.py\n",
        "import turtle\n",
        "for x in range(1, 100, 1):\n",
        "    turtle.forward(x)\n",
        "    turtle.left(90)"
      ]
    },
    {
      "cell_type": "code",
      "source": [
        "# 문제 1-2\n",
        "\n",
        "# turtleex3.py\n",
        "import turtle\n",
        "p=turtle.Pen()\n",
        "\n",
        "for x in range(1, 100, 1):\n",
        "    p.forward(x)\n",
        "    p.left(90)"
      ],
      "metadata": {
        "id": "mHTdIcZA3CFZ"
      },
      "execution_count": null,
      "outputs": []
    },
    {
      "cell_type": "code",
      "source": [
        "# 문제 1-3\n",
        "\n",
        "# turtleex2.py\n",
        "\n",
        "from turtle import *\n",
        "for x in range(1, 100, 1):\n",
        "    forward(x)\n",
        "    left(90)"
      ],
      "metadata": {
        "id": "wLzJnWJl3Cva"
      },
      "execution_count": null,
      "outputs": []
    },
    {
      "cell_type": "code",
      "source": [
        "# 문제 2\n",
        "\n",
        "class Cadd:\n",
        "    def __init__(self, a=1, b=2):\n",
        "        self.x=a\n",
        "        self.y=b\n",
        "\n",
        "    def fadd(self):\n",
        "        self.hap=self.x+self.y\n",
        "        return self.hap\n",
        "\n",
        "    def fdiv(self):\n",
        "        self.mok=self.x/self.y\n",
        "        return self.mok\n",
        "\n",
        "obj=Cadd(10,20)\n",
        "ohap=obj.fadd()\n",
        "omok=obj.fdiv()\n",
        "print(\"ohap의 값은\", ohap)\n",
        "print(\"omok의 값은\", omok)"
      ],
      "metadata": {
        "colab": {
          "base_uri": "https://localhost:8080/"
        },
        "id": "nA8DDzI44B5Z",
        "outputId": "ceb2b6ec-bf6e-4b78-9a9f-93956667ca78"
      },
      "execution_count": null,
      "outputs": [
        {
          "output_type": "stream",
          "name": "stdout",
          "text": [
            "ohap의 값은 30\n",
            "omok의 값은 0.5\n"
          ]
        }
      ]
    },
    {
      "cell_type": "code",
      "source": [
        "# 문제 3\n",
        "\n",
        "import week2\n",
        "\n",
        "obj=week2.Cadd(10,20)\n",
        "ohap=obj.fadd()\n",
        "omok=obj.fdiv()\n",
        "print(\"ohap의 값은\", ohap)\n",
        "print(\"omok의 값은\", omok)"
      ],
      "metadata": {
        "id": "bYJkEV2r7L0M"
      },
      "execution_count": null,
      "outputs": []
    },
    {
      "cell_type": "code",
      "source": [
        "# 문제 4\n",
        "\n",
        "class Cadd:\n",
        "    def __init__(self, a=1, b=2):\n",
        "        self.x=a\n",
        "        self.y=b\n",
        "\n",
        "    def fadd(self):\n",
        "        self.hap=self.x+self.y\n",
        "        return self.hap\n",
        "\n",
        "    def fdiv(self):\n",
        "        self.mok=self.x/self.y\n",
        "        return self.mok\n",
        "\n",
        "if __name__==\"__main__\":\n",
        "    obj=Cadd(10,20)\n",
        "    ohap=obj.fadd()\n",
        "    omok=obj.fdiv()\n",
        "    print(\"ohap의 값은\", ohap)\n",
        "    print(\"omok의 값은\", omok)"
      ],
      "metadata": {
        "colab": {
          "base_uri": "https://localhost:8080/"
        },
        "id": "crlCnj_77XhL",
        "outputId": "529e200b-ec53-4c8d-d1c8-e12785977520"
      },
      "execution_count": null,
      "outputs": [
        {
          "output_type": "stream",
          "name": "stdout",
          "text": [
            "ohap의 값은 30\n",
            "omok의 값은 0.5\n"
          ]
        }
      ]
    },
    {
      "cell_type": "code",
      "source": [
        "# 문제 5\n",
        "\n",
        "from week2 import * //from week2 import Cadd\n",
        "obj=Cadd(10,20)\n",
        "ohap=obj.fadd()\n",
        "omok=obj.fdiv()\n",
        "print(\"ohap의 값은\", ohap)\n",
        "print(\"omok의 값은\", omok)"
      ],
      "metadata": {
        "id": "Bo0cHdJt7n90"
      },
      "execution_count": null,
      "outputs": []
    },
    {
      "cell_type": "code",
      "source": [
        "# 문제 6\n",
        "\n",
        "class Ccarmake:\n",
        "    carcount = 0 # 총 생산 자동차 대수를 저장하는 클래스 변수\n",
        "    def ccolor(cls):\n",
        "        colors = [\"Red\", \"Blue\", \"Green\", \"Yellow\"] # 다양한 색상의 자동차를 만들기 위한 리스트\n",
        "        car_color = colors[cls.carcount % len(colors)] # carcount를 인덱스로 활용색상 결정\n",
        "        cls.carcount += 1 # 자동차 생성 시 carcount 증가\n",
        "        return car_color\n",
        "\n",
        "# 색상이 결정된 자동차 생성\n",
        "car1 = Ccarmake()\n",
        "car2 = Ccarmake()\n",
        "car3 = Ccarmake()\n",
        "car4 = Ccarmake()\n",
        "\n",
        "# 총 생산 자동차 대수 출력\n",
        "print(\"총 생산 자동차 대수:\", Ccarmake.carcount)"
      ],
      "metadata": {
        "colab": {
          "base_uri": "https://localhost:8080/"
        },
        "id": "pQO5EL-_7tQv",
        "outputId": "d6660ee4-3ef7-40ba-bc91-e6d10cceb932"
      },
      "execution_count": null,
      "outputs": [
        {
          "output_type": "stream",
          "name": "stdout",
          "text": [
            "총 생산 자동차 대수: 0\n"
          ]
        }
      ]
    }
  ]
}