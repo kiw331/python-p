{
 "cells": [
  {
   "cell_type": "code",
   "execution_count": 1,
   "id": "56608ee6",
   "metadata": {},
   "outputs": [
    {
     "name": "stdout",
     "output_type": "stream",
     "text": [
      "20 - 5 = 15 이다\n",
      "20 * 5 = 100 이다\n",
      "20 / 5 = 4.0 이다\n"
     ]
    }
   ],
   "source": [
    "#p44_45.py #책에서 코드 p45정답제시시a->na, b->nb로 변경해야함\n",
    "na = 20\n",
    "nb = 5\n",
    "result = na - nb\n",
    "print(na, \"-\", nb, \"=\", result, \"이다\" )\n",
    "result = na * nb\n",
    "print(na, \"*\", nb, \"=\", result, \"이다\")\n",
    "result = na / nb\n",
    "print(na, \"/\", nb, \"=\", result, \"이다\")"
   ]
  },
  {
   "cell_type": "code",
   "execution_count": null,
   "id": "2e18e2e6",
   "metadata": {},
   "outputs": [],
   "source": [
    "#p121_1.py #  책 코드에 i n 띄어쓰기 in 으로 수정해야함\n",
    "for j in range(1, 6, 1):\n",
    "    for i in range(1, 10, 1):\n",
    "        print(j, \"*\", i, \"=\", j * i )"
   ]
  },
  {
   "cell_type": "code",
   "execution_count": null,
   "id": "c351a09a",
   "metadata": {},
   "outputs": [],
   "source": [
    "#p136.py  #  print(lista)가 프린트문 중 가장먼저 실행해야 오른쪽 실행결과가 나옴\n",
    "lista=[1, \"python\", 3.9, '프로그래밍']\n",
    "print(lista)\n",
    "print(lista[0])\n",
    "print(lista[1])\n",
    "print(lista[2])\n",
    "print(lista[3])"
   ]
  },
  {
   "cell_type": "code",
   "execution_count": null,
   "id": "d40c656e",
   "metadata": {},
   "outputs": [],
   "source": [
    "#p142_2.py  #리스트명 책에 nc를 na로 수정\n",
    "na = [0, 6, 1, 9, 4]\n",
    "k = len(na)\n",
    "print(k)"
   ]
  },
  {
   "cell_type": "code",
   "execution_count": null,
   "id": "fa9d4511",
   "metadata": {},
   "outputs": [],
   "source": [
    "#p143_1.py #리스트명 책에 nc를 na로 수정\n",
    "na = [0, 6, 1, 9, 4]\n",
    "k = len(na)\n",
    "for i in range(0, k, 1):\n",
    "    print(na[i])"
   ]
  },
  {
   "cell_type": "code",
   "execution_count": null,
   "id": "77be0212",
   "metadata": {},
   "outputs": [],
   "source": [
    "#p145_2.py #책에  range(0, 1, 3)을 range(0, 3, 1)로 수정\n",
    "a = (1, 2, 3)\n",
    "for sa in range(0, 3, 1):\n",
    "    print(a[sa])"
   ]
  },
  {
   "cell_type": "code",
   "execution_count": null,
   "id": "c1628569",
   "metadata": {},
   "outputs": [],
   "source": [
    "#p143_2.py #리스트명  책에 list fmf nc로 수정\n",
    "#한줄코드 2줄로 표시시 역슬래시(\\)사용\n",
    "str = 'Hello, World!'\n",
    "print(len(str))\n",
    "nc = [1, 2, 3, 4, 5]\n",
    "print(len(nc))\n",
    "dict = {'name': 'John', 'age':\\\n",
    "       25,  'city':'New York'}\n",
    "print(len(dict))\n",
    "set = {1, 2, 3, 4, 5}\n",
    "print(len(set))"
   ]
  },
  {
   "cell_type": "code",
   "execution_count": null,
   "id": "3097add9",
   "metadata": {},
   "outputs": [],
   "source": [
    "#p158_1.py # 책에 if 조건문 다음 들여쓰기 안되어 있음\n",
    "numbers = [1, 3, 5, 7, 9]\n",
    "\n",
    "if 7 in numbers:\n",
    "    print(\"숫자 7이 리스트에 포함되어 있습니다\")\n",
    "else:\n",
    "    print(\"숫자 7이 리스트에 포함되어 있지 않습니다\")"
   ]
  },
  {
   "cell_type": "code",
   "execution_count": null,
   "id": "5113ff11",
   "metadata": {},
   "outputs": [],
   "source": [
    "#p158_2.py# 책에 if 조건문 다음 들여쓰기 안되어 있음\n",
    "person = {\"name\":\"john\", \"age\":30, \"city\":\"NewYork\"}\n",
    "\n",
    "if \"name\" in person:\n",
    "    print(\"'name' 키가 딕셔너리에 포함되어 있습니다.\")\n",
    "else:\n",
    "    print(\"'name'키가 딕셔너리에 포함되어 있지 않습니다\")"
   ]
  },
  {
   "cell_type": "code",
   "execution_count": null,
   "id": "832f0616",
   "metadata": {},
   "outputs": [],
   "source": [
    "#p171.py#함수 호출시 함수명 책에fadd->funca로 변경해야함\n",
    "#print문 책에 a->na, b->nb로 \n",
    "\n",
    "def funca(pa, pb):\n",
    "    nc = pa + pb\n",
    "\n",
    "na = 10\n",
    "nb = 11\n",
    "    \n",
    "funca(na, nb)\n",
    "print(na, \"+\", nb, \"=\", nc)"
   ]
  },
  {
   "cell_type": "code",
   "execution_count": null,
   "id": "7af4f4d7",
   "metadata": {},
   "outputs": [],
   "source": [
    "#p172.py # 책에 a->na, b->nb\n",
    "def funca(pa, pb):\n",
    "    nc = pa + pb\n",
    "    return nc\n",
    "\n",
    "na = 10\n",
    "nb = 11\n",
    "    \n",
    "nd=funca(na, nb)\n",
    "print(na, \"+\", nb, \"=\", nd)"
   ]
  },
  {
   "cell_type": "code",
   "execution_count": null,
   "id": "a486f259",
   "metadata": {},
   "outputs": [],
   "source": [
    "#p227_2[step 5].py # 중간에 명령문이 2번 들여쓰기 안된상태로 쓰임\n",
    "su=[5, 4, 7, 10, 6]\n",
    "\n",
    "def fmax(a, b, c, d, e):\n",
    "    fu=[]\n",
    "    fu.append(a)\n",
    "    fu.append(b)\n",
    "    fu.append(c)\n",
    "    fu.append(d)\n",
    "    fu.append(e)\n",
    "    max=fu[0]\n",
    "    for sfu in fu:\n",
    "        if max < sfu:\n",
    "            max=sfu\n",
    "    return max\n",
    "       \n",
    "max=fmax(su[0],su[1],su[2],su[3],su[4])\n",
    "print(\"최대값 max는\", max)"
   ]
  },
  {
   "cell_type": "code",
   "execution_count": null,
   "id": "22934afa",
   "metadata": {},
   "outputs": [],
   "source": [
    "#mex4.py #p265  #책에 selflista.append(num)-> self.lista.append(num)\n",
    "\n",
    "class Cvalue:\n",
    "    \n",
    "    def __init__(self):\n",
    "        self.lista=[]\n",
    "        \n",
    "    def add(self, num):\n",
    "        self.lista.append(num)#책에 selflista.append(num)-> self.lista.append(num)\n",
    "        \n",
    "    def fprint(self):\n",
    "        print(self.lista)\n",
    "def plus(a, b):\n",
    "    c = a + b\n",
    "    return c\n",
    "\n",
    "if __name__ == \"__namin__\":\n",
    "        \n",
    "    p1=Cvalue()\n",
    "    p1.add(1)\n",
    "    p1.add(2)\n",
    "    p1.add(3)\n",
    "    p1.fprint()"
   ]
  },
  {
   "cell_type": "code",
   "execution_count": null,
   "id": "1dff0367",
   "metadata": {},
   "outputs": [],
   "source": [
    "#p345_2.py #책에 numa[-1]->muna[-1]로 교체해야함\n",
    "muna = \"python\"\n",
    "print(muna[0])\n",
    "print(muna[-1])"
   ]
  },
  {
   "cell_type": "code",
   "execution_count": null,
   "id": "644958bc",
   "metadata": {},
   "outputs": [],
   "source": [
    "#p289_1.py #코드 자체를 다 교체해야함 # 오른쪽 그림도 교체해야함\n",
    "import tkinter\n",
    "oroot = tkinter.Tk()\n",
    "oroot.geometry(\"200x100\")\n",
    "obutton1 = tkinter.Button(oroot, text=\"PUSH1\")\n",
    "obutton2 = tkinter.Button(oroot, text=\"PUSH2\")\n",
    "obutton3 = tkinter.Button(oroot, text=\"PUSH3\")\n",
    "obutton1.grid(row=1, column=0)\n",
    "obutton2.grid(row=1, column=1)\n",
    "obutton3.grid(row=0, column=4)\n",
    "oroot.mainloop()"
   ]
  }
 ],
 "metadata": {
  "kernelspec": {
   "display_name": "Python 3 (ipykernel)",
   "language": "python",
   "name": "python3"
  },
  "language_info": {
   "codemirror_mode": {
    "name": "ipython",
    "version": 3
   },
   "file_extension": ".py",
   "mimetype": "text/x-python",
   "name": "python",
   "nbconvert_exporter": "python",
   "pygments_lexer": "ipython3",
   "version": "3.9.13"
  }
 },
 "nbformat": 4,
 "nbformat_minor": 5
}
