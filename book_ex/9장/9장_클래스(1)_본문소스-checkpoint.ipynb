{
 "cells": [
  {
   "cell_type": "code",
   "execution_count": 1,
   "id": "d66d6545",
   "metadata": {},
   "outputs": [
    {
     "name": "stdout",
     "output_type": "stream",
     "text": [
      "멤버함수(메소드)\n"
     ]
    }
   ],
   "source": [
    "#p236.py\n",
    "class Cexm:\n",
    "    def fsam(self):\n",
    "        print(\"멤버함수(메소드)\")\n",
    "\n",
    "ca = Cexm()\n",
    "ca.fsam()"
   ]
  },
  {
   "cell_type": "code",
   "execution_count": 2,
   "id": "214cfaeb",
   "metadata": {},
   "outputs": [
    {
     "name": "stdout",
     "output_type": "stream",
     "text": [
      "멤버함수(메소드)\n",
      "멤버변수 x 는 10\n"
     ]
    }
   ],
   "source": [
    "#p237.py\n",
    "class Cexm:\n",
    "    def fsam(self):\n",
    "        print(\"멤버함수(메소드)\")\n",
    "    def fsbm(self, pa):\n",
    "        self.x = pa\n",
    "        print(\"멤버변수 x 는\", self.x)\n",
    "\n",
    "ca = Cexm()\n",
    "ca.fsam()\n",
    "ca.fsbm(10)"
   ]
  },
  {
   "cell_type": "code",
   "execution_count": 3,
   "id": "2c6fd23c",
   "metadata": {},
   "outputs": [
    {
     "name": "stdout",
     "output_type": "stream",
     "text": [
      "멤버변수 x 는 10\n",
      "멤버함수(메소드)\n"
     ]
    }
   ],
   "source": [
    "#p239.py\n",
    "class Cexm:\n",
    "    def fsam(self):\n",
    "        print(\"멤버함수(메소드)\")\n",
    "    def __init__(self, pa):\n",
    "        self.x = pa\n",
    "        print(\"멤버변수 x 는\", self.x)\n",
    "\n",
    "ca = Cexm(10)\n",
    "ca.fsam()\n"
   ]
  },
  {
   "cell_type": "code",
   "execution_count": 4,
   "id": "b371fb36",
   "metadata": {},
   "outputs": [
    {
     "name": "stdout",
     "output_type": "stream",
     "text": [
      "멤버 변수 x 는 10\n",
      "변수 y 는 20\n",
      "멤버 함수(메소드)\n"
     ]
    }
   ],
   "source": [
    "#p240.py\n",
    "class Cexm:\n",
    "    def fssam():\n",
    "         print(\"멤버함수가 아니다\")\n",
    "    def fsam(self):\n",
    "         print(\"멤버 함수(메소드)\")\n",
    "    def __init__(self, pa, pb): #------------> ①\n",
    "          self.x = pa\n",
    "          y = pb\n",
    "          print(\"멤버 변수 x 는\", self.x) #-> ③\n",
    "          print(\"변수 y 는\", y) #-> ③\n",
    "\n",
    "ca = Cexm(10, 20)# --------------------------> ②\n",
    "ca.fsam()"
   ]
  },
  {
   "cell_type": "code",
   "execution_count": 6,
   "id": "978f2f16",
   "metadata": {},
   "outputs": [
    {
     "name": "stdout",
     "output_type": "stream",
     "text": [
      "abc\n"
     ]
    }
   ],
   "source": [
    "#p243_1.py\n",
    "stra = \"abc\"\n",
    "print(stra)\n"
   ]
  },
  {
   "cell_type": "code",
   "execution_count": 5,
   "id": "a18a983c",
   "metadata": {},
   "outputs": [
    {
     "name": "stdout",
     "output_type": "stream",
     "text": [
      "abc\n",
      "Abc\n"
     ]
    }
   ],
   "source": [
    "#p243_2.py\n",
    "strb=str(\"abc\")\n",
    "print(strb)\n",
    "strc=strb.capitalize()\n",
    "print(strc)"
   ]
  },
  {
   "cell_type": "code",
   "execution_count": 7,
   "id": "2f2db694",
   "metadata": {},
   "outputs": [
    {
     "name": "stdout",
     "output_type": "stream",
     "text": [
      "클래스만들기\n",
      "메소드 fadder(9,5)호출 결과값은 14 이다\n"
     ]
    }
   ],
   "source": [
    "#p245_1.py\n",
    "class Cexm:\n",
    "    def fsam(self):\n",
    "        print(\"클래스만들기\")\n",
    "    \n",
    "    def fadder(self, a,b ):\n",
    "        self.result = a + b\n",
    "        return self.result\n",
    "cal1 = Cexm()\n",
    "cal1.fsam()\n",
    "c=cal1.fadder(9,5)\n",
    "print(\"메소드 fadder(9,5)호출 결과값은\", c,\"이다\")"
   ]
  },
  {
   "cell_type": "code",
   "execution_count": 9,
   "id": "a0954c0d",
   "metadata": {},
   "outputs": [
    {
     "name": "stdout",
     "output_type": "stream",
     "text": [
      "3\n",
      "7\n",
      "3\n",
      "10\n"
     ]
    }
   ],
   "source": [
    "#p245_2.py\n",
    "class Calculator:\n",
    "    def setinit(self):\n",
    "        self.result = 0\n",
    "    \n",
    "    def adder(self, num):\n",
    "        self.result = self.result + num\n",
    "        return self.result\n",
    "cal1 = Calculator()\n",
    "cal1.setinit()\n",
    "cal2 = Calculator()\n",
    "cal2.setinit()\n",
    "print(cal1.adder(3))\n",
    "print(cal1.adder(4))\n",
    "print(cal2.adder(3))\n",
    "print(cal2.adder(7))"
   ]
  },
  {
   "cell_type": "code",
   "execution_count": 11,
   "id": "b3d8f155",
   "metadata": {},
   "outputs": [
    {
     "name": "stdout",
     "output_type": "stream",
     "text": [
      "3\n",
      "7\n",
      "3\n",
      "10\n"
     ]
    }
   ],
   "source": [
    "#p246.py\n",
    "class Calculator:\n",
    "    def __init__(self):\n",
    "        self.result = 0\n",
    "    \n",
    "    def adder(self, num):\n",
    "        self.result = self.result + num\n",
    "        return self.result\n",
    "cal1 = Calculator()\n",
    "cal2 = Calculator()\n",
    "\n",
    "print(cal1.adder(3))\n",
    "print(cal1.adder(4))\n",
    "print(cal2.adder(3))\n",
    "print(cal2.adder(7))"
   ]
  },
  {
   "cell_type": "code",
   "execution_count": 12,
   "id": "05417634",
   "metadata": {},
   "outputs": [
    {
     "name": "stdout",
     "output_type": "stream",
     "text": [
      "차량번호 2023\n",
      "속도는 90\n"
     ]
    }
   ],
   "source": [
    "#p247.py\n",
    "class Car:\n",
    "    def __init__(self, pnum, pspeed):\n",
    "        self.num = pnum\n",
    "        self.speed = pspeed        \n",
    "        \n",
    "new_car = Car(2023, 90)\n",
    "print(\"차량번호\", new_car.num)\n",
    "print(\"속도는\", new_car.speed)"
   ]
  },
  {
   "cell_type": "code",
   "execution_count": 13,
   "id": "5f00b377",
   "metadata": {},
   "outputs": [
    {
     "name": "stdout",
     "output_type": "stream",
     "text": [
      "차량번호 2023\n",
      "속도는 90\n"
     ]
    }
   ],
   "source": [
    "#p248.py\n",
    "class Car:\n",
    "    def __init__(self, pnum, pspeed):\n",
    "        self.num = pnum\n",
    "        self.speed = pspeed\n",
    "    def fprint(self):\n",
    "        print(\"차량번호\", self.num)\n",
    "        print(\"속도는\", self.speed)        \n",
    "        \n",
    "new_car = Car(2023, 90)\n",
    "new_car.fprint()\n"
   ]
  },
  {
   "cell_type": "code",
   "execution_count": null,
   "id": "edd947fe",
   "metadata": {},
   "outputs": [],
   "source": []
  }
 ],
 "metadata": {
  "kernelspec": {
   "display_name": "Python 3 (ipykernel)",
   "language": "python",
   "name": "python3"
  },
  "language_info": {
   "codemirror_mode": {
    "name": "ipython",
    "version": 3
   },
   "file_extension": ".py",
   "mimetype": "text/x-python",
   "name": "python",
   "nbconvert_exporter": "python",
   "pygments_lexer": "ipython3",
   "version": "3.9.13"
  }
 },
 "nbformat": 4,
 "nbformat_minor": 5
}
