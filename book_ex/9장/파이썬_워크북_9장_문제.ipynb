{
  "nbformat": 4,
  "nbformat_minor": 0,
  "metadata": {
    "colab": {
      "provenance": []
    },
    "kernelspec": {
      "name": "python3",
      "display_name": "Python 3"
    },
    "language_info": {
      "name": "python"
    }
  },
  "cells": [
    {
      "cell_type": "markdown",
      "source": [
        "파이썬 워크북 9장 문제"
      ],
      "metadata": {
        "id": "0yDOXmLaywMl"
      }
    },
    {
      "cell_type": "code",
      "execution_count": null,
      "metadata": {
        "colab": {
          "base_uri": "https://localhost:8080/"
        },
        "id": "6iMXB6XSynsc",
        "outputId": "a6152b25-9d0e-4a88-ebf4-8cd1a94eff12"
      },
      "outputs": [
        {
          "output_type": "stream",
          "name": "stdout",
          "text": [
            "객체 obj 내의 인스턴스 변수 x의 값은 10\n",
            "객체 obj 내의 인스턴스 변수 y의 값은 20\n",
            "객체 obj 내의 인스턴스 변수 hap의 값은 30\n"
          ]
        }
      ],
      "source": [
        "# 문제 1\n",
        "\n",
        "class Cadd:\n",
        "    def fadd(self, a, b):\n",
        "        self.x=a\n",
        "        self.y=b\n",
        "        self.hap=self.x+self.y\n",
        "\n",
        "obj=Cadd()\n",
        "obj.fadd(10, 20)\n",
        "print(\"객체 obj 내의 인스턴스 변수 x의 값은\", obj.x)\n",
        "print(\"객체 obj 내의 인스턴스 변수 y의 값은\", obj.y)\n",
        "print(\"객체 obj 내의 인스턴스 변수 hap의 값은\", obj.hap)"
      ]
    },
    {
      "cell_type": "code",
      "source": [
        "# 문제 2\n",
        "\n",
        "class Cadd:\n",
        "    def fadd(self, a,b):\n",
        "        x=a\n",
        "        y=b\n",
        "        hap=x+y\n",
        "        return hap\n",
        "\n",
        "obj=Cadd()\n",
        "ohap=obj.fadd(10, 20)\n",
        "\n",
        "print(\"ohap의 값은\", ohap)"
      ],
      "metadata": {
        "colab": {
          "base_uri": "https://localhost:8080/"
        },
        "id": "Yp1Y4-zMy8km",
        "outputId": "e3004371-53b2-49b7-9292-6f3bbb5ae662"
      },
      "execution_count": null,
      "outputs": [
        {
          "output_type": "stream",
          "name": "stdout",
          "text": [
            "ohap의 값은 30\n"
          ]
        }
      ]
    },
    {
      "cell_type": "code",
      "source": [
        "# 문제 3\n",
        "\n",
        "def fadd(a=1,b=2):\n",
        "    x=a\n",
        "    y=b\n",
        "    hap=x+y\n",
        "    return hap\n",
        "\n",
        "ohap=fadd(10, 20)\n",
        "print(\"ohap의 값은\", ohap)\n",
        "ohap2=fadd(10)\n",
        "print(\"ohap2의 값은\", ohap2)\n",
        "ohap3=fadd()\n",
        "print(\"ohap2의 값은\", ohap3)"
      ],
      "metadata": {
        "colab": {
          "base_uri": "https://localhost:8080/"
        },
        "id": "15siPY-azFKu",
        "outputId": "26b5b6d5-7f28-4ec7-cef5-31dcc6c0332a"
      },
      "execution_count": null,
      "outputs": [
        {
          "output_type": "stream",
          "name": "stdout",
          "text": [
            "ohap의 값은 30\n",
            "ohap2의 값은 12\n",
            "ohap2의 값은 3\n"
          ]
        }
      ]
    },
    {
      "cell_type": "code",
      "source": [
        "# 문제 4\n",
        "\n",
        "class Cadd:\n",
        "    def fadd(self, a=1, b=2):\n",
        "        self.x=a\n",
        "        self.y=b\n",
        "        self.hap=self.x+self.y\n",
        "\n",
        "obj=Cadd()\n",
        "obj.fadd(10, 20)\n",
        "print(\"객체 obj 내의 인스턴스 변수 hap의 값은\", obj.hap)\n",
        "obj.fadd(10)\n",
        "print(\"객체 obj 내의 인스턴스 변수 hap의 값은\", obj.hap)\n",
        "obj.fadd()\n",
        "print(\"객체 obj 내의 인스턴스 변수 hap의 값은\", obj.hap)"
      ],
      "metadata": {
        "colab": {
          "base_uri": "https://localhost:8080/"
        },
        "id": "YvRkR7SYzPAc",
        "outputId": "8a811f0d-f038-4aa5-c08c-5f1c85f6651b"
      },
      "execution_count": null,
      "outputs": [
        {
          "output_type": "stream",
          "name": "stdout",
          "text": [
            "객체 obj 내의 인스턴스 변수 hap의 값은 30\n",
            "객체 obj 내의 인스턴스 변수 hap의 값은 12\n",
            "객체 obj 내의 인스턴스 변수 hap의 값은 3\n"
          ]
        }
      ]
    },
    {
      "cell_type": "code",
      "source": [
        "# 문제 5\n",
        "\n",
        "class Cadd:\n",
        "    def fadd(self, a=1, b=2):\n",
        "        self.x=a\n",
        "        self.y=b\n",
        "        self.hap=self.x+self.y\n",
        "        return self.hap\n",
        "obj=Cadd()\n",
        "ohap1=obj.fadd(10, 20)\n",
        "print(\"ohp1 값은\", ohap1)\n",
        "ohap2=obj.fadd(10)\n",
        "print(\"ohp1 값은\", ohap2)\n",
        "ohap3=obj.fadd()\n",
        "print(\"ohp1 값은\", ohap3)"
      ],
      "metadata": {
        "colab": {
          "base_uri": "https://localhost:8080/"
        },
        "id": "e6SXygcMzW7y",
        "outputId": "39dd7f8c-06ba-4a5e-e261-3767fcacf86a"
      },
      "execution_count": null,
      "outputs": [
        {
          "output_type": "stream",
          "name": "stdout",
          "text": [
            "ohp1 값은 30\n",
            "ohp1 값은 12\n",
            "ohp1 값은 3\n"
          ]
        }
      ]
    },
    {
      "cell_type": "code",
      "source": [
        "# 문제 6\n",
        "\n",
        "class Cadd:\n",
        "    def __init__(self, a=1, b=2):\n",
        "        self.x=a\n",
        "        self.y=b\n",
        "        self.hap=self.x+self.y\n",
        "obj=Cadd(10,20)\n",
        "print(\"obj 객체 내의 인스턴스 hap의 값은\", obj.hap)"
      ],
      "metadata": {
        "colab": {
          "base_uri": "https://localhost:8080/"
        },
        "id": "5uHjmtqez7M1",
        "outputId": "fee20916-17ee-4573-817a-aba39620e457"
      },
      "execution_count": null,
      "outputs": [
        {
          "output_type": "stream",
          "name": "stdout",
          "text": [
            "obj 객체 내의 인스턴스 hap의 값은 30\n"
          ]
        }
      ]
    },
    {
      "cell_type": "code",
      "source": [
        "# 문제 7\n",
        "\n",
        "class Cadd:\n",
        "    def __init__(self, a=1, b=2):\n",
        "        self.x=a\n",
        "        self.y=b\n",
        "    def fadd(self):\n",
        "        self.hap=self.x+self.y\n",
        "        return self.hap\n",
        "\n",
        "\n",
        "obj=Cadd(10,20)\n",
        "ohap=obj.fadd()\n",
        "print(\"ohap의 값은\", ohap)"
      ],
      "metadata": {
        "colab": {
          "base_uri": "https://localhost:8080/"
        },
        "id": "_gmbuYg00sON",
        "outputId": "891d3416-2cf5-4d64-8932-69fc68d5439a"
      },
      "execution_count": null,
      "outputs": [
        {
          "output_type": "stream",
          "name": "stdout",
          "text": [
            "ohap의 값은 30\n"
          ]
        }
      ]
    },
    {
      "cell_type": "code",
      "source": [
        "# 문제 8\n",
        "\n",
        "class Cadd:\n",
        "    def __init__(self, a=1, b=2):\n",
        "        self.x=a\n",
        "        self.y=b\n",
        "    def fadd(self):\n",
        "        self.hap=self.x+self.y\n",
        "        return self.hap\n",
        "    def fdiv(self):\n",
        "        self.mok=self.x/self.y\n",
        "        return self.mok\n",
        "\n",
        "\n",
        "obj=Cadd(10,20)\n",
        "ohap=obj.fadd()\n",
        "omok=obj.fdiv()\n",
        "print(\"ohap의 값은\", ohap)\n",
        "print(\"omok의 값은\", omok)"
      ],
      "metadata": {
        "colab": {
          "base_uri": "https://localhost:8080/"
        },
        "id": "GrtDL5W51H0X",
        "outputId": "9160b914-965a-41c7-e5fe-57bac7767630"
      },
      "execution_count": null,
      "outputs": [
        {
          "output_type": "stream",
          "name": "stdout",
          "text": [
            "ohap의 값은 30\n",
            "omok의 값은 0.5\n"
          ]
        }
      ]
    }
  ]
}