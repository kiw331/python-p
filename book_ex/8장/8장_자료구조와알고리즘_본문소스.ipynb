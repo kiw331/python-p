{
 "cells": [
  {
   "cell_type": "code",
   "execution_count": 3,
   "id": "ac7c587c",
   "metadata": {},
   "outputs": [
    {
     "name": "stdout",
     "output_type": "stream",
     "text": [
      "na = 10 nb = 11\n",
      "na = 11 nb = 10\n"
     ]
    }
   ],
   "source": [
    "#p207_1.py\n",
    "na=10\n",
    "nb=11\n",
    "print(\"na =\", na, \"nb =\", nb)\n",
    "temp=na\n",
    "na=nb\n",
    "nb=temp\n",
    "print(\"na =\", na, \"nb =\", nb)"
   ]
  },
  {
   "cell_type": "code",
   "execution_count": 4,
   "id": "93cf36f2",
   "metadata": {},
   "outputs": [
    {
     "name": "stdout",
     "output_type": "stream",
     "text": [
      "ca[0]의 값은 10 ca[1]의 값은 11\n",
      "ca[0]의 값은 11 ca[1]의 값은 10\n"
     ]
    }
   ],
   "source": [
    "#p207_2.py\n",
    "ca=[10,11]\n",
    "print(\"ca[0]의 값은\", ca[0], \"ca[1]의 값은\", ca[1])\n",
    "temp=ca[0]\n",
    "ca[0]=ca[1]\n",
    "ca[1]=temp\n",
    "print(\"ca[0]의 값은\", ca[0], \"ca[1]의 값은\", ca[1])"
   ]
  },
  {
   "cell_type": "code",
   "execution_count": 5,
   "id": "d7bc8657",
   "metadata": {},
   "outputs": [
    {
     "name": "stdout",
     "output_type": "stream",
     "text": [
      "ca[0]= 10 ca[1]= 11\n",
      "ca[0]= 11 ca[1]= 10\n"
     ]
    }
   ],
   "source": [
    "#p208.py\n",
    "ca=[10,11]\n",
    "print(\"ca[0]=\", ca[0], \"ca[1]=\", ca[1])\n",
    "temp=ca[0]\n",
    "ca[0]=ca[1]\n",
    "ca[1]=temp\n",
    "print(\"ca[0]=\", ca[0], \"ca[1]=\", ca[1])"
   ]
  },
  {
   "cell_type": "code",
   "execution_count": 10,
   "id": "9d65f4d6",
   "metadata": {},
   "outputs": [
    {
     "name": "stdout",
     "output_type": "stream",
     "text": [
      "ca[0]의 값은 10 ca[1]의 값은 11\n",
      "ca[0]의 값은 10 ca[1]의 값은 11\n"
     ]
    }
   ],
   "source": [
    "#p209.py\n",
    "def funca(na, nb):\n",
    "    temp=na\n",
    "    na=nb\n",
    "    nb=temp\n",
    "   \n",
    "\n",
    "ca=[10,11]\n",
    "na=ca[0]\n",
    "nb=ca[1]\n",
    "print(\"ca[0]의 값은\", ca[0], \"ca[1]의 값은\", ca[1])\n",
    "funca(ca[0], ca[1])\n",
    "print(\"ca[0]의 값은\", ca[0], \"ca[1]의 값은\", ca[1])"
   ]
  },
  {
   "cell_type": "code",
   "execution_count": 11,
   "id": "8fa6b21a",
   "metadata": {},
   "outputs": [
    {
     "name": "stdout",
     "output_type": "stream",
     "text": [
      "리스트ca값은 [10, 11]\n",
      "리스트cb값은 [10, 11]\n"
     ]
    }
   ],
   "source": [
    "#p211.py\n",
    "ca=[10, 11]\n",
    "cb=ca\n",
    "print(\"리스트ca값은\", ca)\n",
    "print(\"리스트cb값은\", cb)"
   ]
  },
  {
   "cell_type": "code",
   "execution_count": 12,
   "id": "6b6c07c8",
   "metadata": {},
   "outputs": [
    {
     "name": "stdout",
     "output_type": "stream",
     "text": [
      "리스트ca값은 [10, 11]\n",
      "리스트cb값은 [10, 11]\n",
      "리스트ca값은 [11, 10]\n",
      "리스트cb값은 [11, 10]\n",
      "ca[0]= 11 ca[1]= 10\n",
      "cb[0]= 11 cb[1]= 10\n"
     ]
    }
   ],
   "source": [
    "#p212.py\n",
    "ca=[10, 11]\n",
    "cb=ca\n",
    "print(\"리스트ca값은\", ca)\n",
    "print(\"리스트cb값은\", cb)\n",
    "temp=cb[0]\n",
    "cb[0]=cb[1]\n",
    "cb[1]=temp\n",
    "print(\"리스트ca값은\", ca)\n",
    "print(\"리스트cb값은\", cb)\n",
    "print(\"ca[0]=\", ca[0], \"ca[1]=\", ca[1])\n",
    "print(\"cb[0]=\", cb[0], \"cb[1]=\", cb[1])"
   ]
  },
  {
   "cell_type": "code",
   "execution_count": 14,
   "id": "92e78db9",
   "metadata": {},
   "outputs": [
    {
     "name": "stdout",
     "output_type": "stream",
     "text": [
      "ca[0] 값은 10 ca[1] 값은 11\n",
      "ca[0] 값은 11 ca[1] 값은 10\n"
     ]
    }
   ],
   "source": [
    "#p213.py\n",
    "def funca(cb):\n",
    "    temp=cb[0]\n",
    "    cb[0]=cb[1]\n",
    "    cb[1]=temp\n",
    "    \n",
    "ca=[10, 11]\n",
    "\n",
    "print(\"ca[0] 값은\", ca[0], \"ca[1] 값은\", ca[1])\n",
    "funca(ca)\n",
    "print(\"ca[0] 값은\", ca[0], \"ca[1] 값은\", ca[1])"
   ]
  },
  {
   "cell_type": "code",
   "execution_count": 15,
   "id": "6ce92131",
   "metadata": {},
   "outputs": [
    {
     "name": "stdout",
     "output_type": "stream",
     "text": [
      "리스트 a값 [10, 11, 12, 13]\n",
      "리스트 b값 [10, 11, 12, 13]\n"
     ]
    }
   ],
   "source": [
    "#p214.py\n",
    "a=[10, 11, 12, 13]\n",
    "print(\"리스트 a값\", a)\n",
    "b=a\n",
    "print(\"리스트 b값\",b)"
   ]
  },
  {
   "cell_type": "code",
   "execution_count": 16,
   "id": "816cfe80",
   "metadata": {},
   "outputs": [
    {
     "name": "stdout",
     "output_type": "stream",
     "text": [
      "리스트 a값 [10, 11, 12, 13]\n",
      "리스트 a값 [10, 21, 12, 13]\n",
      "리스트 b값 [10, 21, 12, 13]\n",
      "리스트 b값 [30, 31, 32, 33]\n"
     ]
    }
   ],
   "source": [
    "#p214.py\n",
    "a=[10,11,12,13]\n",
    "print(\"리스트 a값\", a)\n",
    "a[1]=21\n",
    "print(\"리스트 a값\",a)\n",
    "b=a\n",
    "print(\"리스트 b값\",b)\n",
    "b=[30, 31, 32, 33]\n",
    "print(\"리스트 b값\",b)"
   ]
  },
  {
   "cell_type": "code",
   "execution_count": 17,
   "id": "c6e37493",
   "metadata": {},
   "outputs": [
    {
     "name": "stdout",
     "output_type": "stream",
     "text": [
      "[10, 20, 30]\n",
      "[10, 20, 60]\n",
      "[10, 20, 60]\n"
     ]
    }
   ],
   "source": [
    "#p216_2.py\n",
    "def fk(cb):\n",
    "    total = 0\n",
    "    for sb in range(0, 3, 1):\n",
    "        total = total + cb[sb]\n",
    "    cb[2] = total\n",
    "    return cb\n",
    "\n",
    "ca = [10, 20, 30]\n",
    "print(ca)\n",
    "cd = fk(ca)\n",
    "print(ca)\n",
    "print(cd)"
   ]
  },
  {
   "cell_type": "code",
   "execution_count": 18,
   "id": "0e064c62",
   "metadata": {},
   "outputs": [
    {
     "name": "stdout",
     "output_type": "stream",
     "text": [
      "[10, 21, 11, 15, 13]\n",
      "[10, 11, 21, 15, 13]\n",
      "[10, 11, 13, 15, 21]\n",
      "[10, 11, 13, 15, 21]\n"
     ]
    }
   ],
   "source": [
    "#p222.py\n",
    "#선택정렬_완성코드\n",
    "ca=[21,10,11,15,13]\n",
    "mina=ca[0]\n",
    "minix=0\n",
    "for sb in range(1, 5, 1):\n",
    "    if mina > ca[sb]:\n",
    "        mina = ca[sb]\n",
    "        minix = sb\n",
    "temp = ca[0]\n",
    "ca[0] = ca[minix]\n",
    "ca[minix] = temp\n",
    "print(ca)\n",
    "mina=ca[1]\n",
    "minix=1\n",
    "for sb in range(2, 5, 1):\n",
    "    if mina > ca[sb]:\n",
    "        mina = ca[sb]\n",
    "        minix = sb\n",
    "temp = ca[1]\n",
    "ca[1] = ca[minix]\n",
    "ca[minix] = temp\n",
    "print(ca)\n",
    "mina=ca[2]\n",
    "minix=2\n",
    "for sb in range(3, 5, 1):\n",
    "    if mina > ca[sb]:\n",
    "        mina = ca[sb]\n",
    "        minix = sb\n",
    "temp = ca[2]\n",
    "ca[2] = ca[minix]\n",
    "ca[minix] = temp\n",
    "print(ca)\n",
    "mina=ca[3]\n",
    "minix=3\n",
    "for sb in range(4, 5, 1):\n",
    "    if mina > ca[sb]:\n",
    "        mina = ca[sb]\n",
    "        minix = sb\n",
    "temp = ca[3]\n",
    "ca[3] = ca[minix]\n",
    "ca[minix] = temp\n",
    "print(ca)"
   ]
  },
  {
   "cell_type": "code",
   "execution_count": 19,
   "id": "439b1eb9",
   "metadata": {},
   "outputs": [
    {
     "name": "stdout",
     "output_type": "stream",
     "text": [
      "최대값 max는 10\n"
     ]
    }
   ],
   "source": [
    "#p226_1.py\n",
    "su=[5, 4, 7, 10, 6]\n",
    "\n",
    "def fmax(a, b, c, d, e):\n",
    "    max=a\n",
    "    if max < b:\n",
    "        max=b\n",
    "    if max < c:\n",
    "        max=c\n",
    "    if max < d:\n",
    "        max=d\n",
    "    if max < e:\n",
    "        max = e\n",
    "    return max\n",
    "a=su[0]\n",
    "b=su[1]\n",
    "c=su[2]\n",
    "d=su[3]\n",
    "e=su[4]    \n",
    "\n",
    "max=fmax(su[0],su[1],su[2],su[3],su[4])\n",
    "\n",
    "print(\"최대값 max는\", max)\n"
   ]
  },
  {
   "cell_type": "code",
   "execution_count": null,
   "id": "eb34e5c6",
   "metadata": {},
   "outputs": [],
   "source": [
    "#p226_2.py\n",
    "su=[5, 4, 7, 10, 6]\n",
    "\n",
    "def fmax(a, b, c, d, e):\n",
    "    fu=[a, b, c, d, e]\n",
    "    max=fu[0]\n",
    "    if max < fu[1]:\n",
    "        maxfu[1]\n",
    "    if max < fu[2]:\n",
    "        max=fu[2]\n",
    "    if max < fu[3]:\n",
    "        max=fu[3]\n",
    "    if max < fu[4]:\n",
    "        max = fu[4]\n",
    "    return max\n",
    "\n",
    "a=su[0]\n",
    "b=su[1]\n",
    "c=su[2]\n",
    "d=su[3]\n",
    "e=su[4]\n",
    "max=fmax(su[0],su[1],su[2],su[3],su[4])\n",
    "print(\"최대값 max는\", max)\n"
   ]
  },
  {
   "cell_type": "code",
   "execution_count": 20,
   "id": "074807b9",
   "metadata": {},
   "outputs": [
    {
     "name": "stdout",
     "output_type": "stream",
     "text": [
      "최대값 max는 10\n"
     ]
    }
   ],
   "source": [
    "#p227_1[ste[3].py\n",
    "su=[5, 4, 7, 10, 6]\n",
    "\n",
    "def fmax(a, b, c, d, e):\n",
    "    fu=[a, b, c, d, e]\n",
    "    max=fu[0]\n",
    "    for i in range(1, 5, 1):\n",
    "        if max < fu[i]:\n",
    "            max = fu[i]\n",
    "    return max\n",
    "\n",
    "a=su[0]\n",
    "b=su[1]\n",
    "c=su[2]\n",
    "d=su[3]\n",
    "e=su[4]\n",
    "max=fmax(su[0],su[1],su[2],su[3],su[4])\n",
    "print(\"최대값 max는\", max)"
   ]
  },
  {
   "cell_type": "code",
   "execution_count": 21,
   "id": "be042f80",
   "metadata": {},
   "outputs": [
    {
     "name": "stdout",
     "output_type": "stream",
     "text": [
      "최대값 max는 10\n"
     ]
    }
   ],
   "source": [
    "#p227_1[step4].py\n",
    "su=[5, 4, 7, 10, 6]\n",
    "\n",
    "def fmax(a, b, c, d, e):\n",
    "    fu=[a, b, c, d, e]\n",
    "    max=fu[0]\n",
    "    for sfu in fu:\n",
    "        if max < sfu:\n",
    "            max = sfu\n",
    "    return max\n",
    "\n",
    "a=su[0]\n",
    "b=su[1]\n",
    "c=su[2]\n",
    "d=su[3]\n",
    "e=su[4]\n",
    "max=fmax(su[0],su[1],su[2],su[3],su[4])\n",
    "print(\"최대값 max는\", max)"
   ]
  },
  {
   "cell_type": "code",
   "execution_count": 22,
   "id": "1508f585",
   "metadata": {},
   "outputs": [
    {
     "name": "stdout",
     "output_type": "stream",
     "text": [
      "최대값 max는 10\n"
     ]
    }
   ],
   "source": [
    "#p227_2[step 5].py\n",
    "# 중간에 같은 명령문이 2번 들여쓰기 안된 상태로 쓰임 삭제해야함\n",
    "su=[5, 4, 7, 10, 6]\n",
    "\n",
    "def fmax(a, b, c, d, e):\n",
    "    fu=[]\n",
    "    fu.append(a)\n",
    "    fu.append(b)\n",
    "    fu.append(c)\n",
    "    fu.append(d)\n",
    "    fu.append(e)\n",
    "    max=fu[0]\n",
    "    for sfu in fu:\n",
    "        if max < sfu:\n",
    "            max=sfu\n",
    "    return max\n",
    "       \n",
    "max=fmax(su[0],su[1],su[2],su[3],su[4])\n",
    "print(\"최대값 max는\", max)"
   ]
  },
  {
   "cell_type": "code",
   "execution_count": 23,
   "id": "8c7f6fa8",
   "metadata": {},
   "outputs": [
    {
     "name": "stdout",
     "output_type": "stream",
     "text": [
      "최대값 max는 10\n"
     ]
    }
   ],
   "source": [
    "#p227_3[step6].py\n",
    "su=[5, 4, 7, 10, 6]\n",
    "\n",
    "def fmax(fu):\n",
    "   \n",
    "    max=fu[0]\n",
    "    for sfu in fu:\n",
    "        if max < sfu:\n",
    "            max=sfu\n",
    "    return max\n",
    "       \n",
    "max=fmax(su)\n",
    "print(\"최대값 max는\", max)"
   ]
  },
  {
   "cell_type": "code",
   "execution_count": 24,
   "id": "6a038137",
   "metadata": {},
   "outputs": [
    {
     "name": "stdout",
     "output_type": "stream",
     "text": [
      "최대값 max는 10\n"
     ]
    }
   ],
   "source": [
    "#p228_1.py\n",
    "su=[5, 4, 7, 10, 6]\n",
    "def fmax(fu):       \n",
    "    max=fu[0]\n",
    "    for i in range(1, 5, 1):\n",
    "        if max < fu[i]:\n",
    "            max=fu[i]\n",
    "    return max\n",
    "fu = su       \n",
    "max=fmax(su)\n",
    "print(\"최대값 max는\", max)"
   ]
  },
  {
   "cell_type": "code",
   "execution_count": 25,
   "id": "09f32ec0",
   "metadata": {},
   "outputs": [
    {
     "name": "stdout",
     "output_type": "stream",
     "text": [
      "{1: '월', 'tue': '화', 'wed': '수'}\n",
      "{1: '월', 'tue': '화', 'wed': '수'}\n",
      "{1: '일', 'tue': '화', 'wed': '수'}\n",
      "{1: '일', 'tue': '화', 'wed': '수'}\n"
     ]
    }
   ],
   "source": [
    "#p229.py\n",
    "a={1:\"월\", \"tue\":\"화\", \"wed\":\"수\"}\n",
    "print(a)\n",
    "x=a\n",
    "print(x)\n",
    "x[1]=\"일\"\n",
    "print(x)\n",
    "print(a)"
   ]
  },
  {
   "cell_type": "code",
   "execution_count": 26,
   "id": "48deec43",
   "metadata": {},
   "outputs": [
    {
     "name": "stdout",
     "output_type": "stream",
     "text": [
      "{1: '월', 'tue': '화', 'wed': '수'}\n",
      "{1: '일', 'tue': '화', 'wed': '수'}\n"
     ]
    }
   ],
   "source": [
    "#p230.py\n",
    "def fch(x):\n",
    "    x[1] =\"일\"\n",
    "a={1:\"월\", \"tue\":\"화\", \"wed\":\"수\"}\n",
    "print(a)\n",
    "fch(a)\n",
    "print(a)"
   ]
  },
  {
   "cell_type": "code",
   "execution_count": null,
   "id": "bfc28204",
   "metadata": {},
   "outputs": [],
   "source": []
  }
 ],
 "metadata": {
  "kernelspec": {
   "display_name": "Python 3 (ipykernel)",
   "language": "python",
   "name": "python3"
  },
  "language_info": {
   "codemirror_mode": {
    "name": "ipython",
    "version": 3
   },
   "file_extension": ".py",
   "mimetype": "text/x-python",
   "name": "python",
   "nbconvert_exporter": "python",
   "pygments_lexer": "ipython3",
   "version": "3.9.13"
  }
 },
 "nbformat": 4,
 "nbformat_minor": 5
}
