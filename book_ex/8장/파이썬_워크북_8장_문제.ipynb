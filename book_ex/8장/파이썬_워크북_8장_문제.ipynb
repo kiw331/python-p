{
  "nbformat": 4,
  "nbformat_minor": 0,
  "metadata": {
    "colab": {
      "provenance": []
    },
    "kernelspec": {
      "name": "python3",
      "display_name": "Python 3"
    },
    "language_info": {
      "name": "python"
    }
  },
  "cells": [
    {
      "cell_type": "markdown",
      "source": [
        "파이썬 워크북 8장 문제"
      ],
      "metadata": {
        "id": "gmTU7zL4sYOB"
      }
    },
    {
      "cell_type": "code",
      "source": [
        "# 문제 1\n",
        "\n",
        "ca=[10,17,13,11]\n",
        "max=ca[0]\n",
        "if max < ca[1]:\n",
        "    max = ca[1]\n",
        "if max < ca[2]:\n",
        "    max = ca[2]\n",
        "if max < ca[3]:\n",
        "    max = ca[3]\n",
        "print(max)"
      ],
      "metadata": {
        "colab": {
          "base_uri": "https://localhost:8080/"
        },
        "id": "YoP0oI8KsYCD",
        "outputId": "422ac19f-478d-4c2e-fa37-90b68cca5421"
      },
      "execution_count": null,
      "outputs": [
        {
          "output_type": "stream",
          "name": "stdout",
          "text": [
            "17\n"
          ]
        }
      ]
    },
    {
      "cell_type": "code",
      "execution_count": null,
      "metadata": {
        "colab": {
          "base_uri": "https://localhost:8080/"
        },
        "id": "5X5Dl0vHsRsJ",
        "outputId": "abfa8db2-dfd0-496a-a710-a5ebf17cde95"
      },
      "outputs": [
        {
          "output_type": "stream",
          "name": "stdout",
          "text": [
            "17\n"
          ]
        }
      ],
      "source": [
        "# 문제 2\n",
        "\n",
        "ca=[10,17,13,11]\n",
        "max=ca[0]\n",
        "for sb in range(1, 4, 1):\n",
        "    if max < ca[sb]:\n",
        "        max = ca[sb]\n",
        "print(max)"
      ]
    },
    {
      "cell_type": "code",
      "source": [
        "# 문제 3 \n",
        "\n",
        "ca=[10,17,13,11]\n",
        "max=ca[0]\n",
        "for sb in ca:\n",
        "    if max < sb:\n",
        "        max = sb\n",
        "print(max)"
      ],
      "metadata": {
        "colab": {
          "base_uri": "https://localhost:8080/"
        },
        "id": "HO9lQhmyuLhh",
        "outputId": "b92e4111-e4fd-491f-d2fd-09d2b5c5b340"
      },
      "execution_count": null,
      "outputs": [
        {
          "output_type": "stream",
          "name": "stdout",
          "text": [
            "17\n"
          ]
        }
      ]
    },
    {
      "cell_type": "code",
      "source": [
        "# 문제 4\n",
        "\n",
        "# 선택 정렬\n",
        "ca=[21,10,11,15,13]\n",
        "\n",
        "for sa in range(0, 4, 1):\n",
        "    mina=ca[sa]\n",
        "    minix=sa\n",
        "    for sb in range(sa+1, 5, 1):\n",
        "        if mina > ca[sb]:\n",
        "            mina = ca[sb]\n",
        "            minix = sb\n",
        "    temp = ca[sa]\n",
        "    ca[sa] = ca[minix]\n",
        "    ca[minix] = temp\n",
        "    print(ca)"
      ],
      "metadata": {
        "colab": {
          "base_uri": "https://localhost:8080/"
        },
        "id": "jNqJUFZhuSyF",
        "outputId": "08437b81-c2a8-4f59-f73f-9c0c27fe7136"
      },
      "execution_count": null,
      "outputs": [
        {
          "output_type": "stream",
          "name": "stdout",
          "text": [
            "[10, 21, 11, 15, 13]\n",
            "[10, 11, 21, 15, 13]\n",
            "[10, 11, 13, 15, 21]\n",
            "[10, 11, 13, 15, 21]\n"
          ]
        }
      ]
    },
    {
      "cell_type": "code",
      "source": [
        "# 문제 5\n",
        "\n",
        "# 선택 정렬\n",
        "def fselsort(ca):\n",
        "    for sa in range(0, 4, 1):\n",
        "        mina=ca[sa]\n",
        "        minix=sa\n",
        "        for sb in range(sa+1, 5, 1):\n",
        "          if mina > ca[sb]:\n",
        "              mina = ca[sb]\n",
        "              minix = sb\n",
        "        temp = ca[sa]\n",
        "        ca[sa] = ca[minix]\n",
        "        ca[minix] = temp\n",
        "\n",
        "        \n",
        "ca=[21,10,11,15,13]\n",
        "fselsort(ca)\n",
        "print(ca)"
      ],
      "metadata": {
        "colab": {
          "base_uri": "https://localhost:8080/"
        },
        "id": "BEY0b3t5wLmK",
        "outputId": "ba8c04c1-144c-4da7-d548-15116271f8c9"
      },
      "execution_count": null,
      "outputs": [
        {
          "output_type": "stream",
          "name": "stdout",
          "text": [
            "[10, 11, 13, 15, 21]\n"
          ]
        }
      ]
    },
    {
      "cell_type": "code",
      "source": [
        "def fnin(fu):\n",
        "    min=fum[0]\n",
        "    for i in range(1,5,1):\n",
        "        if min > fu[i]:\n",
        "              min = fu[i]\n",
        "    return min"
      ],
      "metadata": {
        "id": "CSR6hEreyYVq"
      },
      "execution_count": null,
      "outputs": []
    }
  ]
}