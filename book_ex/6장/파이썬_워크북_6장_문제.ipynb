{
  "nbformat": 4,
  "nbformat_minor": 0,
  "metadata": {
    "colab": {
      "provenance": []
    },
    "kernelspec": {
      "name": "python3",
      "display_name": "Python 3"
    },
    "language_info": {
      "name": "python"
    }
  },
  "cells": [
    {
      "cell_type": "markdown",
      "source": [
        "파이썬 워크북 6장 문제"
      ],
      "metadata": {
        "id": "AguDpSth0E69"
      }
    },
    {
      "cell_type": "code",
      "source": [
        "# 문제 1\n",
        "\n",
        "def fadd(pa, pb):\n",
        "    pc = pa + pb\n",
        "    return pc\n",
        "def fsub(pa, pb):\n",
        "    pc = pa - pb\n",
        "    return pc\n",
        "def fmul(pa, pb):\n",
        "    pc = pa * pb\n",
        "    return pc\n",
        "def fdiv(pa, pb):\n",
        "    pc = pa / pb\n",
        "    return pc\n",
        "\n",
        "na = 100\n",
        "nb = 3\n",
        "nc = fadd(na, nb)\n",
        "print(na, \"+\", nb, \"결괏값은\", nc,\"이다.\")\n",
        "nd = fsub(na, nb)\n",
        "print(na, \"-\", nb, \"결괏값은\", nd,\"이다.\")\n",
        "ne = fmul(na, nb)\n",
        "print(na, \"*\", nb, \"결괏값은\", ne,\"이다.\")\n",
        "nf = fdiv(na, nb)\n",
        "print(na, \"/\", nb, \"결괏값은\", nf,\"이다.\")"
      ],
      "metadata": {
        "colab": {
          "base_uri": "https://localhost:8080/"
        },
        "id": "ojTp2sbS0G0G",
        "outputId": "72ca5872-bda6-406b-ca06-2f579be45921"
      },
      "execution_count": null,
      "outputs": [
        {
          "output_type": "stream",
          "name": "stdout",
          "text": [
            "100 + 3 결괏값은 103 이다.\n",
            "100 - 3 결괏값은 97 이다.\n",
            "100 * 3 결괏값은 300 이다.\n",
            "100 / 3 결괏값은 33.333333333333336 이다.\n"
          ]
        }
      ]
    },
    {
      "cell_type": "code",
      "source": [
        "# 문제 2\n",
        "\n",
        "def fadd(pa, pb):\n",
        "    pc = pa + pb\n",
        "    return pc\n",
        "def fsub(pa, pb):\n",
        "    pc = pa - pb\n",
        "    return pc\n",
        "def fmul(pa, pb):\n",
        "    pc = pa * pb\n",
        "    return pc\n",
        "def fdiv(pa, pb):\n",
        "    pc = pa / pb\n",
        "    return pc\n",
        "\n",
        "na = float(input(\"연산을 위한 첫 번째 값을 입력하세요.\"))\n",
        "nb = float(input(\"연산을 위한 두 번째 값을 입력하세요.\"))\n",
        "nc = fadd(na, nb)\n",
        "print(na, \"+\", nb, \"결괏값은\", nc,\"이다\")\n",
        "nd = fsub(na, nb)\n",
        "print(na, \"-\", nb, \"결괏값은\", nd,\"이다.\")\n",
        "ne = fmul(na, nb)\n",
        "print(na, \"*\", nb, \"결괏값은\", ne,\"이다.\")\n",
        "nf = fdiv(na, nb)\n",
        "print(na, \"/\", nb, \"결괏값은\", nf,\"이다.\")"
      ],
      "metadata": {
        "colab": {
          "base_uri": "https://localhost:8080/"
        },
        "id": "_5Bsss0Z0Wd4",
        "outputId": "783cf218-886d-468d-bf38-380ce10d96b9"
      },
      "execution_count": null,
      "outputs": [
        {
          "output_type": "stream",
          "name": "stdout",
          "text": [
            "연산을 위한 첫 번째 값을 입력하세요.30\n",
            "연산을 위한 두 번째 값을 입력하세요.2.1\n",
            "30.0 + 2.1 결괏값은 32.1 이다\n",
            "30.0 - 2.1 결괏값은 27.9 이다.\n",
            "30.0 * 2.1 결괏값은 63.0 이다.\n",
            "30.0 / 2.1 결괏값은 14.285714285714285 이다.\n"
          ]
        }
      ]
    },
    {
      "cell_type": "code",
      "source": [
        "# 문제 3\n",
        "\n",
        "sta = \"python example\"\n",
        "def string_length(stb):\n",
        "    count = 0\n",
        "    for char in stb:\n",
        "        count = count + 1\n",
        "    return count\n",
        "\n",
        "lena = string_length(sta)\n",
        "print(lena)"
      ],
      "metadata": {
        "colab": {
          "base_uri": "https://localhost:8080/"
        },
        "id": "milfN5MS0qcv",
        "outputId": "6b5363c8-4854-4315-c156-0b14132e9be2"
      },
      "execution_count": null,
      "outputs": [
        {
          "output_type": "stream",
          "name": "stdout",
          "text": [
            "14\n"
          ]
        }
      ]
    },
    {
      "cell_type": "code",
      "source": [
        "# 문제 4\n",
        "\n",
        "def fdiv(pa, pb):\n",
        "    if pb == 0:\n",
        "        return \"0으로 나눌 수 없음\"\n",
        "    else:\n",
        "        return pa/pb\n",
        "na = 10\n",
        "nb = 0\n",
        "nc = fdiv(na, nb)\n",
        "print(nc)"
      ],
      "metadata": {
        "id": "SHypilxk4yxy",
        "colab": {
          "base_uri": "https://localhost:8080/"
        },
        "outputId": "eaedf52b-8cb4-459b-ada5-cc347aaed873"
      },
      "execution_count": null,
      "outputs": [
        {
          "output_type": "stream",
          "name": "stdout",
          "text": [
            "0으로 나눌 수 없음\n"
          ]
        }
      ]
    },
    {
      "cell_type": "code",
      "source": [
        "# 문제 5 - for 문\n",
        "\n",
        "na=int(input(\"배수의 합을 구하고자 하는 정수를 입력하세요.\"))\n",
        "total = 0\n",
        "for sb in range(1, 101, 1):\n",
        "    if sb % na == 0:\n",
        "        total = total + sb\n",
        "print(\"100까지\", na,\"의 배수의 총합은\", total,\"이다.\")"
      ],
      "metadata": {
        "colab": {
          "base_uri": "https://localhost:8080/"
        },
        "id": "cQAX6h-P_Q3J",
        "outputId": "7beedbbd-527e-4da1-d0fa-2fb7ad0c2278"
      },
      "execution_count": null,
      "outputs": [
        {
          "output_type": "stream",
          "name": "stdout",
          "text": [
            "배수의 합을 구하고자 하는 정수를 입력하세요.3\n",
            "100까지 3 의 배수의 총합은 1683 이다.\n"
          ]
        }
      ]
    },
    {
      "cell_type": "code",
      "source": [
        "# 문제 5 - while 문\n",
        "\n",
        "na=int(input(\"배수의 합을 구하고자 하는 정수를 입력하세요.\"))\n",
        "total = 0\n",
        "sb=1\n",
        "while sb < 101:\n",
        "    if sb % na == 0:\n",
        "        total = total + sb\n",
        "    sb = sb + 1\n",
        "print(\"100까지\", na,\"의 배수의 총합은\", total,\"이다.\")"
      ],
      "metadata": {
        "colab": {
          "base_uri": "https://localhost:8080/"
        },
        "id": "Ew4LVYTH_hXo",
        "outputId": "ab840784-4461-4b02-f527-cdada800dc01"
      },
      "execution_count": null,
      "outputs": [
        {
          "output_type": "stream",
          "name": "stdout",
          "text": [
            "배수의 합을 구하고자 하는 정수를 입력하세요.3\n",
            "100까지 3 의 배수의 총합은 1683 이다.\n"
          ]
        }
      ]
    },
    {
      "cell_type": "code",
      "source": [
        "# 문제 5 - for 문을 함수 이름 cunca 함수로 정의하고 호출\n",
        "\n",
        "def funca(nb):\n",
        "    total = 0\n",
        "    for sb in range(1, 101, 1):\n",
        "        if sb % na == 0:\n",
        "            total = total + sb\n",
        "    return total\n",
        "\n",
        "na=int(input(\"배수의 합을 구하고자 하는 정수를 입력하세요.\"))\n",
        "nc=funca(na)\n",
        "print(\"100까지\", na,\"의 배수의 총합은\", nc,\"이다.\")"
      ],
      "metadata": {
        "colab": {
          "base_uri": "https://localhost:8080/"
        },
        "id": "xflQXtLkAVb8",
        "outputId": "e8fce98e-83e4-470b-ca86-116bf207872a"
      },
      "execution_count": null,
      "outputs": [
        {
          "output_type": "stream",
          "name": "stdout",
          "text": [
            "배수의 합을 구하고자 하는 정수를 입력하세요.3\n",
            "100까지 3 의 배수의 총합은 1683 이다.\n"
          ]
        }
      ]
    }
  ]
}