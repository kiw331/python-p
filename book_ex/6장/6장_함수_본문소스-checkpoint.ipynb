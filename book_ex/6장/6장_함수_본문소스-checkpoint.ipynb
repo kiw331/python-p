{
 "cells": [
  {
   "cell_type": "code",
   "execution_count": 1,
   "id": "e014bc68",
   "metadata": {},
   "outputs": [
    {
     "name": "stdout",
     "output_type": "stream",
     "text": [
      "매개변수 없는 함수 호출하기\n"
     ]
    }
   ],
   "source": [
    "#p168_1.py\n",
    "def fhello():\n",
    "    print(\"매개변수 없는 함수 호출하기\")\n",
    "    \n",
    "fhello()"
   ]
  },
  {
   "cell_type": "code",
   "execution_count": 3,
   "id": "8d143682",
   "metadata": {},
   "outputs": [
    {
     "name": "stdout",
     "output_type": "stream",
     "text": [
      "아침 온도는 5 도이다.\n",
      "점심 온도는 10 도이다.\n",
      "저녁 온도는 7 도이다.\n"
     ]
    }
   ],
   "source": [
    "#p168_2.py\n",
    "def fweather():\n",
    "    dica = {\"아침\":5, \"점심\":10, \"저녁\":7}\n",
    "    for a, b in dica.items():\n",
    "        print(a, \"온도는\", b, \"도이다.\")\n",
    "fweather()"
   ]
  },
  {
   "cell_type": "code",
   "execution_count": 4,
   "id": "be0c91c2",
   "metadata": {},
   "outputs": [
    {
     "name": "stdout",
     "output_type": "stream",
     "text": [
      "10 + 11 = 21\n"
     ]
    }
   ],
   "source": [
    "#p169_1.py\n",
    "na = 10\n",
    "nb = 11\n",
    "nc = na + nb\n",
    "print(na, \"+\", nb, \"=\", nc)"
   ]
  },
  {
   "cell_type": "code",
   "execution_count": 5,
   "id": "1adf83a2",
   "metadata": {},
   "outputs": [
    {
     "name": "stdout",
     "output_type": "stream",
     "text": [
      "10 + 20 = 30\n"
     ]
    }
   ],
   "source": [
    "#p169_2.py\n",
    "def funca(na, nb):\n",
    "    nc = na + nb\n",
    "    print(na, \"+\", nb, \"=\", nc)\n",
    "    \n",
    "funca(10, 20)\n"
   ]
  },
  {
   "cell_type": "code",
   "execution_count": 8,
   "id": "f8ae5c62",
   "metadata": {},
   "outputs": [
    {
     "name": "stdout",
     "output_type": "stream",
     "text": [
      "10 + 11 = 21\n"
     ]
    }
   ],
   "source": [
    "#p171.py #책에 fadd(na, nb) => funca(na, nb)로 수정해야함\n",
    "#print문 책에 a->na, b->nb로 수정해야함\n",
    "#jupyter notebook 이나 코랩 같이 연속적으로 코딩하는 에디터를 쓰는 경우 윗 줄에 nc값이 있다면 정상적으로 실행됨\n",
    "#그 이유는 위에 있는 코드 중 nc 변수가 있으면 그 변수를 사용해서 실행된 결과임\n",
    "#이 코드만 따로 코딩해서 결과를 확인해야함\n",
    "def funca(pa, pb):\n",
    "    nc = pa + pb\n",
    "\n",
    "na = 10\n",
    "nb = 11\n",
    "    \n",
    "funca(na, nb)\n",
    "print(na, \"+\", nb, \"=\", nc)"
   ]
  },
  {
   "cell_type": "code",
   "execution_count": 9,
   "id": "694f48bc",
   "metadata": {},
   "outputs": [
    {
     "name": "stdout",
     "output_type": "stream",
     "text": [
      "10 + 11 = 21\n"
     ]
    }
   ],
   "source": [
    "#p172.py #p172.py # 책에 a->na, b->nb\n",
    "def funca(pa, pb):\n",
    "    nc = pa + pb\n",
    "    return nc\n",
    "\n",
    "na = 10\n",
    "nb = 11\n",
    "    \n",
    "nd=funca(na, nb)\n",
    "print(na, \"+\", nb, \"=\", nd)"
   ]
  },
  {
   "cell_type": "code",
   "execution_count": 11,
   "id": "fbb06c5c",
   "metadata": {},
   "outputs": [
    {
     "name": "stdout",
     "output_type": "stream",
     "text": [
      "10 + 20 = 30\n"
     ]
    }
   ],
   "source": [
    "#p173.py\n",
    "a=10\n",
    "b=20\n",
    "\n",
    "def fadd(a, b):\n",
    "    nc=a+b\n",
    "    return nc\n",
    "    \n",
    "a=a\n",
    "b=b\n",
    "\n",
    "nc=fadd(a,b)\n",
    "print(a,\"+\",b,\"=\", nc)"
   ]
  },
  {
   "cell_type": "code",
   "execution_count": 12,
   "id": "57ac1c49",
   "metadata": {},
   "outputs": [
    {
     "name": "stdout",
     "output_type": "stream",
     "text": [
      "{'이름': '이나겸', '학점': 4.3}\n",
      "<class 'dict'>\n"
     ]
    }
   ],
   "source": [
    "#174.py\n",
    "def freturn(a, b, c, d):\n",
    "    dica = {a:b, c:d}\n",
    "    return dica\n",
    "\n",
    "a = \"이름\"\n",
    "b = \"이나겸\"\n",
    "c = \"학점\"\n",
    "d = 4.3\n",
    "\n",
    "dicb = freturn(a, b, c, d)\n",
    "print(dicb)\n",
    "print(type(dicb))"
   ]
  },
  {
   "cell_type": "code",
   "execution_count": 13,
   "id": "49c849da",
   "metadata": {},
   "outputs": [
    {
     "ename": "NameError",
     "evalue": "name 'myabs' is not defined",
     "output_type": "error",
     "traceback": [
      "\u001b[1;31m---------------------------------------------------------------------------\u001b[0m",
      "\u001b[1;31mNameError\u001b[0m                                 Traceback (most recent call last)",
      "\u001b[1;32m~\\AppData\\Local\\Temp\\ipykernel_23108\\2396325542.py\u001b[0m in \u001b[0;36m<module>\u001b[1;34m\u001b[0m\n\u001b[0;32m      1\u001b[0m \u001b[1;31m#0175.py\u001b[0m\u001b[1;33m\u001b[0m\u001b[1;33m\u001b[0m\u001b[0m\n\u001b[1;32m----> 2\u001b[1;33m \u001b[0mmyabs\u001b[0m\u001b[1;33m(\u001b[0m\u001b[1;36m10\u001b[0m\u001b[1;33m)\u001b[0m\u001b[1;33m\u001b[0m\u001b[1;33m\u001b[0m\u001b[0m\n\u001b[0m\u001b[0;32m      3\u001b[0m \u001b[1;33m\u001b[0m\u001b[0m\n\u001b[0;32m      4\u001b[0m \u001b[1;32mdef\u001b[0m \u001b[0mmyabs\u001b[0m\u001b[1;33m(\u001b[0m\u001b[0marg\u001b[0m\u001b[1;33m)\u001b[0m\u001b[1;33m:\u001b[0m\u001b[1;33m\u001b[0m\u001b[1;33m\u001b[0m\u001b[0m\n\u001b[0;32m      5\u001b[0m     \u001b[1;32mif\u001b[0m\u001b[1;33m(\u001b[0m\u001b[0marg\u001b[0m \u001b[1;33m<\u001b[0m \u001b[1;36m0\u001b[0m\u001b[1;33m)\u001b[0m\u001b[1;33m:\u001b[0m\u001b[1;33m\u001b[0m\u001b[1;33m\u001b[0m\u001b[0m\n",
      "\u001b[1;31mNameError\u001b[0m: name 'myabs' is not defined"
     ]
    }
   ],
   "source": [
    "#0175.py\n",
    "myabs(10)\n",
    "\n",
    "def myabs(arg):\n",
    "    if(arg < 0):\n",
    "        result =  arg * -1\n",
    "    else:\n",
    "        result = arg \n",
    "    return result"
   ]
  },
  {
   "cell_type": "code",
   "execution_count": 14,
   "id": "f028b666",
   "metadata": {},
   "outputs": [
    {
     "data": {
      "text/plain": [
       "10"
      ]
     },
     "execution_count": 14,
     "metadata": {},
     "output_type": "execute_result"
    }
   ],
   "source": [
    "#p176_1.py\n",
    "\n",
    "\n",
    "def fabs(arg):\n",
    "    if(arg < 0):\n",
    "        result =  arg * -1\n",
    "    else:\n",
    "        result = arg \n",
    "    return result\n",
    "\n",
    "fabs(10)\n",
    "    "
   ]
  },
  {
   "cell_type": "code",
   "execution_count": 15,
   "id": "3a20ebcd",
   "metadata": {},
   "outputs": [
    {
     "name": "stdout",
     "output_type": "stream",
     "text": [
      "10\n"
     ]
    }
   ],
   "source": [
    "#p176_2.py\n",
    "\n",
    "\n",
    "def fabs(arg):\n",
    "    if(arg < 0):\n",
    "        result =  arg * -1\n",
    "    else:\n",
    "        result = arg \n",
    "    return result\n",
    "\n",
    "na = fabs(10)\n",
    "print(na)"
   ]
  },
  {
   "cell_type": "code",
   "execution_count": 16,
   "id": "e01a596b",
   "metadata": {},
   "outputs": [
    {
     "name": "stdout",
     "output_type": "stream",
     "text": [
      "funca 함수 호출\n",
      "funcb 함수 호출\n",
      "funcc 함수 호출\n"
     ]
    }
   ],
   "source": [
    "#p177.py\n",
    "\n",
    "def funca():\n",
    "    print(\"funca 함수 호출\")\n",
    "    \n",
    "def funcb():\n",
    "    funca()\n",
    "    print(\"funcb 함수 호출\")\n",
    "\n",
    "def funcc():\n",
    "    funcb()\n",
    "    print(\"funcc 함수 호출\")\n",
    "    \n",
    "funcc()"
   ]
  },
  {
   "cell_type": "code",
   "execution_count": 17,
   "id": "a00fc2ce",
   "metadata": {},
   "outputs": [
    {
     "name": "stdout",
     "output_type": "stream",
     "text": [
      "10 + 20 결괏값은 30 이다\n"
     ]
    }
   ],
   "source": [
    "#ㅔ178.py\n",
    "def fadd(pa, pb):\n",
    "    pc = pa + pb\n",
    "    return pc\n",
    "\n",
    "na = 10\n",
    "nb = 20\n",
    "nc = fadd(na, nb)\n",
    "print(na, \"+\", nb, \"결괏값은\", nc, \"이다\")"
   ]
  },
  {
   "cell_type": "code",
   "execution_count": 19,
   "id": "4042061f",
   "metadata": {},
   "outputs": [
    {
     "name": "stdout",
     "output_type": "stream",
     "text": [
      "None\n"
     ]
    }
   ],
   "source": [
    "#p180.py\n",
    "def fplusminus(arg):\n",
    "    if arg > 0:\n",
    "        return \"plus\"\n",
    "    elif arg < 0:\n",
    "        return \"minus\"\n",
    "    \n",
    "stra = fplusminus(0)\n",
    "print(stra)"
   ]
  },
  {
   "cell_type": "code",
   "execution_count": 20,
   "id": "5abce4e2",
   "metadata": {},
   "outputs": [
    {
     "name": "stdout",
     "output_type": "stream",
     "text": [
      "<class 'int'>\n",
      "10\n",
      "<class 'str'>\n",
      "<class 'int'>\n"
     ]
    }
   ],
   "source": [
    "def finput(pa):\n",
    "    pb = str(pa)\n",
    "    return pb\n",
    "\n",
    "na = 10\n",
    "print(type(na))\n",
    "nb = finput(na)\n",
    "print(nb)\n",
    "print(type(nb))\n",
    "nc = int(nb)\n",
    "print(type(nc))\n"
   ]
  },
  {
   "cell_type": "code",
   "execution_count": null,
   "id": "bb1fe30d",
   "metadata": {},
   "outputs": [],
   "source": []
  }
 ],
 "metadata": {
  "kernelspec": {
   "display_name": "Python 3 (ipykernel)",
   "language": "python",
   "name": "python3"
  },
  "language_info": {
   "codemirror_mode": {
    "name": "ipython",
    "version": 3
   },
   "file_extension": ".py",
   "mimetype": "text/x-python",
   "name": "python",
   "nbconvert_exporter": "python",
   "pygments_lexer": "ipython3",
   "version": "3.9.13"
  }
 },
 "nbformat": 4,
 "nbformat_minor": 5
}
