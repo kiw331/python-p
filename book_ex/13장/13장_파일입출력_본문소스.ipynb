{
 "cells": [
  {
   "cell_type": "code",
   "execution_count": 3,
   "id": "526eb7be",
   "metadata": {},
   "outputs": [
    {
     "name": "stdout",
     "output_type": "stream",
     "text": [
      "13\n"
     ]
    }
   ],
   "source": [
    "#p324.py\n",
    "vb = \"변수 vb에 저장된 내용\"\n",
    "fwobj = open(\"fa.txt\", \"w\")\n",
    "b=fwobj.write(vb)\n",
    "print(b)\n",
    "fwobj.close()"
   ]
  },
  {
   "cell_type": "code",
   "execution_count": 4,
   "id": "12d4ca20",
   "metadata": {},
   "outputs": [
    {
     "name": "stdout",
     "output_type": "stream",
     "text": [
      "변수 vb에 저장된 내용\n"
     ]
    }
   ],
   "source": [
    "#p325.py\n",
    "frobj = open(\"fa.txt\", 'r')\n",
    "vb = frobj.read()\n",
    "frobj.close()\n",
    "print(vb)"
   ]
  },
  {
   "cell_type": "code",
   "execution_count": null,
   "id": "c85a18ac",
   "metadata": {},
   "outputs": [],
   "source": []
  }
 ],
 "metadata": {
  "kernelspec": {
   "display_name": "Python 3 (ipykernel)",
   "language": "python",
   "name": "python3"
  },
  "language_info": {
   "codemirror_mode": {
    "name": "ipython",
    "version": 3
   },
   "file_extension": ".py",
   "mimetype": "text/x-python",
   "name": "python",
   "nbconvert_exporter": "python",
   "pygments_lexer": "ipython3",
   "version": "3.9.13"
  }
 },
 "nbformat": 4,
 "nbformat_minor": 5
}
