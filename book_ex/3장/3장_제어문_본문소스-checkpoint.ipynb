{
 "cells": [
  {
   "cell_type": "code",
   "execution_count": 2,
   "id": "174a1b52",
   "metadata": {},
   "outputs": [
    {
     "name": "stdout",
     "output_type": "stream",
     "text": [
      "na :  10 nb :  20\n",
      "20 는 10 보다 크다\n",
      "프로그램 종료\n"
     ]
    }
   ],
   "source": [
    "#p66.py\n",
    "na = 10\n",
    "nb = 20\n",
    "if na <= nb:\n",
    "    print(\"na : \", na, \"nb : \", nb)\n",
    "    print(nb, \"는\", na, \"보다 크다\")\n",
    "print(\"프로그램 종료\")"
   ]
  },
  {
   "cell_type": "code",
   "execution_count": 3,
   "id": "8b53856a",
   "metadata": {},
   "outputs": [
    {
     "name": "stdout",
     "output_type": "stream",
     "text": [
      "True\n",
      "False\n",
      "False\n",
      "True\n"
     ]
    }
   ],
   "source": [
    "#p68.py\n",
    "print(True and True)\n",
    "print(True and False)\n",
    "print(False or False)\n",
    "print(False or True)"
   ]
  },
  {
   "cell_type": "code",
   "execution_count": 1,
   "id": "44aceef9",
   "metadata": {},
   "outputs": [
    {
     "name": "stdout",
     "output_type": "stream",
     "text": [
      "True\n",
      "False\n",
      "False\n",
      "True\n"
     ]
    }
   ],
   "source": [
    "#p69.py\n",
    "print(9>4 and 3>2)\n",
    "print(9<4 and 3>2)\n",
    "print(9<4 or 3<2)\n",
    "print(9<4 or 3>2)"
   ]
  },
  {
   "cell_type": "code",
   "execution_count": 2,
   "id": "a8f130a4",
   "metadata": {},
   "outputs": [
    {
     "name": "stdout",
     "output_type": "stream",
     "text": [
      "if문 종료 됨\n"
     ]
    }
   ],
   "source": [
    "#p71.py\n",
    "na = 21\n",
    "if na % 2 ==0:\n",
    "    print(na, \"짝수\")\n",
    "print(\"if문 종료 됨\")"
   ]
  },
  {
   "cell_type": "code",
   "execution_count": 3,
   "id": "5795396b",
   "metadata": {},
   "outputs": [
    {
     "name": "stdout",
     "output_type": "stream",
     "text": [
      "21 홀수\n",
      "if문 종료 됨\n"
     ]
    }
   ],
   "source": [
    "#p73.py\n",
    "na = 21\n",
    "if na % 2 ==0:\n",
    "    print(na, \"짝수\")\n",
    "else:\n",
    "    print(na, \"홀수\")\n",
    "print(\"if문 종료 됨\")"
   ]
  },
  {
   "cell_type": "code",
   "execution_count": 4,
   "id": "035d071d",
   "metadata": {},
   "outputs": [
    {
     "name": "stdout",
     "output_type": "stream",
     "text": [
      "당신의 토익점수는 700 하위권\n",
      "if 문 종료됨\n"
     ]
    }
   ],
   "source": [
    "#p76.py\n",
    "tscore = 700\n",
    "if tscore > 900:\n",
    "    print(\"당신의 토익점수는\", tscore, \"상위권\")\n",
    "elif tscore > 700:\n",
    "    print(\"당신의 토익점수는\", tscore, \"중위권\")\n",
    "else:\n",
    "    print(\"당신의 토익점수는\", tscore, \"하위권\")\n",
    "print(\"if 문 종료됨\")"
   ]
  },
  {
   "cell_type": "code",
   "execution_count": 5,
   "id": "3abf141d",
   "metadata": {},
   "outputs": [
    {
     "name": "stdout",
     "output_type": "stream",
     "text": [
      "월요일부터 일요일 중 영어로 번역하고 싶은 요일을 입력하세요\n",
      "수요일\n",
      "wednesday\n"
     ]
    }
   ],
   "source": [
    "#p78.py\n",
    "print(\"월요일부터 일요일 중 영어로 번역하고 싶은 요일을 입력하세요\")\n",
    "yoil = input()\n",
    "if yoil == \"월요일\":\n",
    "    print(\"monday\")\n",
    "elif yoil == \"화요일\":\n",
    "    print(\"tuesday\")\n",
    "elif yoil == \"수요일\":\n",
    "    print(\"wednesday\")\n",
    "elif yoil == \"목요일\":\n",
    "    print(\"thursday\")\n",
    "elif yoil == \"금요일\":\n",
    "    print(\"friday\")\n",
    "elif yoil == \"토요일\":\n",
    "    print(\"saturday\")\n",
    "elif yoil == \"일요일\":\n",
    "    print(\"sunday\")\n",
    "else:\n",
    "    print(\"한글 요일을 잘못 입력했습니다\")"
   ]
  },
  {
   "cell_type": "code",
   "execution_count": 6,
   "id": "0450b925",
   "metadata": {},
   "outputs": [
    {
     "name": "stdout",
     "output_type": "stream",
     "text": [
      "수학점수를 입력하세요65\n",
      "수학 성적은 D 입니다\n"
     ]
    }
   ],
   "source": [
    "#p79.py\n",
    "score = float(input(\"수학점수를 입력하세요\"))\n",
    "if score >= 90:\n",
    "    grade = \"A\"\n",
    "elif score >= 80:\n",
    "    grade = \"B\"\n",
    "elif score >= 70:\n",
    "    grade = \"C\"\n",
    "elif score >= 60:\n",
    "    grade = \"D\"\n",
    "else:\n",
    "    grade=\"F\"\n",
    "    \n",
    "print(\"수학 성적은\", grade, \"입니다\")\n",
    "    "
   ]
  },
  {
   "cell_type": "code",
   "execution_count": 7,
   "id": "ba91c528",
   "metadata": {},
   "outputs": [
    {
     "name": "stdout",
     "output_type": "stream",
     "text": [
      "수학점수를 입력하세요65.7\n",
      "수학 성적은 D 입니다\n"
     ]
    }
   ],
   "source": [
    "#p80.py\n",
    "score = float(input(\"수학점수를 입력하세요\"))\n",
    "if score >= 60:\n",
    "    if score >= 70:\n",
    "        if score >= 80:\n",
    "            if score >= 90:\n",
    "                grade=\"A\"\n",
    "            else:\n",
    "                grade=\"B\"\n",
    "        else:\n",
    "            grade=\"C\"\n",
    "    else:\n",
    "        grade=\"D\"\n",
    "else:\n",
    "    grade = \"F\"\n",
    "    \n",
    "print(\"수학 성적은\", grade, \"입니다\")"
   ]
  },
  {
   "cell_type": "code",
   "execution_count": null,
   "id": "50230083",
   "metadata": {},
   "outputs": [],
   "source": []
  }
 ],
 "metadata": {
  "kernelspec": {
   "display_name": "Python 3 (ipykernel)",
   "language": "python",
   "name": "python3"
  },
  "language_info": {
   "codemirror_mode": {
    "name": "ipython",
    "version": 3
   },
   "file_extension": ".py",
   "mimetype": "text/x-python",
   "name": "python",
   "nbconvert_exporter": "python",
   "pygments_lexer": "ipython3",
   "version": "3.9.13"
  }
 },
 "nbformat": 4,
 "nbformat_minor": 5
}
