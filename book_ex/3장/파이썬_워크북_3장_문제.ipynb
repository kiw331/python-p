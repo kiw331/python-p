{
  "nbformat": 4,
  "nbformat_minor": 0,
  "metadata": {
    "colab": {
      "provenance": []
    },
    "kernelspec": {
      "name": "python3",
      "display_name": "Python 3"
    },
    "language_info": {
      "name": "python"
    }
  },
  "cells": [
    {
      "cell_type": "markdown",
      "source": [
        "파이썬 워크북 3장 문제"
      ],
      "metadata": {
        "id": "aPPNxrt_mzfz"
      }
    },
    {
      "cell_type": "code",
      "source": [
        "# 문제 1\n",
        "\n",
        "na = 21\n",
        "if na % 2 == 0:\n",
        "    sa=\"홀수\"\n",
        "else:\n",
        "    sa=\"짝수\"\n",
        "print(na, sa)\n",
        "print(\"if 문 종료됨\")"
      ],
      "metadata": {
        "colab": {
          "base_uri": "https://localhost:8080/"
        },
        "id": "G56GrJ-wljrk",
        "outputId": "f8a15d08-a7f7-442b-bbe1-57b09d887ec3"
      },
      "execution_count": null,
      "outputs": [
        {
          "output_type": "stream",
          "name": "stdout",
          "text": [
            "21 짝수\n",
            "if 문 종료됨\n"
          ]
        }
      ]
    },
    {
      "cell_type": "code",
      "source": [
        "# 문제 2\n",
        "\n",
        "na = int(input(\"정수를 입력하세요.\"))\n",
        "if na % 2 == 0:\n",
        "    sa=\"홀수\"\n",
        "else:\n",
        "    sa=\"짝수\"\n",
        "print(na, sa)\n",
        "print(\"if 문 종료됨\")"
      ],
      "metadata": {
        "colab": {
          "base_uri": "https://localhost:8080/"
        },
        "id": "MpNHfe1wlr2d",
        "outputId": "99a2449a-934e-4ef1-ef83-e6fc61f703de"
      },
      "execution_count": null,
      "outputs": [
        {
          "output_type": "stream",
          "name": "stdout",
          "text": [
            "정수를 입력하세요.21\n",
            "21 짝수\n",
            "if 문 종료됨\n"
          ]
        }
      ]
    },
    {
      "cell_type": "code",
      "source": [
        "# 문제 3\n",
        "\n",
        "age=int(input(\"나이를 입력하세요.\"))\n",
        "if age >= 19:\n",
        "    print(\"당신의 나이는 \", age, \"살입니다.\")\n",
        "    print(\"입장하세요\")\n",
        "else:\n",
        "    print(\"당신의 나이는 \", age, \"살입니다.\")\n",
        "    print(\"보호자와 함께 입장하세요.\")"
      ],
      "metadata": {
        "colab": {
          "base_uri": "https://localhost:8080/"
        },
        "id": "RcZAtmf9mDLv",
        "outputId": "f9d4142f-d2ed-4701-9ae7-ab4de8f881df"
      },
      "execution_count": null,
      "outputs": [
        {
          "output_type": "stream",
          "name": "stdout",
          "text": [
            "나이를 입력하세요.20\n",
            "당신의 나이는  20 살입니다.\n",
            "입장하세요\n"
          ]
        }
      ]
    },
    {
      "cell_type": "code",
      "source": [
        "# 문제 4\n",
        "\n",
        "rmoney=int(input(\"이번달 용돈은 얼마인가요?\"))\n",
        "pmoney=int(input(\"이번달 지출 총액은 얼마인가요?\"))\n",
        "if rmoney > pmoney:\n",
        "    print(\"용돈이 남았군요, 좀 더 쓰셔도 됩니다.\")\n",
        "elif rmoney == pmoney:\n",
        "    print(\"용돈 관리를 잘했군요.\")\n",
        "else:\n",
        "    print(\"용돈을 아껴 쓰세요.\")"
      ],
      "metadata": {
        "colab": {
          "base_uri": "https://localhost:8080/"
        },
        "id": "P8jw9unMmP6g",
        "outputId": "29a7c0dc-a483-4d14-e34a-397878073aff"
      },
      "execution_count": null,
      "outputs": [
        {
          "output_type": "stream",
          "name": "stdout",
          "text": [
            "이번달 용돈은 얼마인가요?20000\n",
            "이번달 지출 총액은 얼마인가요?21000\n",
            "용돈을 아껴 쓰세요.\n"
          ]
        }
      ]
    },
    {
      "cell_type": "code",
      "source": [
        "# 문제 5\n",
        "\n",
        "MyName =''\n",
        "if MyName =='hongkildong':\n",
        "    print(\"확인되었습니다.\")\n",
        "else:\n",
        "    print(\"틀렸습니다. 다시 입력하세요.\")\n",
        "    MyName = input()\n",
        "    if MyName =='hongkildong':\n",
        "          print(\"확인되었습니다.\")"
      ],
      "metadata": {
        "colab": {
          "base_uri": "https://localhost:8080/"
        },
        "id": "_5dOSoxwmfhf",
        "outputId": "9e880899-3c6f-4fa9-d2f5-c0c61c33af44"
      },
      "execution_count": null,
      "outputs": [
        {
          "output_type": "stream",
          "name": "stdout",
          "text": [
            "틀렸습니다. 다시 입력하세요.\n",
            "hongkildong\n",
            "확인되었습니다.\n"
          ]
        }
      ]
    }
  ]
}