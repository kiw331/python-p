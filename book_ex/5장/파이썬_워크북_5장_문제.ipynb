{
  "nbformat": 4,
  "nbformat_minor": 0,
  "metadata": {
    "colab": {
      "provenance": []
    },
    "kernelspec": {
      "name": "python3",
      "display_name": "Python 3"
    },
    "language_info": {
      "name": "python"
    }
  },
  "cells": [
    {
      "cell_type": "markdown",
      "source": [
        "파이썬 워크북 5장 문제"
      ],
      "metadata": {
        "id": "Mpm__fEazT0q"
      }
    },
    {
      "cell_type": "code",
      "source": [
        "# 문제 1\n",
        "\n",
        "print(\"월요일부터 일요일 중 영어로 번역하고 싶은 요일을 입력하세요.\")\n",
        "yoil=input()\n",
        "if yoil == \"월요일\":\n",
        "    print(\"monday\")\n",
        "elif yoil == \"화요일\":\n",
        "    print(\"tuesday\")\n",
        "elif yoil == \"수요일\":\n",
        "    print(\"wednesday\")\n",
        "elif yoil == \"목요일\":\n",
        "    print(\"thursday\")\n",
        "elif yoil == \"금요일\":\n",
        "    print(\"friday\")\n",
        "elif yoil == \"토요일\":\n",
        "    print(\"saturday\")\n",
        "else:\n",
        "    print(\"sunday\")"
      ],
      "metadata": {
        "colab": {
          "base_uri": "https://localhost:8080/"
        },
        "id": "068xn1lHzW8w",
        "outputId": "bd939556-fb3c-4c70-d773-007893b86908"
      },
      "execution_count": null,
      "outputs": [
        {
          "output_type": "stream",
          "name": "stdout",
          "text": [
            "월요일부터 일요일 중 영어로 번역하고 싶은 요일을 입력하세요.\n",
            "월요일\n",
            "monday\n"
          ]
        }
      ]
    },
    {
      "cell_type": "code",
      "source": [
        "# 문제 2\n",
        "\n",
        "dicta={\"월요일\":\"monday\", \"화요일\":\"tuesday\", \"수요일\":\"wednesday\", \"목요일\":\"thursday\", \"금요일\":\"friday\", \"토요일\":\"saturday\", \"일요일\":\"sunday\"}\n",
        "print(\"월요일부터 일요일 중 영어로 번역하고 싶은 요일을 입력하세요.\")\n",
        "yoil=input()\n",
        "print(dicta[yoil])"
      ],
      "metadata": {
        "colab": {
          "base_uri": "https://localhost:8080/"
        },
        "id": "0KKQG_ZxzneQ",
        "outputId": "9d4e3e80-707b-4b82-86de-680dee8940a2"
      },
      "execution_count": null,
      "outputs": [
        {
          "output_type": "stream",
          "name": "stdout",
          "text": [
            "월요일부터 일요일 중 영어로 번역하고 싶은 요일을 입력하세요.\n",
            "월요일\n",
            "monday\n"
          ]
        }
      ]
    },
    {
      "cell_type": "code",
      "source": [
        "# 문제 3\n",
        "\n",
        "dicta={\"월요일\":\"monday\", \"화요일\":\"tuesday\", \"수요일\":\"wednesday\", \"목요일\":\"thursday\", \"금요일\":\"friday\", \"토요일\":\"saturday\", \"일요일\":\"sunday\"}\n",
        "print(\"월요일부터 일요일 중 영어로 번역하고 싶은 요일을 입력하세요.\")\n",
        "yoil=input()\n",
        "if yoil in dicta:\n",
        "    print(dicta[yoil])\n",
        "else:\n",
        "    print(\"요일을 잘못 입력했어요.\")"
      ],
      "metadata": {
        "colab": {
          "base_uri": "https://localhost:8080/"
        },
        "id": "A8U7UhjcztzH",
        "outputId": "34737228-fbd8-4381-bbf6-3c9554446958"
      },
      "execution_count": null,
      "outputs": [
        {
          "output_type": "stream",
          "name": "stdout",
          "text": [
            "월요일부터 일요일 중 영어로 번역하고 싶은 요일을 입력하세요.\n",
            "월\n",
            "요일을 잘못 입력했어요.\n"
          ]
        }
      ]
    }
  ]
}