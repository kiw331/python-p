{
 "cells": [
  {
   "cell_type": "code",
   "execution_count": 1,
   "id": "5e93152b",
   "metadata": {},
   "outputs": [
    {
     "name": "stdout",
     "output_type": "stream",
     "text": [
      "[10, 11, 21]\n",
      "10\n",
      "11\n",
      "21\n"
     ]
    }
   ],
   "source": [
    "#p134.py\n",
    "ca=[10,11,21]\n",
    "print(ca)\n",
    "print(ca[0])\n",
    "print(ca[1])\n",
    "print(ca[2])"
   ]
  },
  {
   "cell_type": "code",
   "execution_count": 2,
   "id": "d5bbe053",
   "metadata": {},
   "outputs": [
    {
     "name": "stdout",
     "output_type": "stream",
     "text": [
      "[1, 'python', 3.9, '프로그래밍']\n",
      "1\n",
      "python\n",
      "3.9\n",
      "프로그래밍\n"
     ]
    }
   ],
   "source": [
    "#p136.py  # 책 코드에 print(lista) 가 프리트문 중 가장 먼저 실행하는 것으로 수정되어야 함.\n",
    "lista=[1, \"python\", 3.9, '프로그래밍']\n",
    "print(lista)\n",
    "print(lista[0])\n",
    "print(lista[1])\n",
    "print(lista[2])\n",
    "print(lista[3])\n"
   ]
  },
  {
   "cell_type": "code",
   "execution_count": 3,
   "id": "32487a86",
   "metadata": {},
   "outputs": [
    {
     "name": "stdout",
     "output_type": "stream",
     "text": [
      "[1, 2, 30, 4, 5]\n",
      "[1, 2, 30, 40, 5]\n"
     ]
    }
   ],
   "source": [
    "#p138.py\n",
    "a = [1, 2, 3, 4, 5]\n",
    "a[2] = 30\n",
    "print(a)\n",
    "a[3] = 40\n",
    "print(a)"
   ]
  },
  {
   "cell_type": "code",
   "execution_count": 4,
   "id": "70126499",
   "metadata": {},
   "outputs": [
    {
     "name": "stdout",
     "output_type": "stream",
     "text": [
      "[]\n",
      "[300]\n",
      "[300, '파이썬']\n",
      "[300, '파이썬', 3.7]\n"
     ]
    }
   ],
   "source": [
    "#p139_1.py\n",
    "listc=[]\n",
    "print(listc)\n",
    "listc.append(300)\n",
    "print(listc)\n",
    "listc.append(\"파이썬\")\n",
    "print(listc)\n",
    "listc.append(3.7)\n",
    "print(listc)"
   ]
  },
  {
   "cell_type": "code",
   "execution_count": 5,
   "id": "9524998c",
   "metadata": {},
   "outputs": [],
   "source": [
    "#p139_2.py\n",
    "#listd=[]\n",
    "#listd[0]=10"
   ]
  },
  {
   "cell_type": "code",
   "execution_count": 6,
   "id": "c1d0000c",
   "metadata": {},
   "outputs": [],
   "source": [
    "#p140_1.py\n",
    "listd=[]\n",
    "listd.append(10)\n"
   ]
  },
  {
   "cell_type": "code",
   "execution_count": 7,
   "id": "a9e23e8f",
   "metadata": {},
   "outputs": [
    {
     "name": "stdout",
     "output_type": "stream",
     "text": [
      "1\n"
     ]
    }
   ],
   "source": [
    "#p140_2.py\n",
    "liste = ['apple', 'banana', 'cherry', 'orange']\n",
    "print(liste.index('banana'))\n"
   ]
  },
  {
   "cell_type": "code",
   "execution_count": 8,
   "id": "234069e5",
   "metadata": {},
   "outputs": [
    {
     "name": "stdout",
     "output_type": "stream",
     "text": [
      "5\n",
      "6\n",
      "1\n",
      "9\n",
      "4\n"
     ]
    }
   ],
   "source": [
    "#p141_1.py\n",
    "na = [5, 6, 1, 9, 4]\n",
    "for i in range(0, 5, 1):\n",
    "    print(na[i])"
   ]
  },
  {
   "cell_type": "code",
   "execution_count": 9,
   "id": "dcae57f3",
   "metadata": {},
   "outputs": [
    {
     "name": "stdout",
     "output_type": "stream",
     "text": [
      "5\n",
      "6\n",
      "1\n",
      "9\n",
      "4\n"
     ]
    }
   ],
   "source": [
    "#p141_2.py\n",
    "nb = [5, 6, 1, 9, 4]\n",
    "for nc in nb:\n",
    "    print(nc)"
   ]
  },
  {
   "cell_type": "code",
   "execution_count": 10,
   "id": "856dd54e",
   "metadata": {},
   "outputs": [
    {
     "name": "stdout",
     "output_type": "stream",
     "text": [
      "5\n",
      "6\n",
      "1\n",
      "9\n",
      "4\n"
     ]
    }
   ],
   "source": [
    "#p142_1.py\n",
    "\n",
    "for nd in [5, 6, 1, 9, 4]:\n",
    "    print(nd)"
   ]
  },
  {
   "cell_type": "code",
   "execution_count": 11,
   "id": "9380e43d",
   "metadata": {},
   "outputs": [
    {
     "name": "stdout",
     "output_type": "stream",
     "text": [
      "5\n"
     ]
    }
   ],
   "source": [
    "#p142_2.py  #책에 nc => na로 수정해야함\n",
    "na = [0, 6, 1, 9, 4]\n",
    "k = len(na)\n",
    "print(k)"
   ]
  },
  {
   "cell_type": "code",
   "execution_count": 12,
   "id": "83b2a5f6",
   "metadata": {},
   "outputs": [
    {
     "name": "stdout",
     "output_type": "stream",
     "text": [
      "0\n",
      "6\n",
      "1\n",
      "9\n",
      "4\n"
     ]
    }
   ],
   "source": [
    "#p143_1.py #책에 nc => na로 수정해야함\n",
    "na = [0, 6, 1, 9, 4]\n",
    "k = len(na)\n",
    "for i in range(0, k, 1):\n",
    "    print(na[i])"
   ]
  },
  {
   "cell_type": "code",
   "execution_count": 13,
   "id": "01bf4fbf",
   "metadata": {},
   "outputs": [
    {
     "name": "stdout",
     "output_type": "stream",
     "text": [
      "13\n",
      "5\n",
      "3\n",
      "5\n"
     ]
    }
   ],
   "source": [
    "#p143_2.py  #책에 변수명 list => nc로 수정해야함\n",
    "str = 'Hello, World!'\n",
    "print(len(str))\n",
    "nc = [1, 2, 3, 4, 5]\n",
    "print(len(nc))\n",
    "dict = {'name': 'John', 'age':\\\n",
    "       25,  'city':'New York'}\n",
    "print(len(dict))\n",
    "set = {1, 2, 3, 4, 5}\n",
    "print(len(set))"
   ]
  },
  {
   "cell_type": "code",
   "execution_count": 14,
   "id": "db1e0c67",
   "metadata": {},
   "outputs": [
    {
     "name": "stdout",
     "output_type": "stream",
     "text": [
      "[1, 2, 4, 5, 7, 8, 10]\n"
     ]
    }
   ],
   "source": [
    "#p143_3.py\n",
    "numbers = [1, 2, 3, 4, 5, 6, 7, 8, 9, 10]\n",
    "numbers_without_3 = []\n",
    "\n",
    "for num in numbers:\n",
    "    if num % 3 != 0:\n",
    "        numbers_without_3.append(num)\n",
    "        \n",
    "print(numbers_without_3)"
   ]
  },
  {
   "cell_type": "code",
   "execution_count": 15,
   "id": "cd09a78b",
   "metadata": {},
   "outputs": [
    {
     "name": "stdout",
     "output_type": "stream",
     "text": [
      "(1, 2, 3)\n",
      "<class 'tuple'>\n"
     ]
    }
   ],
   "source": [
    "#p144_1.py\n",
    "a = (1, 2, 3)\n",
    "print(a)\n",
    "print(type(a))"
   ]
  },
  {
   "cell_type": "code",
   "execution_count": 16,
   "id": "1638441c",
   "metadata": {},
   "outputs": [
    {
     "name": "stdout",
     "output_type": "stream",
     "text": [
      "1\n",
      "2\n",
      "3\n"
     ]
    }
   ],
   "source": [
    "#p145_1.py\n",
    "a = (1, 2, 3)\n",
    "print(a[0])\n",
    "print(a[1])\n",
    "print(a[2])"
   ]
  },
  {
   "cell_type": "code",
   "execution_count": 17,
   "id": "ecb7d58f",
   "metadata": {},
   "outputs": [
    {
     "name": "stdout",
     "output_type": "stream",
     "text": [
      "1\n",
      "2\n",
      "3\n"
     ]
    }
   ],
   "source": [
    "#p145_2.py #책에  range(0, 1, 3) => range(0, 3, 1)로 수정해야함\n",
    "a = (1, 2, 3)\n",
    "for sa in range(0, 3, 1):\n",
    "    print(a[sa])"
   ]
  },
  {
   "cell_type": "code",
   "execution_count": 18,
   "id": "2ba4c4f9",
   "metadata": {},
   "outputs": [
    {
     "name": "stdout",
     "output_type": "stream",
     "text": [
      "1\n",
      "2\n",
      "3\n"
     ]
    }
   ],
   "source": [
    "#p145_3.py\n",
    "a = (1, 2, 3)\n",
    "for sa in a:\n",
    "    print(sa)"
   ]
  },
  {
   "cell_type": "code",
   "execution_count": 19,
   "id": "4f0f210f",
   "metadata": {},
   "outputs": [
    {
     "name": "stdout",
     "output_type": "stream",
     "text": [
      "(1, 2, 3) a의 데이터형식은 <class 'tuple'>\n",
      "[1, 2, 3] b의 데이터형식은 <class 'list'>\n",
      "[7, 2, 3]\n"
     ]
    }
   ],
   "source": [
    "#p146_2.py\n",
    "a = (1, 2, 3)\n",
    "print(a, \"a의 데이터형식은\", type(a))\n",
    "b = list(a)\n",
    "print(b, \"b의 데이터형식은\", type(b))\n",
    "b[0] = 7\n",
    "print(b) "
   ]
  },
  {
   "cell_type": "code",
   "execution_count": 20,
   "id": "569adff0",
   "metadata": {},
   "outputs": [
    {
     "name": "stdout",
     "output_type": "stream",
     "text": [
      "{'애플': 'apple.com', '파이썬': 'python.org', '마소': 'microsoft.com'}\n",
      "*******************************************************************\n",
      "apple.com\n",
      "python.org\n",
      "microsoft.com\n"
     ]
    }
   ],
   "source": [
    "#p148.py\n",
    "dica = {'애플': 'apple.com','파이썬': 'python.org','마소': 'microsoft.com' }\n",
    "print(dica)\n",
    "print(\"*******************************************************************\")\n",
    "print(dica['애플'])\n",
    "print(dica['파이썬'])\n",
    "print(dica['마소'])"
   ]
  },
  {
   "cell_type": "code",
   "execution_count": 21,
   "id": "4b889992",
   "metadata": {},
   "outputs": [
    {
     "name": "stdout",
     "output_type": "stream",
     "text": [
      "dict_items([('애플', 'apple.com'), ('파이썬', 'python.org'), ('마소', 'microsoft.com')])\n",
      "dict_keys(['애플', '파이썬', '마소'])\n",
      "dict_values(['apple.com', 'python.org', 'microsoft.com'])\n"
     ]
    }
   ],
   "source": [
    "#p149.py\n",
    "dic = {'애플': 'apple.com','파이썬': 'python.org','마소': 'microsoft.com' }\n",
    "print(dic.items())\n",
    "print(dic.keys())\n",
    "print(dic.values())"
   ]
  },
  {
   "cell_type": "code",
   "execution_count": 23,
   "id": "4138776b",
   "metadata": {},
   "outputs": [
    {
     "name": "stdout",
     "output_type": "stream",
     "text": [
      "{'애플': 'apple.com', '파이썬': 'python.org', '마소': 'microsoft.com'}\n",
      "*******************************************************************\n",
      "애플\n",
      "파이썬\n",
      "마소\n"
     ]
    }
   ],
   "source": [
    "#p150.py\n",
    "dicb = {'애플': 'apple.com','파이썬': 'python.org','마소': 'microsoft.com' }\n",
    "print(dicb)\n",
    "print(\"*******************************************************************\")\n",
    "for sb in dicb:\n",
    "    print(sb)"
   ]
  },
  {
   "cell_type": "code",
   "execution_count": 24,
   "id": "dbd0e46d",
   "metadata": {},
   "outputs": [
    {
     "name": "stdout",
     "output_type": "stream",
     "text": [
      "dict_keys(['애플', '파이썬', '마소'])\n",
      "*******************************************************************\n",
      "애플\n",
      "파이썬\n",
      "마소\n"
     ]
    }
   ],
   "source": [
    "#p151_1.py\n",
    "dicc = {'애플': 'apple.com','파이썬': 'python.org','마소': 'microsoft.com' }\n",
    "print(dicc.keys())\n",
    "print(\"*******************************************************************\")\n",
    "for sc in dicc.keys():\n",
    "    print(sc)"
   ]
  },
  {
   "cell_type": "code",
   "execution_count": 27,
   "id": "a0770da4",
   "metadata": {},
   "outputs": [
    {
     "name": "stdout",
     "output_type": "stream",
     "text": [
      "dict_values(['apple.com', 'python.org', 'microsoft.com'])\n",
      "*******************************************************************\n",
      "apple.com\n",
      "python.org\n",
      "microsoft.com\n"
     ]
    }
   ],
   "source": [
    "#p151_2.py\n",
    "dicf = {'애플': 'apple.com','파이썬': 'python.org','마소': 'microsoft.com' }\n",
    "print(dicf.values())\n",
    "print(\"*******************************************************************\")\n",
    "for sf in dicf.values():\n",
    "    print(sf)"
   ]
  },
  {
   "cell_type": "code",
   "execution_count": 28,
   "id": "c01956fe",
   "metadata": {},
   "outputs": [
    {
     "name": "stdout",
     "output_type": "stream",
     "text": [
      "dict_items([('애플', 'apple.com'), ('파이썬', 'python.org'), ('마소', 'microsoft.com')])\n",
      "*******************************************************************\n",
      "애플 apple.com\n",
      "파이썬 python.org\n",
      "마소 microsoft.com\n"
     ]
    }
   ],
   "source": [
    "#p152_1.py\n",
    "dicd = {'애플': 'apple.com','파이썬': 'python.org','마소': 'microsoft.com' }\n",
    "print(dicd.items())\n",
    "print(\"*******************************************************************\")\n",
    "for sd, se in dicf.items():\n",
    "    print(sd, se)"
   ]
  },
  {
   "cell_type": "code",
   "execution_count": 31,
   "id": "64301b62",
   "metadata": {},
   "outputs": [
    {
     "name": "stdout",
     "output_type": "stream",
     "text": [
      "{'a': 100, 'b': 200, 'c': 300, 'd': 400}\n"
     ]
    }
   ],
   "source": [
    "#p152_2.py\n",
    "dict1 = {'a': 100, 'b': 200}\n",
    "dict2 = {'c': 300, 'd': 400}\n",
    "dict3 = {}\n",
    "\n",
    "for ka, va in dict1.items():\n",
    "    dict3[ka] = va\n",
    "for kb, vb in dict2.items():\n",
    "    dict3[kb] = vb\n",
    "print(dict3)"
   ]
  },
  {
   "cell_type": "code",
   "execution_count": 32,
   "id": "1073ee2a",
   "metadata": {},
   "outputs": [
    {
     "name": "stdout",
     "output_type": "stream",
     "text": [
      "{'이름': '홍길동', '학번': 12345, '학점': 4.5, '학과': '경영학과'}\n"
     ]
    }
   ],
   "source": [
    "#p153.py\n",
    "dica={'이름':'홍길동', '학번':12345, '학점': 4.5}\n",
    "dica[\"학과\"]=\"경영학과\"\n",
    "print(dica)"
   ]
  },
  {
   "cell_type": "code",
   "execution_count": 33,
   "id": "8bcbc440",
   "metadata": {},
   "outputs": [
    {
     "name": "stdout",
     "output_type": "stream",
     "text": [
      "{'이름': '홍길동', '학번': 12345, '학점': 4.5, '학과': '경영학과'}\n"
     ]
    }
   ],
   "source": [
    "#p154_1.py\n",
    "dica={'이름':'홍길동', '학번':12345, '학점': 4.5}\n",
    "a='학과'\n",
    "b='경영학과'\n",
    "dica[a]=b\n",
    "print(dica)"
   ]
  },
  {
   "cell_type": "code",
   "execution_count": 34,
   "id": "dd55388d",
   "metadata": {},
   "outputs": [
    {
     "name": "stdout",
     "output_type": "stream",
     "text": [
      "입력하고자 하는 요소키를 입력하세요: 학과\n",
      "입력하고자 하는 요소값을 입력하세요: 경영학과\n",
      "{'이름': '홍길동', '학번': 12345, '학점': 4.5, '학과': '경영학과'}\n"
     ]
    }
   ],
   "source": [
    "#p154_2.py\n",
    "dica={'이름':'홍길동', '학번':12345, '학점': 4.5}\n",
    "da=input(\"입력하고자 하는 요소키를 입력하세요: \")\n",
    "db=input(\"입력하고자 하는 요소값을 입력하세요: \")\n",
    "dica[da]=db\n",
    "print(dica)"
   ]
  },
  {
   "cell_type": "code",
   "execution_count": 35,
   "id": "126f23d7",
   "metadata": {},
   "outputs": [
    {
     "name": "stdout",
     "output_type": "stream",
     "text": [
      "{'이름': '홍길동', '학번': 12345, '학점': 4.5}\n"
     ]
    }
   ],
   "source": [
    "#p155_1.py\n",
    "lista=['이름', '학번', '학점']\n",
    "listb=['홍길동', 12345, 4.5]\n",
    "dicta={}\n",
    "dicta[lista[0]]=listb[0]\n",
    "dicta[lista[1]]=listb[1]\n",
    "dicta[lista[2]]=listb[2]\n",
    "print(dicta)"
   ]
  },
  {
   "cell_type": "code",
   "execution_count": 36,
   "id": "901dd51d",
   "metadata": {},
   "outputs": [
    {
     "name": "stdout",
     "output_type": "stream",
     "text": [
      "{'이름': '홍길동', '학번': 12345, '학점': 4.5}\n"
     ]
    }
   ],
   "source": [
    "#p155_2.py\n",
    "lista=['이름', '학번', '학점']\n",
    "listb=['홍길동', 12345, 4.5]\n",
    "dicta={}\n",
    "\n",
    "for i in range(len(lista)):\n",
    "    dicta[lista[i]] = listb[i]\n",
    "\n",
    "print(dicta)"
   ]
  },
  {
   "cell_type": "code",
   "execution_count": 39,
   "id": "d6bd94c4",
   "metadata": {},
   "outputs": [
    {
     "name": "stdout",
     "output_type": "stream",
     "text": [
      "숫자 7이 리스트에 포함되어 있습니다\n"
     ]
    }
   ],
   "source": [
    "#p158_1.py # 책에 if 조건문 다음 들여쓰기 안되어 있음=>들여쓰기 수정해야함 \n",
    "#책에 numbers변수 2번 정의되어 있음 하나 삭제해야함\n",
    "numbers = [1, 3, 5, 7, 9]\n",
    "\n",
    "if 7 in numbers:\n",
    "    print(\"숫자 7이 리스트에 포함되어 있습니다\")\n",
    "else:\n",
    "    print(\"숫자 7이 리스트에 포함되어 있지 않습니다\")"
   ]
  },
  {
   "cell_type": "code",
   "execution_count": 38,
   "id": "d4d5e68b",
   "metadata": {},
   "outputs": [
    {
     "name": "stdout",
     "output_type": "stream",
     "text": [
      "'name' 키가 딕셔너리에 포함되어 있습니다.\n"
     ]
    }
   ],
   "source": [
    "#p158_2.py# 책에 if 조건문 다음 들여쓰기 안되어 있음=>들여쓰기 수정해야함 \n",
    "#책에 person변수 2번 정의되어 있음 하나 삭제해야함\n",
    "person = {\"name\":\"john\", \"age\":30, \"city\":\"NewYork\"}\n",
    "\n",
    "if \"name\" in person:\n",
    "    print(\"'name' 키가 딕셔너리에 포함되어 있습니다.\")\n",
    "else:\n",
    "    print(\"'name'키가 딕셔너리에 포함되어 있지 않습니다\")"
   ]
  }
 ],
 "metadata": {
  "kernelspec": {
   "display_name": "Python 3 (ipykernel)",
   "language": "python",
   "name": "python3"
  },
  "language_info": {
   "codemirror_mode": {
    "name": "ipython",
    "version": 3
   },
   "file_extension": ".py",
   "mimetype": "text/x-python",
   "name": "python",
   "nbconvert_exporter": "python",
   "pygments_lexer": "ipython3",
   "version": "3.9.13"
  }
 },
 "nbformat": 4,
 "nbformat_minor": 5
}
