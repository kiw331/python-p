{
 "cells": [
  {
   "cell_type": "code",
   "execution_count": 2,
   "id": "a2cdc3d0",
   "metadata": {},
   "outputs": [
    {
     "name": "stdout",
     "output_type": "stream",
     "text": [
      "수량을 입력하세요ㅁ\n",
      "잘못된 입력입니다\n",
      "수량을 입력하세요5\n"
     ]
    }
   ],
   "source": [
    "#p334.py\n",
    "while True:\n",
    "    count = input(\"수량을 입력하세요\")\n",
    "    try:\n",
    "        count = int(count)\n",
    "        break\n",
    "    except:\n",
    "        print(\"잘못된 입력입니다\")"
   ]
  },
  {
   "cell_type": "code",
   "execution_count": 3,
   "id": "5688e2d1",
   "metadata": {},
   "outputs": [
    {
     "name": "stdout",
     "output_type": "stream",
     "text": [
      "수량을 입력하세요a\n",
      "잘못된 입력입니다\n",
      "수량을 입력하세요5\n"
     ]
    }
   ],
   "source": [
    "#p334_1.py\n",
    "while True:\n",
    "    count = input(\"수량을 입력하세요\")\n",
    "    try:\n",
    "        count = int(count)\n",
    "        break\n",
    "    except ValueError:\n",
    "        print(\"잘못된 입력입니다\")"
   ]
  },
  {
   "cell_type": "code",
   "execution_count": 6,
   "id": "670d325e",
   "metadata": {},
   "outputs": [
    {
     "name": "stdout",
     "output_type": "stream",
     "text": [
      "수량을 입력하세요a\n",
      "잘못된 입력입니다\n",
      "수량을 입력하세요5\n"
     ]
    }
   ],
   "source": [
    "#p334_2.py\n",
    "while True:\n",
    "    count = input(\"수량을 입력하세요\")\n",
    "    if count.isdigit():\n",
    "        count = int(count)\n",
    "        break\n",
    "    else:\n",
    "        print(\"잘못된 입력입니다\")"
   ]
  },
  {
   "cell_type": "code",
   "execution_count": 7,
   "id": "350b8d23",
   "metadata": {},
   "outputs": [
    {
     "name": "stdout",
     "output_type": "stream",
     "text": [
      "월요일 부터 일요일 중 영어로 번역하고 싶은 요일을 입력하세요\n",
      "월\n"
     ]
    },
    {
     "ename": "KeyError",
     "evalue": "'월'",
     "output_type": "error",
     "traceback": [
      "\u001b[1;31m---------------------------------------------------------------------------\u001b[0m",
      "\u001b[1;31mKeyError\u001b[0m                                  Traceback (most recent call last)",
      "\u001b[1;32m~\\AppData\\Local\\Temp\\ipykernel_17444\\779747791.py\u001b[0m in \u001b[0;36m<module>\u001b[1;34m\u001b[0m\n\u001b[0;32m      3\u001b[0m \u001b[0mprint\u001b[0m\u001b[1;33m(\u001b[0m\u001b[1;34m\"월요일 부터 일요일 중 영어로 번역하고 싶은 요일을 입력하세요\"\u001b[0m\u001b[1;33m)\u001b[0m\u001b[1;33m\u001b[0m\u001b[1;33m\u001b[0m\u001b[0m\n\u001b[0;32m      4\u001b[0m \u001b[0myoil\u001b[0m\u001b[1;33m=\u001b[0m\u001b[0minput\u001b[0m\u001b[1;33m(\u001b[0m\u001b[1;33m)\u001b[0m\u001b[1;33m\u001b[0m\u001b[1;33m\u001b[0m\u001b[0m\n\u001b[1;32m----> 5\u001b[1;33m \u001b[0mprint\u001b[0m\u001b[1;33m(\u001b[0m\u001b[0mdicta\u001b[0m\u001b[1;33m[\u001b[0m\u001b[0myoil\u001b[0m\u001b[1;33m]\u001b[0m\u001b[1;33m)\u001b[0m\u001b[1;33m\u001b[0m\u001b[1;33m\u001b[0m\u001b[0m\n\u001b[0m",
      "\u001b[1;31mKeyError\u001b[0m: '월'"
     ]
    }
   ],
   "source": [
    "#p336.py\n",
    "dicta={\"월요일\":\"monday\", \"화요일\":\"tuesday\", \"수요일\":\"wednesday\", \"목요일\":\"thursday\", \"금요일\":\"friday\", \"토요일\":\"saturday\", \"일요일\":\"sunday\"}\n",
    "print(\"월요일 부터 일요일 중 영어로 번역하고 싶은 요일을 입력하세요\")\n",
    "yoil=input()\n",
    "print(dicta[yoil])"
   ]
  },
  {
   "cell_type": "code",
   "execution_count": 8,
   "id": "b6a2e45d",
   "metadata": {},
   "outputs": [
    {
     "name": "stdout",
     "output_type": "stream",
     "text": [
      "월요일 부터 일요일 중 영어로 번역하고 싶은 요일을 입력하세요\n",
      "ㅁ\n",
      "요일을 잘못 입력했어요\n"
     ]
    }
   ],
   "source": [
    "#p337.py\n",
    "dicta={\"월요일\":\"monday\", \"화요일\":\"tuesday\", \"수요일\":\"wednesday\", \"목요일\":\"thursday\", \"금요일\":\"friday\", \"토요일\":\"saturday\", \"일요일\":\"sunday\"}\n",
    "print(\"월요일 부터 일요일 중 영어로 번역하고 싶은 요일을 입력하세요\")\n",
    "yoil=input()\n",
    "try:\n",
    "    print(dicta[yoil])\n",
    "except KeyError:\n",
    "    print(\"요일을 잘못 입력했어요\")"
   ]
  },
  {
   "cell_type": "code",
   "execution_count": 10,
   "id": "5b636dc9",
   "metadata": {},
   "outputs": [
    {
     "name": "stdout",
     "output_type": "stream",
     "text": [
      "분모가 0으로 나눌 수 없습니다.\n"
     ]
    }
   ],
   "source": [
    "#p338.py\n",
    "na = 11\n",
    "nb = 0\n",
    "if nb!= 0:\n",
    "    nc = na/nb\n",
    "else:\n",
    "    nc = \"분모가 0으로 나눌 수 없습니다.\"\n",
    "    \n",
    "print(nc)"
   ]
  },
  {
   "cell_type": "code",
   "execution_count": 12,
   "id": "e1b7a23e",
   "metadata": {},
   "outputs": [
    {
     "name": "stdout",
     "output_type": "stream",
     "text": [
      "0인 분보가 분자를 나눌 수 없습니다\n"
     ]
    }
   ],
   "source": [
    "#p338.py\n",
    "try:\n",
    "    print(11/0)\n",
    "except ZeroDivisionError:\n",
    "    print(\"0인 분보가 분자를 나눌 수 없습니다\")"
   ]
  },
  {
   "cell_type": "code",
   "execution_count": 13,
   "id": "4c8edcf1",
   "metadata": {},
   "outputs": [
    {
     "name": "stdout",
     "output_type": "stream",
     "text": [
      "분자값을 입력하세요\n",
      "11\n",
      "분모값을 입력하세요\n",
      "2\n",
      "5.5\n"
     ]
    }
   ],
   "source": [
    "#p340py\n",
    "print(\"분자값을 입력하세요\")\n",
    "ra = int(input())\n",
    "print(\"분모값을 입력하세요\")\n",
    "rb = int(input())\n",
    "\n",
    "if rb!= 0:\n",
    "    rc = ra/rb\n",
    "else:\n",
    "    rc = \"분모가 0으로 나눌 수 없습니다.\"\n",
    "    \n",
    "print(rc)"
   ]
  },
  {
   "cell_type": "code",
   "execution_count": 14,
   "id": "330bf369",
   "metadata": {},
   "outputs": [
    {
     "name": "stdout",
     "output_type": "stream",
     "text": [
      "분자값을 입력하세요\n",
      "11\n",
      "분모값을 입력하세요\n",
      "0\n",
      "분모가 0으로 나눌 수 없습니다.\n"
     ]
    }
   ],
   "source": [
    "#p341_1.py\n",
    "print(\"분자값을 입력하세요\")\n",
    "ra = int(input())\n",
    "print(\"분모값을 입력하세요\")\n",
    "rb = int(input())\n",
    "\n",
    "try:\n",
    "    rc = ra/rb\n",
    "except ZeroDivisionError:\n",
    "    rc = \"분모가 0으로 나눌 수 없습니다.\"\n",
    "    \n",
    "print(rc)"
   ]
  },
  {
   "cell_type": "code",
   "execution_count": 16,
   "id": "9b4c50c9",
   "metadata": {},
   "outputs": [
    {
     "name": "stdout",
     "output_type": "stream",
     "text": [
      "분자값을 입력하세요\n",
      "11\n",
      "분모값을 입력하세요\n",
      "2\n",
      "5.5\n"
     ]
    }
   ],
   "source": [
    "#p341_2.py\n",
    "print(\"분자값을 입력하세요\")\n",
    "ra = int(input())\n",
    "print(\"분모값을 입력하세요\")\n",
    "rb = int(input())\n",
    "\n",
    "try:\n",
    "    rc = ra/rb\n",
    "except ZeroDivisionError:\n",
    "    rc = \"분모가 0으로 나눌 수 없습니다.\"\n",
    "    \n",
    "else:\n",
    "    print(rc)"
   ]
  },
  {
   "cell_type": "code",
   "execution_count": 18,
   "id": "54670d30",
   "metadata": {},
   "outputs": [
    {
     "name": "stdout",
     "output_type": "stream",
     "text": [
      "p\n",
      "y\n",
      "t\n",
      "<class 'str'>\n"
     ]
    },
    {
     "ename": "TypeError",
     "evalue": "'str' object does not support item assignment",
     "output_type": "error",
     "traceback": [
      "\u001b[1;31m---------------------------------------------------------------------------\u001b[0m",
      "\u001b[1;31mTypeError\u001b[0m                                 Traceback (most recent call last)",
      "\u001b[1;32m~\\AppData\\Local\\Temp\\ipykernel_17444\\187709860.py\u001b[0m in \u001b[0;36m<module>\u001b[1;34m\u001b[0m\n\u001b[0;32m      4\u001b[0m \u001b[0mprint\u001b[0m\u001b[1;33m(\u001b[0m\u001b[0mmuna\u001b[0m\u001b[1;33m[\u001b[0m\u001b[1;36m2\u001b[0m\u001b[1;33m]\u001b[0m\u001b[1;33m)\u001b[0m\u001b[1;33m\u001b[0m\u001b[1;33m\u001b[0m\u001b[0m\n\u001b[0;32m      5\u001b[0m \u001b[0mprint\u001b[0m\u001b[1;33m(\u001b[0m\u001b[0mtype\u001b[0m\u001b[1;33m(\u001b[0m\u001b[0mmuna\u001b[0m\u001b[1;33m)\u001b[0m\u001b[1;33m)\u001b[0m\u001b[1;33m\u001b[0m\u001b[1;33m\u001b[0m\u001b[0m\n\u001b[1;32m----> 6\u001b[1;33m \u001b[0mmuna\u001b[0m\u001b[1;33m[\u001b[0m\u001b[1;36m0\u001b[0m\u001b[1;33m]\u001b[0m\u001b[1;33m=\u001b[0m\u001b[1;34m'k'\u001b[0m\u001b[1;33m\u001b[0m\u001b[1;33m\u001b[0m\u001b[0m\n\u001b[0m",
      "\u001b[1;31mTypeError\u001b[0m: 'str' object does not support item assignment"
     ]
    }
   ],
   "source": [
    "#p342_1.py\n",
    "muna = \"python\"\n",
    "print(muna[0])\n",
    "print(muna[1])\n",
    "print(muna[2])\n",
    "print(type(muna))\n",
    "muna[0]='k'"
   ]
  },
  {
   "cell_type": "code",
   "execution_count": 20,
   "id": "2ac30126",
   "metadata": {},
   "outputs": [
    {
     "name": "stdout",
     "output_type": "stream",
     "text": [
      "python\n",
      "<class 'list'>\n"
     ]
    }
   ],
   "source": [
    "#p342_2.py\n",
    "munb = [\"python\"]\n",
    "print(munb[0])\n",
    "print(type(munb))\n"
   ]
  },
  {
   "cell_type": "code",
   "execution_count": 22,
   "id": "e76d5e5e",
   "metadata": {},
   "outputs": [
    {
     "name": "stdout",
     "output_type": "stream",
     "text": [
      "p\n",
      "y\n",
      "t\n",
      "<class 'list'>\n",
      "['k', 'y', 't', 'h', 'o', 'n']\n",
      "k\n",
      "y\n",
      "t\n",
      "h\n",
      "o\n",
      "n\n"
     ]
    }
   ],
   "source": [
    "#p342_3.py\n",
    "munc = [\"p\",\"y\",\"t\",\"h\",\"o\",\"n\"]\n",
    "print(munc[0])\n",
    "print(munc[1])\n",
    "print(munc[2])\n",
    "print(type(munc))\n",
    "munc[0]='k'\n",
    "print(munc)\n",
    "\n"
   ]
  },
  {
   "cell_type": "code",
   "execution_count": 23,
   "id": "26d53f83",
   "metadata": {},
   "outputs": [
    {
     "name": "stdout",
     "output_type": "stream",
     "text": [
      "p\n",
      "y\n",
      "t\n",
      "h\n",
      "o\n",
      "n\n"
     ]
    }
   ],
   "source": [
    "#p343_1.py\n",
    "munc = [\"p\",\"y\",\"t\",\"h\",\"o\",\"n\"]\n",
    "for i in range(0, 6,1):\n",
    "    print(munc[i])\n",
    "    "
   ]
  },
  {
   "cell_type": "code",
   "execution_count": 24,
   "id": "a7a22742",
   "metadata": {},
   "outputs": [
    {
     "name": "stdout",
     "output_type": "stream",
     "text": [
      "6\n",
      "p\n",
      "y\n",
      "t\n",
      "h\n",
      "o\n",
      "n\n"
     ]
    }
   ],
   "source": [
    "#p343_2.py\n",
    "munc = [\"p\",\"y\",\"t\",\"h\",\"o\",\"n\"]\n",
    "length = len(munc)\n",
    "print(length)\n",
    "for i in range(0, length,1):\n",
    "    print(munc[i])"
   ]
  },
  {
   "cell_type": "code",
   "execution_count": 25,
   "id": "dcac51a8",
   "metadata": {},
   "outputs": [
    {
     "name": "stdout",
     "output_type": "stream",
     "text": [
      "p\n",
      "y\n",
      "t\n",
      "h\n",
      "o\n",
      "n\n"
     ]
    }
   ],
   "source": [
    "#p343_3.py\n",
    "munc = [\"p\",\"y\",\"t\",\"h\",\"o\",\"n\"]\n",
    "for i in munc:\n",
    "    print(i)"
   ]
  },
  {
   "cell_type": "code",
   "execution_count": 27,
   "id": "457912d3",
   "metadata": {},
   "outputs": [
    {
     "name": "stdout",
     "output_type": "stream",
     "text": [
      "ChatGPT를 활용한  python\n"
     ]
    }
   ],
   "source": [
    "#p345_1.py\n",
    "ma = \"ChatGPT\" + \"를 활용한  python\"\n",
    "print(ma)"
   ]
  },
  {
   "cell_type": "code",
   "execution_count": 28,
   "id": "82dfb539",
   "metadata": {},
   "outputs": [
    {
     "name": "stdout",
     "output_type": "stream",
     "text": [
      "p\n",
      "n\n"
     ]
    }
   ],
   "source": [
    "#p345_2.py  #책에 numa[-1]->muna[-1]로 수정해야함\n",
    "muna = \"python\"\n",
    "print(muna[0])\n",
    "print(muna[-1])"
   ]
  },
  {
   "cell_type": "code",
   "execution_count": 29,
   "id": "13234746",
   "metadata": {},
   "outputs": [
    {
     "name": "stdout",
     "output_type": "stream",
     "text": [
      "tho\n",
      "yth\n",
      "python\n"
     ]
    }
   ],
   "source": [
    "#p346.py\n",
    "muna = \"python\"\n",
    "print(muna[2:-1])\n",
    "print(muna[1:4])\n",
    "print(muna[:])"
   ]
  },
  {
   "cell_type": "code",
   "execution_count": 30,
   "id": "ca8f7ce5",
   "metadata": {},
   "outputs": [
    {
     "name": "stdout",
     "output_type": "stream",
     "text": [
      "My name is John and I'm 30 years old\n"
     ]
    }
   ],
   "source": [
    "#p347.py\n",
    "name = \"John\"\n",
    "age = 30\n",
    "print(f\"My name is {name} and I'm {age} years old\")"
   ]
  },
  {
   "cell_type": "code",
   "execution_count": 31,
   "id": "7d726434",
   "metadata": {},
   "outputs": [
    {
     "name": "stdout",
     "output_type": "stream",
     "text": [
      "Pi is aprrosimately 3.14\n"
     ]
    }
   ],
   "source": [
    "#p348.py\n",
    "pi = 3.141592\n",
    "print(f\"Pi is aprrosimately {pi:.2f}\")"
   ]
  },
  {
   "cell_type": "code",
   "execution_count": 32,
   "id": "4d9bf463",
   "metadata": {},
   "outputs": [
    {
     "name": "stdout",
     "output_type": "stream",
     "text": [
      "['Python', 'is', 'a', 'popular', 'programming', 'language']\n"
     ]
    }
   ],
   "source": [
    "#p349.py\n",
    "my_string = \"Python is a popular programming language\"\n",
    "split_list =my_string.split()\n",
    "print(split_list)"
   ]
  },
  {
   "cell_type": "code",
   "execution_count": 33,
   "id": "bbe56529",
   "metadata": {},
   "outputs": [
    {
     "name": "stdout",
     "output_type": "stream",
     "text": [
      "Python is awesome!\n"
     ]
    }
   ],
   "source": [
    "#p350.py\n",
    "my_string = \"Python is awesome!\"\n",
    "stripped_string = my_string.strip()\n",
    "print(stripped_string)"
   ]
  },
  {
   "cell_type": "code",
   "execution_count": 34,
   "id": "744639a7",
   "metadata": {},
   "outputs": [
    {
     "name": "stdout",
     "output_type": "stream",
     "text": [
      "apple-banana-cherry\n"
     ]
    }
   ],
   "source": [
    "#p351.py\n",
    "my_list = {\"apple\", \"banana\", \"cherry\"}\n",
    "joined_string = \"-\".join(my_list)\n",
    "print(joined_string)"
   ]
  },
  {
   "cell_type": "code",
   "execution_count": 36,
   "id": "9fd65f71",
   "metadata": {},
   "outputs": [
    {
     "name": "stdout",
     "output_type": "stream",
     "text": [
      "Hello, Python\n"
     ]
    }
   ],
   "source": [
    "#p352.py\n",
    "my_string = 'Hello, world'\n",
    "replaced_string = my_string.replace(\"world\", \"Python\")\n",
    "print(replaced_string)"
   ]
  },
  {
   "cell_type": "code",
   "execution_count": 38,
   "id": "0dacde47",
   "metadata": {},
   "outputs": [
    {
     "name": "stdout",
     "output_type": "stream",
     "text": [
      "9\n"
     ]
    }
   ],
   "source": [
    "#p353.py\n",
    "square = lambda x : x **2\n",
    "print(square(3))"
   ]
  },
  {
   "cell_type": "code",
   "execution_count": 39,
   "id": "bd30bf40",
   "metadata": {},
   "outputs": [
    {
     "name": "stdout",
     "output_type": "stream",
     "text": [
      "[1, 4, 9, 16, 25]\n"
     ]
    }
   ],
   "source": [
    "#p354.py\n",
    "def square(x):\n",
    "    return x **2\n",
    "\n",
    "numbers = [1,2,3,4,5]\n",
    "squared_numbers = map(square, numbers)\n",
    "print(list(squared_numbers))"
   ]
  },
  {
   "cell_type": "code",
   "execution_count": 42,
   "id": "2982989b",
   "metadata": {},
   "outputs": [
    {
     "name": "stdout",
     "output_type": "stream",
     "text": [
      "[1, 4, 9, 16, 25]\n"
     ]
    }
   ],
   "source": [
    "#p355.py\n",
    "numbers = [1,2,3,4,5]\n",
    "squared_numbers = map(lambda x: x**2, numbers)\n",
    "print(list(squared_numbers))"
   ]
  },
  {
   "cell_type": "code",
   "execution_count": null,
   "id": "7d6b4f93",
   "metadata": {},
   "outputs": [],
   "source": []
  }
 ],
 "metadata": {
  "kernelspec": {
   "display_name": "Python 3 (ipykernel)",
   "language": "python",
   "name": "python3"
  },
  "language_info": {
   "codemirror_mode": {
    "name": "ipython",
    "version": 3
   },
   "file_extension": ".py",
   "mimetype": "text/x-python",
   "name": "python",
   "nbconvert_exporter": "python",
   "pygments_lexer": "ipython3",
   "version": "3.9.13"
  }
 },
 "nbformat": 4,
 "nbformat_minor": 5
}
