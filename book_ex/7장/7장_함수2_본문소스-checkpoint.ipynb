{
 "cells": [
  {
   "cell_type": "code",
   "execution_count": 1,
   "id": "f6d2f50c",
   "metadata": {},
   "outputs": [
    {
     "name": "stdout",
     "output_type": "stream",
     "text": [
      "na값은  10 nb 값은  11\n",
      "na값은  11 nb 값은  10\n"
     ]
    }
   ],
   "source": [
    "#p186.py\n",
    "na=10\n",
    "nb=11\n",
    "print(\"na값은 \", na, \"nb 값은 \", nb)\n",
    "temp=na\n",
    "na=nb\n",
    "nb=temp\n",
    "print(\"na값은 \", na, \"nb 값은 \", nb)"
   ]
  },
  {
   "cell_type": "code",
   "execution_count": 2,
   "id": "010c40c9",
   "metadata": {},
   "outputs": [
    {
     "name": "stdout",
     "output_type": "stream",
     "text": [
      "na값은  10 nb 값은  11\n",
      "na값은  10 nb 값은  11\n"
     ]
    }
   ],
   "source": [
    "#p188.py\n",
    "def funca(pa, pb):\n",
    "    temp = pa\n",
    "    pa=pb\n",
    "    pb=temp\n",
    "    \n",
    "na=10\n",
    "nb=11\n",
    "print(\"na값은 \", na, \"nb 값은 \", nb)\n",
    "funca(na, nb)\n",
    "print(\"na값은 \", na, \"nb 값은 \", nb)"
   ]
  },
  {
   "cell_type": "code",
   "execution_count": 3,
   "id": "f6167a43",
   "metadata": {},
   "outputs": [
    {
     "name": "stdout",
     "output_type": "stream",
     "text": [
      "na값은  10 nb 값은  11\n",
      "na값은  10 nb 값은  11\n"
     ]
    }
   ],
   "source": [
    "#p190.py\n",
    "def funca(na, nb):\n",
    "    temp = na\n",
    "    na=nb\n",
    "    nb=temp\n",
    "    \n",
    "na=10\n",
    "nb=11\n",
    "print(\"na값은 \", na, \"nb 값은 \", nb)\n",
    "funca(na, nb)\n",
    "print(\"na값은 \", na, \"nb 값은 \", nb)"
   ]
  },
  {
   "cell_type": "code",
   "execution_count": 4,
   "id": "6646f051",
   "metadata": {},
   "outputs": [
    {
     "name": "stdout",
     "output_type": "stream",
     "text": [
      "na값은  10 nb 값은  11\n",
      "na값은  10 nb 값은  11\n"
     ]
    }
   ],
   "source": [
    "#p193.py\n",
    "def funca(na, nb):\n",
    "    temp = na\n",
    "    na=nb\n",
    "    nb=temp\n",
    "    \n",
    "na=10\n",
    "nb=11\n",
    "print(\"na값은 \", na, \"nb 값은 \", nb)\n",
    "funca(na, nb)\n",
    "print(\"na값은 \", na, \"nb 값은 \", nb)"
   ]
  },
  {
   "cell_type": "code",
   "execution_count": 5,
   "id": "d7fadcb6",
   "metadata": {},
   "outputs": [
    {
     "name": "stdout",
     "output_type": "stream",
     "text": [
      "b의 값은 0\n",
      "b의 값은 1\n",
      "scope_test() 함수 밖의 a 값은 0\n",
      "scope_test() 함수 안의 a 값은 1\n",
      "scope_test() 함수 호출 후  a 값은 0\n"
     ]
    }
   ],
   "source": [
    "#p196.py\n",
    "b = 0\n",
    "print(\"b의 값은\", b)\n",
    "b = 1\n",
    "print(\"b의 값은\", b)\n",
    "\n",
    "def scope_test():\n",
    "    a = 1\n",
    "    print(\"scope_test() 함수 안의 a 값은\", a)\n",
    "\n",
    "a = 0\n",
    "print(\"scope_test() 함수 밖의 a 값은\", a)\n",
    "scope_test()\n",
    "print(\"scope_test() 함수 호출 후  a 값은\", a)"
   ]
  },
  {
   "cell_type": "code",
   "execution_count": 6,
   "id": "4c2ab3d8",
   "metadata": {},
   "outputs": [
    {
     "name": "stdout",
     "output_type": "stream",
     "text": [
      "b의 값은 0\n",
      "b의 값은 1\n",
      "scope_test() 함수 밖의 a 값은 0\n",
      "scope_test() 함수 안의 a 값은 1\n",
      "scope_test() 함수 호출 후  a 값은 1\n"
     ]
    }
   ],
   "source": [
    "#p197.py\n",
    "b = 0\n",
    "print(\"b의 값은\", b)\n",
    "\n",
    "b = 1\n",
    "print(\"b의 값은\", b)\n",
    "\n",
    "def scope_test():\n",
    "    global a\n",
    "    a = 1\n",
    "    print(\"scope_test() 함수 안의 a 값은\", a)\n",
    "\n",
    "a = 0\n",
    "print(\"scope_test() 함수 밖의 a 값은\", a)\n",
    "\n",
    "scope_test()\n",
    "print(\"scope_test() 함수 호출 후  a 값은\", a)"
   ]
  },
  {
   "cell_type": "code",
   "execution_count": 7,
   "id": "3963ebcf",
   "metadata": {},
   "outputs": [
    {
     "name": "stdout",
     "output_type": "stream",
     "text": [
      "b의 값은 0\n",
      "b의 값은 1\n",
      "scope_test() 함수 밖의 a 값은 0\n"
     ]
    },
    {
     "ename": "UnboundLocalError",
     "evalue": "local variable 'a' referenced before assignment",
     "output_type": "error",
     "traceback": [
      "\u001b[1;31m---------------------------------------------------------------------------\u001b[0m",
      "\u001b[1;31mUnboundLocalError\u001b[0m                         Traceback (most recent call last)",
      "\u001b[1;32m~\\AppData\\Local\\Temp\\ipykernel_15124\\953814642.py\u001b[0m in \u001b[0;36m<module>\u001b[1;34m\u001b[0m\n\u001b[0;32m     11\u001b[0m \u001b[0ma\u001b[0m \u001b[1;33m=\u001b[0m \u001b[1;36m0\u001b[0m\u001b[1;33m\u001b[0m\u001b[1;33m\u001b[0m\u001b[0m\n\u001b[0;32m     12\u001b[0m \u001b[0mprint\u001b[0m\u001b[1;33m(\u001b[0m\u001b[1;34m\"scope_test() 함수 밖의 a 값은\"\u001b[0m\u001b[1;33m,\u001b[0m \u001b[0ma\u001b[0m\u001b[1;33m)\u001b[0m\u001b[1;33m\u001b[0m\u001b[1;33m\u001b[0m\u001b[0m\n\u001b[1;32m---> 13\u001b[1;33m \u001b[0mscope_test\u001b[0m\u001b[1;33m(\u001b[0m\u001b[1;33m)\u001b[0m\u001b[1;33m\u001b[0m\u001b[1;33m\u001b[0m\u001b[0m\n\u001b[0m\u001b[0;32m     14\u001b[0m \u001b[0mprint\u001b[0m\u001b[1;33m(\u001b[0m\u001b[1;34m\"scope_test() 함수 호출 후  a 값은\"\u001b[0m\u001b[1;33m,\u001b[0m \u001b[0ma\u001b[0m\u001b[1;33m)\u001b[0m\u001b[1;33m\u001b[0m\u001b[1;33m\u001b[0m\u001b[0m\n",
      "\u001b[1;32m~\\AppData\\Local\\Temp\\ipykernel_15124\\953814642.py\u001b[0m in \u001b[0;36mscope_test\u001b[1;34m()\u001b[0m\n\u001b[0;32m      6\u001b[0m \u001b[1;33m\u001b[0m\u001b[0m\n\u001b[0;32m      7\u001b[0m \u001b[1;32mdef\u001b[0m \u001b[0mscope_test\u001b[0m\u001b[1;33m(\u001b[0m\u001b[1;33m)\u001b[0m\u001b[1;33m:\u001b[0m\u001b[1;33m\u001b[0m\u001b[1;33m\u001b[0m\u001b[0m\n\u001b[1;32m----> 8\u001b[1;33m     \u001b[0ma\u001b[0m \u001b[1;33m=\u001b[0m \u001b[0ma\u001b[0m \u001b[1;33m+\u001b[0m \u001b[1;36m3\u001b[0m\u001b[1;33m\u001b[0m\u001b[1;33m\u001b[0m\u001b[0m\n\u001b[0m\u001b[0;32m      9\u001b[0m     \u001b[0mprint\u001b[0m\u001b[1;33m(\u001b[0m\u001b[1;34m\"scope_test() 함수 안의 a 값은\"\u001b[0m\u001b[1;33m,\u001b[0m \u001b[0ma\u001b[0m\u001b[1;33m)\u001b[0m\u001b[1;33m\u001b[0m\u001b[1;33m\u001b[0m\u001b[0m\n\u001b[0;32m     10\u001b[0m \u001b[1;33m\u001b[0m\u001b[0m\n",
      "\u001b[1;31mUnboundLocalError\u001b[0m: local variable 'a' referenced before assignment"
     ]
    }
   ],
   "source": [
    "#p198.py\n",
    "b = 0\n",
    "print(\"b의 값은\", b)\n",
    "b = 1\n",
    "print(\"b의 값은\", b)\n",
    "\n",
    "def scope_test():\n",
    "    a = a + 3\n",
    "    print(\"scope_test() 함수 안의 a 값은\", a)\n",
    "\n",
    "a = 0\n",
    "print(\"scope_test() 함수 밖의 a 값은\", a)\n",
    "scope_test()\n",
    "print(\"scope_test() 함수 호출 후  a 값은\", a)"
   ]
  },
  {
   "cell_type": "code",
   "execution_count": 8,
   "id": "07108cce",
   "metadata": {},
   "outputs": [
    {
     "name": "stdout",
     "output_type": "stream",
     "text": [
      "함수디폴트값없음, width= 10 height= 20\n"
     ]
    },
    {
     "ename": "TypeError",
     "evalue": "persona() missing 2 required positional arguments: 'width' and 'height'",
     "output_type": "error",
     "traceback": [
      "\u001b[1;31m---------------------------------------------------------------------------\u001b[0m",
      "\u001b[1;31mTypeError\u001b[0m                                 Traceback (most recent call last)",
      "\u001b[1;32m~\\AppData\\Local\\Temp\\ipykernel_15124\\589885809.py\u001b[0m in \u001b[0;36m<module>\u001b[1;34m\u001b[0m\n\u001b[0;32m      8\u001b[0m \u001b[1;33m\u001b[0m\u001b[0m\n\u001b[0;32m      9\u001b[0m \u001b[0mpersona\u001b[0m\u001b[1;33m(\u001b[0m\u001b[1;36m10\u001b[0m\u001b[1;33m,\u001b[0m \u001b[1;36m20\u001b[0m\u001b[1;33m)\u001b[0m\u001b[1;33m\u001b[0m\u001b[1;33m\u001b[0m\u001b[0m\n\u001b[1;32m---> 10\u001b[1;33m \u001b[0mpersona\u001b[0m\u001b[1;33m(\u001b[0m\u001b[1;33m)\u001b[0m\u001b[1;33m\u001b[0m\u001b[1;33m\u001b[0m\u001b[0m\n\u001b[0m\u001b[0;32m     11\u001b[0m \u001b[0mpersonb\u001b[0m\u001b[1;33m(\u001b[0m\u001b[1;33m)\u001b[0m\u001b[1;33m\u001b[0m\u001b[1;33m\u001b[0m\u001b[0m\n",
      "\u001b[1;31mTypeError\u001b[0m: persona() missing 2 required positional arguments: 'width' and 'height'"
     ]
    }
   ],
   "source": [
    "#p202.py\n",
    "\n",
    "def persona(width, height):\n",
    "    print(\"함수디폴트값없음, width=\", width, \"height=\", height)\n",
    "    \n",
    "def personb(width=4, height=3):\n",
    "    print(\"함수디폴트값설정, width=\", width, \"height=\", height)\n",
    "    \n",
    "persona(10, 20)\n",
    "persona()\n",
    "personb()"
   ]
  },
  {
   "cell_type": "code",
   "execution_count": 9,
   "id": "257bf98c",
   "metadata": {},
   "outputs": [
    {
     "ename": "TypeError",
     "evalue": "persona() takes 0 positional arguments but 2 were given",
     "output_type": "error",
     "traceback": [
      "\u001b[1;31m---------------------------------------------------------------------------\u001b[0m",
      "\u001b[1;31mTypeError\u001b[0m                                 Traceback (most recent call last)",
      "\u001b[1;32m~\\AppData\\Local\\Temp\\ipykernel_15124\\41045795.py\u001b[0m in \u001b[0;36m<module>\u001b[1;34m\u001b[0m\n\u001b[0;32m     10\u001b[0m     \u001b[0mprint\u001b[0m\u001b[1;33m(\u001b[0m\u001b[1;34m\"함수디폴트값설정, width=\"\u001b[0m\u001b[1;33m,\u001b[0m \u001b[0mwidth\u001b[0m\u001b[1;33m,\u001b[0m \u001b[1;34m\"height=\"\u001b[0m\u001b[1;33m,\u001b[0m \u001b[0mheight\u001b[0m\u001b[1;33m)\u001b[0m\u001b[1;33m\u001b[0m\u001b[1;33m\u001b[0m\u001b[0m\n\u001b[0;32m     11\u001b[0m \u001b[1;33m\u001b[0m\u001b[0m\n\u001b[1;32m---> 12\u001b[1;33m \u001b[0mpersona\u001b[0m\u001b[1;33m(\u001b[0m\u001b[1;36m10\u001b[0m\u001b[1;33m,\u001b[0m \u001b[1;36m20\u001b[0m\u001b[1;33m)\u001b[0m\u001b[1;33m\u001b[0m\u001b[1;33m\u001b[0m\u001b[0m\n\u001b[0m\u001b[0;32m     13\u001b[0m \u001b[0mpersona\u001b[0m\u001b[1;33m(\u001b[0m\u001b[1;33m)\u001b[0m\u001b[1;33m\u001b[0m\u001b[1;33m\u001b[0m\u001b[0m\n\u001b[0;32m     14\u001b[0m \u001b[0mpersonb\u001b[0m\u001b[1;33m(\u001b[0m\u001b[1;33m)\u001b[0m\u001b[1;33m\u001b[0m\u001b[1;33m\u001b[0m\u001b[0m\n",
      "\u001b[1;31mTypeError\u001b[0m: persona() takes 0 positional arguments but 2 were given"
     ]
    }
   ],
   "source": [
    "#p204.py\n",
    "\n",
    "def persona(width, height):\n",
    "    print(\"함수디폴트값없음, width=\", width, \"height=\", height)\n",
    "    \n",
    "def persona():\n",
    "    print(\"매개변수없는 함수\")\n",
    "    \n",
    "def personb(width=4, height=3):\n",
    "    print(\"함수디폴트값설정, width=\", width, \"height=\", height)\n",
    "    \n",
    "persona(10, 20)\n",
    "persona()\n",
    "personb()"
   ]
  },
  {
   "cell_type": "code",
   "execution_count": 10,
   "id": "d3329ea9",
   "metadata": {},
   "outputs": [
    {
     "name": "stdout",
     "output_type": "stream",
     "text": [
      "함수디폴트값설정, width= 10 height= 20\n",
      "함수디폴트값설정, width= 11 height= 21\n",
      "함수디폴트값설정, width= 4 height= 3\n"
     ]
    }
   ],
   "source": [
    "#p205_1.py\n",
    "\n",
    "def persona(width=11, height=21):\n",
    "    print(\"함수디폴트값설정, width=\", width, \"height=\", height)\n",
    "    \n",
    "def personb(width=4, height=3):\n",
    "    print(\"함수디폴트값설정, width=\", width, \"height=\", height)\n",
    "    \n",
    "persona(10, 20)\n",
    "persona()\n",
    "personb()"
   ]
  },
  {
   "cell_type": "code",
   "execution_count": 12,
   "id": "6c465238",
   "metadata": {},
   "outputs": [
    {
     "name": "stdout",
     "output_type": "stream",
     "text": [
      "[0]\n",
      "[1, 2, 3]\n"
     ]
    }
   ],
   "source": [
    "def fget(nums = [0]):\n",
    "    return nums\n",
    "result1 = fget()\n",
    "print(result1)\n",
    "result2 = fget([1, 2, 3])\n",
    "print(result2)"
   ]
  },
  {
   "cell_type": "code",
   "execution_count": null,
   "id": "1fe02b14",
   "metadata": {},
   "outputs": [],
   "source": []
  }
 ],
 "metadata": {
  "kernelspec": {
   "display_name": "Python 3 (ipykernel)",
   "language": "python",
   "name": "python3"
  },
  "language_info": {
   "codemirror_mode": {
    "name": "ipython",
    "version": 3
   },
   "file_extension": ".py",
   "mimetype": "text/x-python",
   "name": "python",
   "nbconvert_exporter": "python",
   "pygments_lexer": "ipython3",
   "version": "3.9.13"
  }
 },
 "nbformat": 4,
 "nbformat_minor": 5
}
