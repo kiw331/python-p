{
  "nbformat": 4,
  "nbformat_minor": 0,
  "metadata": {
    "colab": {
      "provenance": []
    },
    "kernelspec": {
      "name": "python3",
      "display_name": "Python 3"
    },
    "language_info": {
      "name": "python"
    }
  },
  "cells": [
    {
      "cell_type": "markdown",
      "source": [
        "파이썬 워크북 7장 문제"
      ],
      "metadata": {
        "id": "sXlzQ2DZArlG"
      }
    },
    {
      "cell_type": "code",
      "source": [
        "# 문제 1\n",
        "\n",
        "a=10\n",
        "b=20\n",
        "def fswap(c, d):\n",
        "    temp=c\n",
        "    c=d\n",
        "    d=temp\n",
        "    return c, d\n",
        "\n",
        "c=a\n",
        "d=b\n",
        "print(\"a 값은 \", a, \"b 값은 \", b)\n",
        "a, b=fswap(a, b)\n",
        "print(\"a 값은 \", a, \"b 값은 \", b)"
      ],
      "metadata": {
        "colab": {
          "base_uri": "https://localhost:8080/"
        },
        "id": "NJqqyppBAweO",
        "outputId": "41e3280f-57e8-49c3-dda0-b1af6dfabb79"
      },
      "execution_count": null,
      "outputs": [
        {
          "output_type": "stream",
          "name": "stdout",
          "text": [
            "a 값은  10 b 값은  20\n",
            "a 값은  20 b 값은  10\n"
          ]
        }
      ]
    },
    {
      "cell_type": "code",
      "source": [
        "# 문제 2-1\n",
        "\n",
        "# a를 전역 변수로 사용하도록 변경\n",
        "# global로 해결하기\n",
        "b = 0\n",
        "print(\"b의 값은\", b)\n",
        "b = 1\n",
        "print(\"b의 값은\", b)\n",
        "\n",
        "def scope_test():\n",
        "    global a\n",
        "    a = a + 3\n",
        "    print(\"scope_test() 함수 안의 a 값은\", a)\n",
        "\n",
        "a = 0\n",
        "print(\"scope_test() 함수 밖의 a 값은\", a)\n",
        "scope_test()\n",
        "print(\"scope_test() 함수 호출 후 a 값은\", a)"
      ],
      "metadata": {
        "colab": {
          "base_uri": "https://localhost:8080/"
        },
        "id": "S0q-rx4bEsBO",
        "outputId": "6c69677b-7b4d-428d-86ed-202dd9c99a05"
      },
      "execution_count": null,
      "outputs": [
        {
          "output_type": "stream",
          "name": "stdout",
          "text": [
            "b의 값은 0\n",
            "b의 값은 1\n",
            "scope_test() 함수 밖의 a 값은 0\n",
            "scope_test() 함수 안의 a 값은 3\n",
            "scope_test() 함수 호출 후 a 값은 3\n"
          ]
        }
      ]
    },
    {
      "cell_type": "code",
      "source": [
        "# 문제 2-2\n",
        "\n",
        "# a를 지역 변수로 사용하는 방법\n",
        "# 지역 변수로 사용하기\n",
        "b = 0\n",
        "print(\"b의 값은\", b)\n",
        "b = 1\n",
        "print(\"b의 값은\", b)\n",
        "\n",
        "def scope_test():\n",
        "    a=0\n",
        "    a = a + 3\n",
        "    print(\"scope_test() 함수 안의 a 값은\", a)\n",
        "\n",
        "a = 0\n",
        "print(\"scope_test() 함수 밖의 a 값은\", a)\n",
        "scope_test()\n",
        "print(\"scope_test() 함수 호출 후 a 값은\", a)"
      ],
      "metadata": {
        "colab": {
          "base_uri": "https://localhost:8080/"
        },
        "id": "2gCaLBbOE4JA",
        "outputId": "c701c9ff-2ec7-4c23-c2a2-e4dac3848249"
      },
      "execution_count": null,
      "outputs": [
        {
          "output_type": "stream",
          "name": "stdout",
          "text": [
            "b의 값은 0\n",
            "b의 값은 1\n",
            "scope_test() 함수 밖의 a 값은 0\n",
            "scope_test() 함수 안의 a 값은 3\n",
            "scope_test() 함수 호출 후 a 값은 0\n"
          ]
        }
      ]
    },
    {
      "cell_type": "code",
      "source": [
        "# 문제 3 - 코드 (1)\n",
        "\n",
        "result=10\n",
        "def fadd(num):\n",
        "    b=result+num\n",
        "    print(\"변수 result 값은\", result)\n",
        "    print(\"변수 b 값은\", b)\n",
        "fadd(10)"
      ],
      "metadata": {
        "colab": {
          "base_uri": "https://localhost:8080/"
        },
        "id": "AtHpRlQuFC2w",
        "outputId": "0d63c82e-f7e2-42ab-d006-997e281b7613"
      },
      "execution_count": null,
      "outputs": [
        {
          "output_type": "stream",
          "name": "stdout",
          "text": [
            "변수 result 값은 10\n",
            "변수 b 값은 20\n"
          ]
        }
      ]
    },
    {
      "cell_type": "code",
      "source": [
        "# 문제 3 - 코드 (2)\n",
        "\n",
        "result=10 # ------------------> ①\n",
        "def fadd(num):\n",
        "    result=result+num # ------> ②\n",
        "    print(\"변수 result 값은\", result)\n",
        "\n",
        "fadd(10)"
      ],
      "metadata": {
        "colab": {
          "base_uri": "https://localhost:8080/",
          "height": 343
        },
        "id": "LDe-vkxVFMPN",
        "outputId": "538a2262-0451-4862-f0f3-3037db3ba8f2"
      },
      "execution_count": null,
      "outputs": [
        {
          "output_type": "error",
          "ename": "UnboundLocalError",
          "evalue": "ignored",
          "traceback": [
            "\u001b[0;31m---------------------------------------------------------------------------\u001b[0m",
            "\u001b[0;31mUnboundLocalError\u001b[0m                         Traceback (most recent call last)",
            "\u001b[0;32m<ipython-input-5-a3d6cacb68cf>\u001b[0m in \u001b[0;36m<cell line: 8>\u001b[0;34m()\u001b[0m\n\u001b[1;32m      6\u001b[0m     \u001b[0mprint\u001b[0m\u001b[0;34m(\u001b[0m\u001b[0;34m\"변수 result 값은\"\u001b[0m\u001b[0;34m,\u001b[0m \u001b[0mresult\u001b[0m\u001b[0;34m)\u001b[0m\u001b[0;34m\u001b[0m\u001b[0;34m\u001b[0m\u001b[0m\n\u001b[1;32m      7\u001b[0m \u001b[0;34m\u001b[0m\u001b[0m\n\u001b[0;32m----> 8\u001b[0;31m \u001b[0mfadd\u001b[0m\u001b[0;34m(\u001b[0m\u001b[0;36m10\u001b[0m\u001b[0;34m)\u001b[0m\u001b[0;34m\u001b[0m\u001b[0;34m\u001b[0m\u001b[0m\n\u001b[0m",
            "\u001b[0;32m<ipython-input-5-a3d6cacb68cf>\u001b[0m in \u001b[0;36mfadd\u001b[0;34m(num)\u001b[0m\n\u001b[1;32m      3\u001b[0m \u001b[0mresult\u001b[0m\u001b[0;34m=\u001b[0m\u001b[0;36m10\u001b[0m \u001b[0;31m# ------------------> ①\u001b[0m\u001b[0;34m\u001b[0m\u001b[0;34m\u001b[0m\u001b[0m\n\u001b[1;32m      4\u001b[0m \u001b[0;32mdef\u001b[0m \u001b[0mfadd\u001b[0m\u001b[0;34m(\u001b[0m\u001b[0mnum\u001b[0m\u001b[0;34m)\u001b[0m\u001b[0;34m:\u001b[0m\u001b[0;34m\u001b[0m\u001b[0;34m\u001b[0m\u001b[0m\n\u001b[0;32m----> 5\u001b[0;31m     \u001b[0mresult\u001b[0m\u001b[0;34m=\u001b[0m\u001b[0mresult\u001b[0m\u001b[0;34m+\u001b[0m\u001b[0mnum\u001b[0m \u001b[0;31m# ------> ②\u001b[0m\u001b[0;34m\u001b[0m\u001b[0;34m\u001b[0m\u001b[0m\n\u001b[0m\u001b[1;32m      6\u001b[0m     \u001b[0mprint\u001b[0m\u001b[0;34m(\u001b[0m\u001b[0;34m\"변수 result 값은\"\u001b[0m\u001b[0;34m,\u001b[0m \u001b[0mresult\u001b[0m\u001b[0;34m)\u001b[0m\u001b[0;34m\u001b[0m\u001b[0;34m\u001b[0m\u001b[0m\n\u001b[1;32m      7\u001b[0m \u001b[0;34m\u001b[0m\u001b[0m\n",
            "\u001b[0;31mUnboundLocalError\u001b[0m: local variable 'result' referenced before assignment"
          ]
        }
      ]
    },
    {
      "cell_type": "code",
      "source": [
        "# 문제 3 - 코드 3\n",
        "\n",
        "result=10 # ------------------> ③\n",
        "def fadd(num):\n",
        "    global result # -----------> ①\n",
        "    result=result+num # -------> ②\n",
        "    print(\"변수 result 값은\", result)\n",
        "\n",
        "fadd(10)"
      ],
      "metadata": {
        "colab": {
          "base_uri": "https://localhost:8080/"
        },
        "id": "fWtjk75wFRsb",
        "outputId": "a7f7d45f-4514-4179-a1e3-ebf25933ca03"
      },
      "execution_count": null,
      "outputs": [
        {
          "output_type": "stream",
          "name": "stdout",
          "text": [
            "변수 result 값은 20\n"
          ]
        }
      ]
    },
    {
      "cell_type": "code",
      "source": [
        "# 문제 4\n",
        "\n",
        "sua=10\n",
        "sub=5\n",
        "suc=7\n",
        "max = sua\n",
        "if sub > max:\n",
        "    max = sub\n",
        "if suc > max:\n",
        "    max = suc\n",
        "print(\"최댓값은\", max)"
      ],
      "metadata": {
        "colab": {
          "base_uri": "https://localhost:8080/"
        },
        "id": "XptG0Zb5UlZ-",
        "outputId": "bba40153-655c-4e34-d362-31de18cfe4a3"
      },
      "execution_count": null,
      "outputs": [
        {
          "output_type": "stream",
          "name": "stdout",
          "text": [
            "최댓값은 10\n"
          ]
        }
      ]
    },
    {
      "cell_type": "code",
      "source": [
        "# 문제 5\n",
        "\n",
        "def fmax(sua, sub,suc):\n",
        "    max = sua\n",
        "    if sub > max:\n",
        "      max = sub\n",
        "    if suc > max:\n",
        "      max = suc\n",
        "    return max\n",
        "\n",
        "sua=10\n",
        "sub=5\n",
        "suc=7\n",
        "max = fmax(sua, sub, suc)\n",
        "\n",
        "print(\"최댓값은\", max)"
      ],
      "metadata": {
        "colab": {
          "base_uri": "https://localhost:8080/"
        },
        "id": "xQBHfcuxUzTa",
        "outputId": "af2dbde4-8b2a-439b-8fcd-e55a463265c8"
      },
      "execution_count": null,
      "outputs": [
        {
          "output_type": "stream",
          "name": "stdout",
          "text": [
            "최댓값은 10\n"
          ]
        }
      ]
    }
  ]
}