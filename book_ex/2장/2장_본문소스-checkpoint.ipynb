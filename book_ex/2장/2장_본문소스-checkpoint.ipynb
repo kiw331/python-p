{
 "cells": [
  {
   "cell_type": "code",
   "execution_count": 1,
   "id": "cfead9a0",
   "metadata": {},
   "outputs": [
    {
     "name": "stdout",
     "output_type": "stream",
     "text": [
      "na변수값 10\n",
      "nb변수값 20.2\n",
      "nc변수값 10\n"
     ]
    }
   ],
   "source": [
    "#p41.py\n",
    "na=10\n",
    "nb=20.2\n",
    "sa=\"python\"\n",
    "print(\"na변수값\", na)\n",
    "print(\"nb변수값\", nb)\n",
    "print(\"nc변수값\", na)"
   ]
  },
  {
   "cell_type": "code",
   "execution_count": 3,
   "id": "e69b214e",
   "metadata": {},
   "outputs": [
    {
     "name": "stdout",
     "output_type": "stream",
     "text": [
      "nc =  30 nd =  40\n",
      "nc =  30 nd =  30\n"
     ]
    }
   ],
   "source": [
    "#p41_2.py\n",
    "nc=30\n",
    "nd=40\n",
    "print(\"nc = \", nc, \"nd = \", nd)\n",
    "nd=nc\n",
    "print(\"nc = \", nc, \"nd = \", nd)"
   ]
  },
  {
   "cell_type": "code",
   "execution_count": 4,
   "id": "2657a06a",
   "metadata": {},
   "outputs": [
    {
     "name": "stdout",
     "output_type": "stream",
     "text": [
      "7\n",
      "7\n"
     ]
    }
   ],
   "source": [
    "#p43.py\n",
    "print(5+2)\n",
    "na = 5 + 2\n",
    "print(na)"
   ]
  },
  {
   "cell_type": "code",
   "execution_count": 7,
   "id": "9d99ce17",
   "metadata": {},
   "outputs": [
    {
     "name": "stdout",
     "output_type": "stream",
     "text": [
      "20 + 5 = 25\n",
      "na값 20 더하기 nb값 5 의 결괏값은 25 이다.\n",
      "20 - 5 = 15 이다\n",
      "20 * 5 = 100 이다\n",
      "20 / 5 = 4.0 이다\n"
     ]
    }
   ],
   "source": [
    "#p44_45.py #책에서 코드 a->na, b->nb로 수정해야 함.\n",
    "na = 20\n",
    "nb = 5\n",
    "result = na + nb\n",
    "print(na, \"+\", nb, \"=\", result)\n",
    "print(\"na값\", na, \"더하기 nb값\", nb, \"의 결괏값은\",na+nb,\"이다.\")\n",
    "result = na - nb\n",
    "print(na, \"-\", nb, \"=\", result, \"이다\" )\n",
    "result = na * nb\n",
    "print(na, \"*\", nb, \"=\", result, \"이다\")\n",
    "result = na / nb\n",
    "print(na, \"/\", nb, \"=\", result, \"이다\")"
   ]
  },
  {
   "cell_type": "code",
   "execution_count": 9,
   "id": "16991cf6",
   "metadata": {},
   "outputs": [
    {
     "name": "stdout",
     "output_type": "stream",
     "text": [
      "첫 번째 점수를 입력하세요\n",
      "20\n",
      "두 번째 정수를 입력하세요5\n",
      "20 + 5 값은 205 이다\n"
     ]
    }
   ],
   "source": [
    "#p46.py\n",
    "print(\"첫 번째 점수를 입력하세요\")\n",
    "ra = input()#커서가 깜박이면 20을 입력 후 엔터키를 누른다. \n",
    "rb = input(\"두 번째 정수를 입력하세요\")#커서가 깜박이면 5를 입력 후 엔터키를 누른다. \n",
    "rc = ra + rb\n",
    "print(ra, \"+\", rb, \"값은\", rc, \"이다\")"
   ]
  },
  {
   "cell_type": "code",
   "execution_count": 11,
   "id": "3dacfe28",
   "metadata": {},
   "outputs": [
    {
     "name": "stdout",
     "output_type": "stream",
     "text": [
      "첫 번째 점수를 입력하세요\n",
      "20\n",
      "두 번째 정수를 입력하세요5\n",
      "20 + 5 값은 25 이다\n"
     ]
    }
   ],
   "source": [
    "#p47.py\n",
    "print(\"첫 번째 점수를 입력하세요\")\n",
    "ra = int(input())#커서가 깜박이면 20을 입력 후 엔터키를 누른다. \n",
    "rb = int(input(\"두 번째 정수를 입력하세요\"))#커서가 깜박이면 5를 입력 후 엔터키를 누른다. \n",
    "rc = ra + rb\n",
    "print(ra, \"+\", rb, \"값은\", rc, \"이다\")"
   ]
  },
  {
   "cell_type": "code",
   "execution_count": 13,
   "id": "2d067c1b",
   "metadata": {},
   "outputs": [
    {
     "name": "stdout",
     "output_type": "stream",
     "text": [
      "첫 번째수를 입력하세요.10\n",
      "변수 a를 갖고 있는 위의 명령문과 변수를 갖고 있지 않은 아래의 명령문을 비교해봅시다\n",
      "두 번째 정수를 입력하세요2\n",
      "첫 번째 입력한 정수의 값은 10 입니다\n",
      "두 번째 입력한 정수의 값은 어떻게 표시할지 모르겠네요\n"
     ]
    }
   ],
   "source": [
    "#p48.py\n",
    "a = input(\"첫 번째수를 입력하세요.\")\n",
    "print(\"변수 a를 갖고 있는 위의 명령문과 변수를 갖고 있지 않은 아래의 명령문을 비교해\\\n",
    "봅시다\")\n",
    "input(\"두 번째 정수를 입력하세요\")\n",
    "print(\"첫 번째 입력한 정수의 값은\", a, \"입니다\")\n",
    "print(\"두 번째 입력한 정수의 값은 어떻게 표시할지 모르겠네요\")"
   ]
  },
  {
   "cell_type": "code",
   "execution_count": 14,
   "id": "5155e2c8",
   "metadata": {},
   "outputs": [
    {
     "name": "stdout",
     "output_type": "stream",
     "text": [
      "첫 번째 점수를 입력하세요\n",
      "20\n",
      "두 번째 정수를 입력하세요5\n",
      "20 + 5 값은 25 이다\n",
      "20 - 5 값은 15 이다\n"
     ]
    }
   ],
   "source": [
    "#p60_1.py\n",
    "print(\"첫 번째 점수를 입력하세요\")\n",
    "ra = input()#커서가 깜박이면 20을 입력 후 엔터키를 누른다. \n",
    "rb = input(\"두 번째 정수를 입력하세요\")#커서가 깜박이면 5를 입력 후 엔터키를 누른다. \n",
    "ra = int(ra)\n",
    "rb = int(rb)\n",
    "rc = ra + rb\n",
    "print(ra, \"+\", rb, \"값은\", rc, \"이다\")\n",
    "rd = ra - rb\n",
    "print(ra, \"-\", rb, \"값은\", rd, \"이다\")"
   ]
  },
  {
   "cell_type": "code",
   "execution_count": 16,
   "id": "384dda86",
   "metadata": {},
   "outputs": [
    {
     "name": "stdout",
     "output_type": "stream",
     "text": [
      "첫 번째 점수를 입력하세요\n",
      "20\n",
      "두 번째 정수를 입력하세요5\n",
      "<class 'str'>\n",
      "<class 'str'>\n",
      "<class 'int'>\n",
      "<class 'int'>\n",
      "20 + 5 값은 25 이다\n",
      "20 - 5 값은 15 이다\n"
     ]
    }
   ],
   "source": [
    "#p60_2.py\n",
    "print(\"첫 번째 점수를 입력하세요\")\n",
    "ra = input()#커서가 깜박이면 20을 입력 후 엔터키를 누른다. \n",
    "rb = input(\"두 번째 정수를 입력하세요\")#커서가 깜박이면 5를 입력 후 엔터키를 누른다. \n",
    "print(type(ra))\n",
    "print(type(rb))\n",
    "ra = int(ra)\n",
    "rb = int(rb)\n",
    "print(type(ra))\n",
    "print(type(rb))\n",
    "rc = ra + rb\n",
    "print(ra, \"+\", rb, \"값은\", rc, \"이다\")\n",
    "rd = ra - rb\n",
    "print(ra, \"-\", rb, \"값은\", rd, \"이다\")"
   ]
  },
  {
   "cell_type": "code",
   "execution_count": 17,
   "id": "70e2190c",
   "metadata": {},
   "outputs": [
    {
     "name": "stdout",
     "output_type": "stream",
     "text": [
      "실수를 입력하세요.20\n",
      "두 번째 실수를 입력하세요5\n",
      "20 + 5 = 205\n"
     ]
    },
    {
     "ename": "TypeError",
     "evalue": "unsupported operand type(s) for -: 'str' and 'str'",
     "output_type": "error",
     "traceback": [
      "\u001b[1;31m---------------------------------------------------------------------------\u001b[0m",
      "\u001b[1;31mTypeError\u001b[0m                                 Traceback (most recent call last)",
      "\u001b[1;32m~\\AppData\\Local\\Temp\\ipykernel_22996\\3060142317.py\u001b[0m in \u001b[0;36m<module>\u001b[1;34m\u001b[0m\n\u001b[0;32m      3\u001b[0m \u001b[0mresult\u001b[0m \u001b[1;33m=\u001b[0m \u001b[0ma\u001b[0m \u001b[1;33m+\u001b[0m \u001b[0mb\u001b[0m\u001b[1;33m\u001b[0m\u001b[1;33m\u001b[0m\u001b[0m\n\u001b[0;32m      4\u001b[0m \u001b[0mprint\u001b[0m\u001b[1;33m(\u001b[0m\u001b[0ma\u001b[0m\u001b[1;33m,\u001b[0m \u001b[1;34m\"+\"\u001b[0m\u001b[1;33m,\u001b[0m \u001b[0mb\u001b[0m\u001b[1;33m,\u001b[0m \u001b[1;34m\"=\"\u001b[0m\u001b[1;33m,\u001b[0m \u001b[0mresult\u001b[0m\u001b[1;33m)\u001b[0m\u001b[1;33m\u001b[0m\u001b[1;33m\u001b[0m\u001b[0m\n\u001b[1;32m----> 5\u001b[1;33m \u001b[0mresult\u001b[0m \u001b[1;33m=\u001b[0m \u001b[0ma\u001b[0m \u001b[1;33m-\u001b[0m \u001b[0mb\u001b[0m\u001b[1;33m\u001b[0m\u001b[1;33m\u001b[0m\u001b[0m\n\u001b[0m\u001b[0;32m      6\u001b[0m \u001b[0mprint\u001b[0m\u001b[1;33m(\u001b[0m\u001b[0ma\u001b[0m\u001b[1;33m,\u001b[0m \u001b[1;34m\"-\"\u001b[0m\u001b[1;33m,\u001b[0m \u001b[0mb\u001b[0m\u001b[1;33m,\u001b[0m \u001b[1;34m\"=\"\u001b[0m\u001b[1;33m,\u001b[0m \u001b[0mresult\u001b[0m\u001b[1;33m)\u001b[0m\u001b[1;33m\u001b[0m\u001b[1;33m\u001b[0m\u001b[0m\n",
      "\u001b[1;31mTypeError\u001b[0m: unsupported operand type(s) for -: 'str' and 'str'"
     ]
    }
   ],
   "source": [
    "#p51.py\n",
    "a = input(\"실수를 입력하세요.\")\n",
    "b = input(\"두 번째 실수를 입력하세요\")\n",
    "result = a + b\n",
    "print(a, \"+\", b, \"=\", result)\n",
    "result = a - b\n",
    "print(a, \"-\", b, \"=\", result)"
   ]
  },
  {
   "cell_type": "code",
   "execution_count": 18,
   "id": "37bbe83c",
   "metadata": {},
   "outputs": [
    {
     "name": "stdout",
     "output_type": "stream",
     "text": [
      "실수를 입력하세요.12\n",
      "두 번째 실수를 입력하세요4\n",
      "12.0 + 4.0 = 16.0\n",
      "12.0 - 4.0 = 8.0\n"
     ]
    }
   ],
   "source": [
    "#p51_실수형변화코드.py\n",
    "a = input(\"실수를 입력하세요.\")\n",
    "b = input(\"두 번째 실수를 입력하세요\")\n",
    "a=float(a)\n",
    "b=float(b)\n",
    "result = a + b\n",
    "print(a, \"+\", b, \"=\", result)\n",
    "result = a - b\n",
    "print(a, \"-\", b, \"=\", result)"
   ]
  },
  {
   "cell_type": "code",
   "execution_count": null,
   "id": "24a881b0",
   "metadata": {},
   "outputs": [],
   "source": []
  }
 ],
 "metadata": {
  "kernelspec": {
   "display_name": "Python 3 (ipykernel)",
   "language": "python",
   "name": "python3"
  },
  "language_info": {
   "codemirror_mode": {
    "name": "ipython",
    "version": 3
   },
   "file_extension": ".py",
   "mimetype": "text/x-python",
   "name": "python",
   "nbconvert_exporter": "python",
   "pygments_lexer": "ipython3",
   "version": "3.9.13"
  }
 },
 "nbformat": 4,
 "nbformat_minor": 5
}
