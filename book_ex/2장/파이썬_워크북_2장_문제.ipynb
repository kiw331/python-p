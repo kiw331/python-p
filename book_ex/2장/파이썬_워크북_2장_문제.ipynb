{
  "nbformat": 4,
  "nbformat_minor": 0,
  "metadata": {
    "colab": {
      "provenance": []
    },
    "kernelspec": {
      "name": "python3",
      "display_name": "Python 3"
    },
    "language_info": {
      "name": "python"
    }
  },
  "cells": [
    {
      "cell_type": "markdown",
      "source": [
        "파이썬 워크북 2장 문제"
      ],
      "metadata": {
        "id": "1jrzw0S_hx_7"
      }
    },
    {
      "cell_type": "code",
      "execution_count": 1,
      "metadata": {
        "colab": {
          "base_uri": "https://localhost:8080/",
          "height": 213
        },
        "id": "il1_uFsRhv4p",
        "outputId": "f8aa759e-9962-416f-a716-cfa22a023b80"
      },
      "outputs": [
        {
          "output_type": "error",
          "ename": "TypeError",
          "evalue": "ignored",
          "traceback": [
            "\u001b[0;31m---------------------------------------------------------------------------\u001b[0m",
            "\u001b[0;31mTypeError\u001b[0m                                 Traceback (most recent call last)",
            "\u001b[0;32m<ipython-input-1-6eee452ca7c2>\u001b[0m in \u001b[0;36m<cell line: 4>\u001b[0;34m()\u001b[0m\n\u001b[1;32m      2\u001b[0m \u001b[0;34m\u001b[0m\u001b[0m\n\u001b[1;32m      3\u001b[0m \u001b[0mage\u001b[0m \u001b[0;34m=\u001b[0m \u001b[0;36m14\u001b[0m\u001b[0;34m\u001b[0m\u001b[0;34m\u001b[0m\u001b[0m\n\u001b[0;32m----> 4\u001b[0;31m \u001b[0mprint\u001b[0m\u001b[0;34m(\u001b[0m\u001b[0;34m\"당신의 나이는\"\u001b[0m\u001b[0;34m+\u001b[0m\u001b[0mage\u001b[0m\u001b[0;34m+\u001b[0m\u001b[0;34m\"살입니다\"\u001b[0m\u001b[0;34m)\u001b[0m\u001b[0;34m\u001b[0m\u001b[0;34m\u001b[0m\u001b[0m\n\u001b[0m",
            "\u001b[0;31mTypeError\u001b[0m: can only concatenate str (not \"int\") to str"
          ]
        }
      ],
      "source": [
        "# 문제 1\n",
        "\n",
        "age = 14\n",
        "print(\"당신의 나이는\"+age+\"살입니다\")"
      ]
    },
    {
      "cell_type": "code",
      "source": [
        "# 문제 1 - 수정 코드\n",
        "\n",
        "age = 14\n",
        "print(\"당신의 나이는 \" + str(age) + \"살입니다.\")"
      ],
      "metadata": {
        "colab": {
          "base_uri": "https://localhost:8080/"
        },
        "id": "lb1vIIo_iLHU",
        "outputId": "c25a5aad-b079-4b9f-81dc-c9f7c0104021"
      },
      "execution_count": 2,
      "outputs": [
        {
          "output_type": "stream",
          "name": "stdout",
          "text": [
            "당신의 나이는 14살입니다.\n"
          ]
        }
      ]
    },
    {
      "cell_type": "code",
      "source": [
        "# 문제 2\n",
        "\n",
        "principal = 2550000 # 원금 # ----------> ①\n",
        "interest_rate = 0.041 # 이자율 (4.1%) # --> ②\n",
        "periods = 12 # 기간 (12개월)\n",
        "\n",
        "# 총 이자 계산\n",
        "total_interest = principal * interest_rate * periods\n",
        "\n",
        "# 만기 후 총 금액 계산\n",
        "total_amount = principal + total_interest\n",
        "\n",
        "# 출력\n",
        "print(\"만기 후 총 금액은\", format(total_amount, \",.0f\"), \"원 입니다.\")"
      ],
      "metadata": {
        "colab": {
          "base_uri": "https://localhost:8080/"
        },
        "id": "YFC3QfEGhxLZ",
        "outputId": "220c318a-2f9d-44c1-d99d-4d8b0d7c3c5c"
      },
      "execution_count": 3,
      "outputs": [
        {
          "output_type": "stream",
          "name": "stdout",
          "text": [
            "만기 후 총 금액은 3,804,600 원 입니다.\n"
          ]
        }
      ]
    },
    {
      "cell_type": "code",
      "source": [
        "# 문제 3\n",
        "\n",
        "myname = \"홍길동\"\n",
        "myhackbun = \"1234567\"\n",
        "myhakkwa = \"국문학과\"\n",
        "myhakjum = \"4.2\"\n",
        "\n",
        "print(\"내 이름은\", myname, \"학번은\", myhackbun, \"학과는\", myhakkwa, \"이전 학점은\", myhakjum,\"이다\")"
      ],
      "metadata": {
        "colab": {
          "base_uri": "https://localhost:8080/"
        },
        "id": "2TQfeHENiDNs",
        "outputId": "5768a0fc-4008-4ad0-ce5f-914db5fb0c7d"
      },
      "execution_count": 8,
      "outputs": [
        {
          "output_type": "stream",
          "name": "stdout",
          "text": [
            "내 이름은 홍길동 학번은 1234567 학과는 국문학과 이전 학점은 4.2 이다\n"
          ]
        }
      ]
    }
  ]
}