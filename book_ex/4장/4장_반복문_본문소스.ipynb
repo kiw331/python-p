{
 "cells": [
  {
   "cell_type": "code",
   "execution_count": 1,
   "id": "f7e0e383",
   "metadata": {},
   "outputs": [
    {
     "name": "stdout",
     "output_type": "stream",
     "text": [
      "1\n",
      "2\n",
      "3\n"
     ]
    }
   ],
   "source": [
    "#p95.py\n",
    "for sb in (1,2,3):\n",
    "    print(sb)"
   ]
  },
  {
   "cell_type": "code",
   "execution_count": 2,
   "id": "898e7f5b",
   "metadata": {},
   "outputs": [
    {
     "name": "stdout",
     "output_type": "stream",
     "text": [
      "1\n",
      "2\n",
      "3\n"
     ]
    }
   ],
   "source": [
    "#p96_1.py\n",
    "for sb in range(1, 4, 1):\n",
    "    print(sb)"
   ]
  },
  {
   "cell_type": "code",
   "execution_count": 3,
   "id": "dcb54d89",
   "metadata": {},
   "outputs": [
    {
     "name": "stdout",
     "output_type": "stream",
     "text": [
      "0\n",
      "1\n",
      "2\n",
      "3\n",
      "4\n",
      "5\n",
      "6\n",
      "7\n",
      "8\n",
      "9\n",
      "10\n"
     ]
    }
   ],
   "source": [
    "#p98_2.py\n",
    "for sb in range(0, 11, 1):\n",
    "    print(sb)"
   ]
  },
  {
   "cell_type": "code",
   "execution_count": 4,
   "id": "fc1f02b4",
   "metadata": {},
   "outputs": [
    {
     "name": "stdout",
     "output_type": "stream",
     "text": [
      "0 1 2 3 4 5 6 7 8 9 10 "
     ]
    }
   ],
   "source": [
    "#p97_1.py\n",
    "for sb in range(0, 11, 1):\n",
    "    print(sb, end=\" \")"
   ]
  },
  {
   "cell_type": "code",
   "execution_count": 5,
   "id": "d37be204",
   "metadata": {},
   "outputs": [
    {
     "name": "stdout",
     "output_type": "stream",
     "text": [
      "0 2 4 6 8 10 "
     ]
    }
   ],
   "source": [
    "#p97_2.py\n",
    "for sb in range(0, 11, 2):\n",
    "    print(sb, end=\" \")"
   ]
  },
  {
   "cell_type": "code",
   "execution_count": 6,
   "id": "6a223848",
   "metadata": {},
   "outputs": [
    {
     "name": "stdout",
     "output_type": "stream",
     "text": [
      "1 는 홀수이다\n",
      "2 는 짝수이다\n",
      "3 는 홀수이다\n",
      "4 는 짝수이다\n",
      "5 는 홀수이다\n",
      "6 는 짝수이다\n",
      "7 는 홀수이다\n",
      "8 는 짝수이다\n",
      "9 는 홀수이다\n",
      "10 는 짝수이다\n"
     ]
    }
   ],
   "source": [
    "#p98_1.py\n",
    "for sb in range(1, 11, 1):\n",
    "    if sb%2==0:\n",
    "        stra=\"짝수이다\"\n",
    "    else:\n",
    "        stra=\"홀수이다\"\n",
    "    print(sb,\"는\",stra )"
   ]
  },
  {
   "cell_type": "code",
   "execution_count": 7,
   "id": "d9e344d4",
   "metadata": {},
   "outputs": [
    {
     "name": "stdout",
     "output_type": "stream",
     "text": [
      "1 는 홀수이다\n",
      "3 는 홀수이다\n",
      "5 는 홀수이다\n",
      "7 는 홀수이다\n",
      "9 는 홀수이다\n"
     ]
    }
   ],
   "source": [
    "#p99.py\n",
    "for sb in range(1, 11, 1):\n",
    "    if sb%2==0:\n",
    "        continue\n",
    "        stra=\"짝수이다\"\n",
    "    else:\n",
    "        stra=\"홀수이다\"\n",
    "    print(sb,\"는\",stra )"
   ]
  },
  {
   "cell_type": "code",
   "execution_count": 9,
   "id": "6304a4d1",
   "metadata": {},
   "outputs": [
    {
     "name": "stdout",
     "output_type": "stream",
     "text": [
      "멍추려는 정수값을 입력하세요10\n",
      "1  2  3  4  5  6  7  8  9  10  "
     ]
    }
   ],
   "source": [
    "#p100.py\n",
    "na=int(input(\"멍추려는 정수값을 입력하세요\"))\n",
    "for sb in range(0, 100, 1):\n",
    "    if sb == na:\n",
    "        break\n",
    "        print(sb, \"는 종료값이다\")\n",
    "    print(sb+1, end=\"  \")"
   ]
  },
  {
   "cell_type": "code",
   "execution_count": 11,
   "id": "2bda1476",
   "metadata": {},
   "outputs": [
    {
     "name": "stdout",
     "output_type": "stream",
     "text": [
      "55\n"
     ]
    }
   ],
   "source": [
    "#p103.py\n",
    "total = 0\n",
    "for sb in range(1, 11,1):\n",
    "    total = total + sb\n",
    "print(total)"
   ]
  },
  {
   "cell_type": "code",
   "execution_count": 12,
   "id": "6ec8c25d",
   "metadata": {},
   "outputs": [
    {
     "name": "stdout",
     "output_type": "stream",
     "text": [
      "1\n",
      "2\n",
      "3\n"
     ]
    }
   ],
   "source": [
    "#p106.py\n",
    "sb=1\n",
    "while sb < 4:\n",
    "    print(sb)\n",
    "    sb = sb + 1"
   ]
  },
  {
   "cell_type": "code",
   "execution_count": 13,
   "id": "2e2c9357",
   "metadata": {},
   "outputs": [
    {
     "name": "stdout",
     "output_type": "stream",
     "text": [
      "1\n",
      "2\n",
      "3\n"
     ]
    }
   ],
   "source": [
    "#p107_1.py\n",
    "sb=0\n",
    "while sb < 3:\n",
    "    sb = sb + 1\n",
    "    print(sb)"
   ]
  },
  {
   "cell_type": "code",
   "execution_count": 14,
   "id": "52406dbd",
   "metadata": {},
   "outputs": [
    {
     "name": "stdout",
     "output_type": "stream",
     "text": [
      "0   1   2   3   4   \n",
      "\n",
      "\n",
      "0   2   4   6   8   "
     ]
    }
   ],
   "source": [
    "#p107_2.py\n",
    "for sb in range(0, 5, 1):\n",
    "    print(sb, end=\"   \")\n",
    "    \n",
    "print(\"\\n\\n\")\n",
    "for sb in range(0, 10, 2):\n",
    "    print(sb, end=\"   \")"
   ]
  },
  {
   "cell_type": "code",
   "execution_count": 16,
   "id": "f3f78aa9",
   "metadata": {},
   "outputs": [
    {
     "name": "stdout",
     "output_type": "stream",
     "text": [
      "0   1   2   3   4   \n",
      "\n",
      "\n",
      "0   2   4   6   8   "
     ]
    }
   ],
   "source": [
    "#p108_1.py\n",
    "sb=0\n",
    "while sb<5:\n",
    "    print(sb, end=\"   \")\n",
    "    sb=sb+1\n",
    "print(\"\\n\\n\")\n",
    "sb=0\n",
    "while sb <10:\n",
    "    print(sb, end=\"   \")\n",
    "    sb= sb + 2"
   ]
  },
  {
   "cell_type": "code",
   "execution_count": 17,
   "id": "680a32af",
   "metadata": {},
   "outputs": [
    {
     "name": "stdout",
     "output_type": "stream",
     "text": [
      "1부터 10 까지의 총합은 55\n"
     ]
    }
   ],
   "source": [
    "#p108_2.py\n",
    "\n",
    "total = 0\n",
    "for sb in range(1, 11, 1):\n",
    "     total=total +  sb\n",
    "print(\"1부터\", sb,\"까지의 총합은\", total)"
   ]
  },
  {
   "cell_type": "code",
   "execution_count": 18,
   "id": "ef6608da",
   "metadata": {},
   "outputs": [
    {
     "name": "stdout",
     "output_type": "stream",
     "text": [
      "1부터 10 까지의 총합은 55\n"
     ]
    }
   ],
   "source": [
    "#p108_3.py\n",
    "total = 0\n",
    "sb = 0\n",
    "while sb < 11:\n",
    "    total = total + sb\n",
    "    sb = sb + 1\n",
    "print(\"1부터\", sb-1,\"까지의 총합은\", total)"
   ]
  },
  {
   "cell_type": "code",
   "execution_count": 19,
   "id": "87f5904d",
   "metadata": {},
   "outputs": [
    {
     "name": "stdout",
     "output_type": "stream",
     "text": [
      "1\n",
      "2\n",
      "3\n"
     ]
    }
   ],
   "source": [
    "#p109.py\n",
    "sb = 1\n",
    "while True:\n",
    "    print(sb)\n",
    "    sb = sb + 1\n",
    "    if sb > 3:\n",
    "        break"
   ]
  },
  {
   "cell_type": "code",
   "execution_count": 21,
   "id": "376f7f7f",
   "metadata": {},
   "outputs": [
    {
     "name": "stdout",
     "output_type": "stream",
     "text": [
      "1\n",
      "2\n",
      "3\n"
     ]
    }
   ],
   "source": [
    "#p110.py\n",
    "sb = 0\n",
    "while True:\n",
    "    sb = sb + 1    \n",
    "    if sb > 3:\n",
    "        break\n",
    "    print(sb)"
   ]
  },
  {
   "cell_type": "code",
   "execution_count": 22,
   "id": "a35a7374",
   "metadata": {},
   "outputs": [
    {
     "name": "stdout",
     "output_type": "stream",
     "text": [
      "1 * 1 = 1\n",
      "1 * 2 = 2\n",
      "1 * 3 = 3\n",
      "1 * 4 = 4\n",
      "1 * 5 = 5\n",
      "1 * 6 = 6\n",
      "1 * 7 = 7\n",
      "1 * 8 = 8\n",
      "1 * 9 = 9\n"
     ]
    }
   ],
   "source": [
    "#p116.py\n",
    "for i in range(1, 10, 1):\n",
    "    print(1, \"*\", i, \"=\", 1 * i )"
   ]
  },
  {
   "cell_type": "code",
   "execution_count": 23,
   "id": "48a16312",
   "metadata": {},
   "outputs": [
    {
     "name": "stdout",
     "output_type": "stream",
     "text": [
      "1 * 1 = 1\n",
      "1 * 2 = 2\n",
      "1 * 3 = 3\n",
      "1 * 4 = 4\n",
      "1 * 5 = 5\n",
      "1 * 6 = 6\n",
      "1 * 7 = 7\n",
      "1 * 8 = 8\n",
      "1 * 9 = 9\n"
     ]
    }
   ],
   "source": [
    "#p117.py\n",
    "i=1\n",
    "while i < 10:\n",
    "    print(1, \"*\", i, \"=\", 1 * i )\n",
    "    i = i + 1"
   ]
  },
  {
   "cell_type": "code",
   "execution_count": 25,
   "id": "1754224f",
   "metadata": {},
   "outputs": [
    {
     "name": "stdout",
     "output_type": "stream",
     "text": [
      "1 * 1 = 1\n",
      "1 * 2 = 2\n",
      "1 * 3 = 3\n",
      "1 * 4 = 4\n",
      "1 * 5 = 5\n",
      "1 * 6 = 6\n",
      "1 * 7 = 7\n",
      "1 * 8 = 8\n",
      "1 * 9 = 9\n",
      "2 * 1 = 2\n",
      "2 * 2 = 4\n",
      "2 * 3 = 6\n",
      "2 * 4 = 8\n",
      "2 * 5 = 10\n",
      "2 * 6 = 12\n",
      "2 * 7 = 14\n",
      "2 * 8 = 16\n",
      "2 * 9 = 18\n"
     ]
    }
   ],
   "source": [
    "#p119_1.py\n",
    "for i in range(1, 10, 1):\n",
    "    print(1, \"*\", i, \"=\", 1 * i )\n",
    "for i in range(1, 10, 1):\n",
    "    print(2, \"*\", i, \"=\", 2 * i )"
   ]
  },
  {
   "cell_type": "code",
   "execution_count": 27,
   "id": "e05e0ef0",
   "metadata": {},
   "outputs": [
    {
     "name": "stdout",
     "output_type": "stream",
     "text": [
      "1 * 1 = 1\n",
      "1 * 2 = 2\n",
      "1 * 3 = 3\n",
      "1 * 4 = 4\n",
      "1 * 5 = 5\n",
      "1 * 6 = 6\n",
      "1 * 7 = 7\n",
      "1 * 8 = 8\n",
      "1 * 9 = 9\n",
      "2 * 1 = 1\n",
      "2 * 2 = 2\n",
      "2 * 3 = 3\n",
      "2 * 4 = 4\n",
      "2 * 5 = 5\n",
      "2 * 6 = 6\n",
      "2 * 7 = 7\n",
      "2 * 8 = 8\n",
      "2 * 9 = 9\n"
     ]
    }
   ],
   "source": [
    "#p119_2.py\n",
    "i=1\n",
    "while i < 10:\n",
    "    print(1, \"*\", i, \"=\", 1 * i )\n",
    "    i = i + 1\n",
    "i=1\n",
    "while i < 10:\n",
    "    print(2, \"*\", i, \"=\", 1 * i )\n",
    "    i = i + 1"
   ]
  },
  {
   "cell_type": "code",
   "execution_count": 30,
   "id": "caed026a",
   "metadata": {},
   "outputs": [
    {
     "name": "stdout",
     "output_type": "stream",
     "text": [
      "1 * 1 = 1\n",
      "1 * 2 = 2\n",
      "1 * 3 = 3\n",
      "1 * 4 = 4\n",
      "1 * 5 = 5\n",
      "1 * 6 = 6\n",
      "1 * 7 = 7\n",
      "1 * 8 = 8\n",
      "1 * 9 = 9\n",
      "2 * 1 = 2\n",
      "2 * 2 = 4\n",
      "2 * 3 = 6\n",
      "2 * 4 = 8\n",
      "2 * 5 = 10\n",
      "2 * 6 = 12\n",
      "2 * 7 = 14\n",
      "2 * 8 = 16\n",
      "2 * 9 = 18\n",
      "3 * 1 = 3\n",
      "3 * 2 = 6\n",
      "3 * 3 = 9\n",
      "3 * 4 = 12\n",
      "3 * 5 = 15\n",
      "3 * 6 = 18\n",
      "3 * 7 = 21\n",
      "3 * 8 = 24\n",
      "3 * 9 = 27\n",
      "4 * 1 = 4\n",
      "4 * 2 = 8\n",
      "4 * 3 = 12\n",
      "4 * 4 = 16\n",
      "4 * 5 = 20\n",
      "4 * 6 = 24\n",
      "4 * 7 = 28\n",
      "4 * 8 = 32\n",
      "4 * 9 = 36\n",
      "5 * 1 = 5\n",
      "5 * 2 = 10\n",
      "5 * 3 = 15\n",
      "5 * 4 = 20\n",
      "5 * 5 = 25\n",
      "5 * 6 = 30\n",
      "5 * 7 = 35\n",
      "5 * 8 = 40\n",
      "5 * 9 = 45\n"
     ]
    }
   ],
   "source": [
    "#p119_3.py\n",
    "for i in range(1, 10, 1):\n",
    "    print(1, \"*\", i, \"=\", 1 * i )\n",
    "for i in range(1, 10, 1):\n",
    "    print(2, \"*\", i, \"=\", 2 * i )\n",
    "for i in range(1, 10, 1):\n",
    "    print(3, \"*\", i, \"=\", 3 * i )\n",
    "for i in range(1, 10, 1):\n",
    "    print(4, \"*\", i, \"=\", 4 * i )\n",
    "for i in range(1, 10, 1):\n",
    "    print(5, \"*\", i, \"=\", 5 * i )"
   ]
  },
  {
   "cell_type": "code",
   "execution_count": 31,
   "id": "8a3ccab4",
   "metadata": {},
   "outputs": [
    {
     "name": "stdout",
     "output_type": "stream",
     "text": [
      "1 * 1 = 1\n",
      "1 * 2 = 2\n",
      "1 * 3 = 3\n",
      "1 * 4 = 4\n",
      "1 * 5 = 5\n",
      "1 * 6 = 6\n",
      "1 * 7 = 7\n",
      "1 * 8 = 8\n",
      "1 * 9 = 9\n",
      "2 * 1 = 2\n",
      "2 * 2 = 4\n",
      "2 * 3 = 6\n",
      "2 * 4 = 8\n",
      "2 * 5 = 10\n",
      "2 * 6 = 12\n",
      "2 * 7 = 14\n",
      "2 * 8 = 16\n",
      "2 * 9 = 18\n",
      "3 * 1 = 3\n",
      "3 * 2 = 6\n",
      "3 * 3 = 9\n",
      "3 * 4 = 12\n",
      "3 * 5 = 15\n",
      "3 * 6 = 18\n",
      "3 * 7 = 21\n",
      "3 * 8 = 24\n",
      "3 * 9 = 27\n",
      "4 * 1 = 4\n",
      "4 * 2 = 8\n",
      "4 * 3 = 12\n",
      "4 * 4 = 16\n",
      "4 * 5 = 20\n",
      "4 * 6 = 24\n",
      "4 * 7 = 28\n",
      "4 * 8 = 32\n",
      "4 * 9 = 36\n",
      "5 * 1 = 5\n",
      "5 * 2 = 10\n",
      "5 * 3 = 15\n",
      "5 * 4 = 20\n",
      "5 * 5 = 25\n",
      "5 * 6 = 30\n",
      "5 * 7 = 35\n",
      "5 * 8 = 40\n",
      "5 * 9 = 45\n"
     ]
    }
   ],
   "source": [
    "#p121_1.py #책에 for j i n range(1,6,1) =>for j in range(1, 6, 1) 로 수정\n",
    "for j in range(1, 6, 1):\n",
    "    for i in range(1, 10, 1):\n",
    "        print(j, \"*\", i, \"=\", j * i )"
   ]
  },
  {
   "cell_type": "code",
   "execution_count": 32,
   "id": "bad87fd5",
   "metadata": {},
   "outputs": [
    {
     "name": "stdout",
     "output_type": "stream",
     "text": [
      "1 * 1 = 1\n",
      "1 * 2 = 2\n",
      "1 * 3 = 3\n",
      "1 * 4 = 4\n",
      "1 * 5 = 5\n",
      "1 * 6 = 6\n",
      "1 * 7 = 7\n",
      "1 * 8 = 8\n",
      "1 * 9 = 9\n",
      "2 * 1 = 2\n",
      "2 * 2 = 4\n",
      "2 * 3 = 6\n",
      "2 * 4 = 8\n",
      "2 * 5 = 10\n",
      "2 * 6 = 12\n",
      "2 * 7 = 14\n",
      "2 * 8 = 16\n",
      "2 * 9 = 18\n",
      "3 * 1 = 3\n",
      "3 * 2 = 6\n",
      "3 * 3 = 9\n",
      "3 * 4 = 12\n",
      "3 * 5 = 15\n",
      "3 * 6 = 18\n",
      "3 * 7 = 21\n",
      "3 * 8 = 24\n",
      "3 * 9 = 27\n",
      "4 * 1 = 4\n",
      "4 * 2 = 8\n",
      "4 * 3 = 12\n",
      "4 * 4 = 16\n",
      "4 * 5 = 20\n",
      "4 * 6 = 24\n",
      "4 * 7 = 28\n",
      "4 * 8 = 32\n",
      "4 * 9 = 36\n",
      "5 * 1 = 5\n",
      "5 * 2 = 10\n",
      "5 * 3 = 15\n",
      "5 * 4 = 20\n",
      "5 * 5 = 25\n",
      "5 * 6 = 30\n",
      "5 * 7 = 35\n",
      "5 * 8 = 40\n",
      "5 * 9 = 45\n"
     ]
    }
   ],
   "source": [
    "#p121_2.py\n",
    "j=1\n",
    "while j < 6:\n",
    "    i=1\n",
    "    while i < 10:\n",
    "        print(j, \"*\", i, \"=\", j * i )\n",
    "        i = i + 1\n",
    "    j = j + 1"
   ]
  },
  {
   "cell_type": "code",
   "execution_count": 34,
   "id": "165af2be",
   "metadata": {},
   "outputs": [
    {
     "name": "stdout",
     "output_type": "stream",
     "text": [
      "1 * 1 = 1\n",
      "1 * 2 = 2\n",
      "1 * 3 = 3\n",
      "1 * 4 = 4\n",
      "1 * 5 = 5\n",
      "1 * 6 = 6\n",
      "1 * 7 = 7\n",
      "1 * 8 = 8\n",
      "1 * 9 = 9\n",
      "2 * 1 = 2\n",
      "2 * 2 = 4\n",
      "2 * 3 = 6\n",
      "2 * 4 = 8\n",
      "2 * 5 = 10\n",
      "2 * 6 = 12\n",
      "2 * 7 = 14\n",
      "2 * 8 = 16\n",
      "2 * 9 = 18\n",
      "3 * 1 = 3\n",
      "3 * 2 = 6\n",
      "3 * 3 = 9\n",
      "3 * 4 = 12\n",
      "3 * 5 = 15\n",
      "3 * 6 = 18\n",
      "3 * 7 = 21\n",
      "3 * 8 = 24\n",
      "3 * 9 = 27\n",
      "4 * 1 = 4\n",
      "4 * 2 = 8\n",
      "4 * 3 = 12\n",
      "4 * 4 = 16\n",
      "4 * 5 = 20\n",
      "4 * 6 = 24\n",
      "4 * 7 = 28\n",
      "4 * 8 = 32\n",
      "4 * 9 = 36\n",
      "5 * 1 = 5\n",
      "5 * 2 = 10\n",
      "5 * 3 = 15\n",
      "5 * 4 = 20\n",
      "5 * 5 = 25\n",
      "5 * 6 = 30\n",
      "5 * 7 = 35\n",
      "5 * 8 = 40\n",
      "5 * 9 = 45\n",
      "6 * 1 = 6\n",
      "6 * 2 = 12\n",
      "6 * 3 = 18\n",
      "6 * 4 = 24\n",
      "6 * 5 = 30\n",
      "6 * 6 = 36\n",
      "6 * 7 = 42\n",
      "6 * 8 = 48\n",
      "6 * 9 = 54\n",
      "7 * 1 = 7\n",
      "7 * 2 = 14\n",
      "7 * 3 = 21\n",
      "7 * 4 = 28\n",
      "7 * 5 = 35\n",
      "7 * 6 = 42\n",
      "7 * 7 = 49\n",
      "7 * 8 = 56\n",
      "7 * 9 = 63\n",
      "8 * 1 = 8\n",
      "8 * 2 = 16\n",
      "8 * 3 = 24\n",
      "8 * 4 = 32\n",
      "8 * 5 = 40\n",
      "8 * 6 = 48\n",
      "8 * 7 = 56\n",
      "8 * 8 = 64\n",
      "8 * 9 = 72\n",
      "9 * 1 = 9\n",
      "9 * 2 = 18\n",
      "9 * 3 = 27\n",
      "9 * 4 = 36\n",
      "9 * 5 = 45\n",
      "9 * 6 = 54\n",
      "9 * 7 = 63\n",
      "9 * 8 = 72\n",
      "9 * 9 = 81\n"
     ]
    }
   ],
   "source": [
    "#p122.py\n",
    "for i in range(1, 10, 1):\n",
    "    for j in range(1, 10, 1):\n",
    "        print(f\"{i} * {j} = {i * j}\")"
   ]
  },
  {
   "cell_type": "code",
   "execution_count": null,
   "id": "d8c66a5e",
   "metadata": {},
   "outputs": [],
   "source": []
  }
 ],
 "metadata": {
  "kernelspec": {
   "display_name": "Python 3 (ipykernel)",
   "language": "python",
   "name": "python3"
  },
  "language_info": {
   "codemirror_mode": {
    "name": "ipython",
    "version": 3
   },
   "file_extension": ".py",
   "mimetype": "text/x-python",
   "name": "python",
   "nbconvert_exporter": "python",
   "pygments_lexer": "ipython3",
   "version": "3.9.13"
  }
 },
 "nbformat": 4,
 "nbformat_minor": 5
}
