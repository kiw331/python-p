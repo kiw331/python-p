{
  "nbformat": 4,
  "nbformat_minor": 0,
  "metadata": {
    "colab": {
      "provenance": []
    },
    "kernelspec": {
      "name": "python3",
      "display_name": "Python 3"
    },
    "language_info": {
      "name": "python"
    }
  },
  "cells": [
    {
      "cell_type": "markdown",
      "source": [
        "파이썬 워크북 4장 문제"
      ],
      "metadata": {
        "id": "Y2CGPFVjqPDd"
      }
    },
    {
      "cell_type": "code",
      "source": [
        "# 문제 1 \n",
        "\n",
        "for sb in range(0, 101, 1):\n",
        "    if sb % 3 == 0:\n",
        "        print(sb, end=\" \")"
      ],
      "metadata": {
        "colab": {
          "base_uri": "https://localhost:8080/"
        },
        "id": "-9Q149cdqTLQ",
        "outputId": "5e331717-2883-4490-c5a7-a6adb5405bd8"
      },
      "execution_count": null,
      "outputs": [
        {
          "output_type": "stream",
          "name": "stdout",
          "text": [
            "0 3 6 9 12 15 18 21 24 27 30 33 36 39 42 45 48 51 54 57 60 63 66 69 72 75 78 81 84 87 90 93 96 99 "
          ]
        }
      ]
    },
    {
      "cell_type": "code",
      "source": [
        "# 문제 2\n",
        "\n",
        "for sb in range(1, 11, 1):\n",
        "    if sb % 3 == 0:\n",
        "        continue\n",
        "    print(sb, end=\" \" )"
      ],
      "metadata": {
        "colab": {
          "base_uri": "https://localhost:8080/"
        },
        "id": "q8XNUQp0qd_e",
        "outputId": "1acd5ef9-f0dc-48ed-d3d1-3dea9506502d"
      },
      "execution_count": null,
      "outputs": [
        {
          "output_type": "stream",
          "name": "stdout",
          "text": [
            "1 2 4 5 7 8 10 "
          ]
        }
      ]
    },
    {
      "cell_type": "code",
      "source": [
        "# 문제 3\n",
        "\n",
        "sb = int(input(\"총합을 구하려는 수를 입력하세요.\"))\n",
        "total = 0\n",
        "for sb in range(1, sb+1, 1):\n",
        "    total = total + sb\n",
        "print(\"1부터\", sb,\"까지의 총합은\", total, \"이다.\")"
      ],
      "metadata": {
        "colab": {
          "base_uri": "https://localhost:8080/"
        },
        "id": "z40HWcf1qlO8",
        "outputId": "6d4bce44-4df7-4fdc-de2d-e9a5490320a3"
      },
      "execution_count": null,
      "outputs": [
        {
          "output_type": "stream",
          "name": "stdout",
          "text": [
            "총합을 구하려는 수를 입력하세요.10\n",
            "1부터 10 까지의 총합은 55 이다.\n"
          ]
        }
      ]
    },
    {
      "cell_type": "code",
      "source": [
        "# 문제 4-1\n",
        "\n",
        "for sb in range(1, 11, 1):\n",
        "    total = 0\n",
        "    total = total + sb\n",
        "print(total)"
      ],
      "metadata": {
        "colab": {
          "base_uri": "https://localhost:8080/"
        },
        "id": "ZF6dgtYbqsOt",
        "outputId": "0abdda86-a6dc-4ff4-bcb4-8f0cd4dc1bf1"
      },
      "execution_count": null,
      "outputs": [
        {
          "output_type": "stream",
          "name": "stdout",
          "text": [
            "10\n"
          ]
        }
      ]
    },
    {
      "cell_type": "code",
      "source": [
        "# 문제 4-2\n",
        "\n",
        "total = 0\n",
        "for sb in range(1, 11, 1):\n",
        "    total = total + sb\n",
        "    print(total, end=\" \")\n",
        "print(\"끝\")"
      ],
      "metadata": {
        "colab": {
          "base_uri": "https://localhost:8080/"
        },
        "id": "eJENS-zot18q",
        "outputId": "7d47799c-04aa-4525-884d-fe4934172715"
      },
      "execution_count": null,
      "outputs": [
        {
          "output_type": "stream",
          "name": "stdout",
          "text": [
            "1 3 6 10 15 21 28 36 45 55 끝\n"
          ]
        }
      ]
    },
    {
      "cell_type": "code",
      "source": [
        "# 문제 4-3\n",
        "\n",
        "total = 0\n",
        "for sb in range(1,11,1):\n",
        "    total = total + sb\n",
        "print(total)"
      ],
      "metadata": {
        "colab": {
          "base_uri": "https://localhost:8080/"
        },
        "id": "GuVdchjxuXXk",
        "outputId": "9de79140-dea8-4dcc-ed9e-040dda92bdc9"
      },
      "execution_count": null,
      "outputs": [
        {
          "output_type": "stream",
          "name": "stdout",
          "text": [
            "55\n"
          ]
        }
      ]
    },
    {
      "cell_type": "code",
      "source": [
        "# 문제 4-4\n",
        "\n",
        "total = 0\n",
        "for sb in range(1,11,1):\n",
        "    total = total + 1\n",
        "print(total)"
      ],
      "metadata": {
        "colab": {
          "base_uri": "https://localhost:8080/"
        },
        "id": "aX6sljyyulDX",
        "outputId": "f95f200a-4bd8-4892-f391-c96b43ef54c2"
      },
      "execution_count": null,
      "outputs": [
        {
          "output_type": "stream",
          "name": "stdout",
          "text": [
            "10\n"
          ]
        }
      ]
    },
    {
      "cell_type": "code",
      "source": [
        "# 문제 4-5\n",
        "\n",
        "for sb in range(1,11,1):\n",
        "    total = 0\n",
        "    total = total + 1\n",
        "print(total)"
      ],
      "metadata": {
        "colab": {
          "base_uri": "https://localhost:8080/"
        },
        "id": "bIwbmVgQuptt",
        "outputId": "b571521e-05dd-46c8-fb59-36191d51fa80"
      },
      "execution_count": null,
      "outputs": [
        {
          "output_type": "stream",
          "name": "stdout",
          "text": [
            "1\n"
          ]
        }
      ]
    },
    {
      "cell_type": "code",
      "source": [
        "# 문제 5\n",
        "\n",
        "sb=int(input(\"총합을 구하려는 수를 입력하세요.\"))\n",
        "total = 0\n",
        "sb = 0\n",
        "while sb < 11:\n",
        "    total = total + sb\n",
        "    sb = sb + 1\n",
        "print(\"1부터\", sb-1,\"까지의 총합은\", total, \"이다.\")"
      ],
      "metadata": {
        "colab": {
          "base_uri": "https://localhost:8080/"
        },
        "id": "sZ_zD7sdvHbI",
        "outputId": "c5d7eb0a-e3b1-42cd-9fb9-cc37efee4566"
      },
      "execution_count": null,
      "outputs": [
        {
          "output_type": "stream",
          "name": "stdout",
          "text": [
            "총합을 구하려는 수를 입력하세요.10\n",
            "1부터 10 까지의 총합은 55 이다.\n"
          ]
        }
      ]
    },
    {
      "cell_type": "code",
      "source": [
        "# 문제 6\n",
        "\n",
        "sa = int(input(\"총합을 구하고 싶은 정수 입력\"))\n",
        "total = 0\n",
        "sb = 0\n",
        "\n",
        "while True:\n",
        "    total = total + sb\n",
        "    if sa == sb:\n",
        "        break\n",
        "    else:\n",
        "        sb = sb + 1\n",
        "print(\"1부터\", sa, \"까지의 총합은\", total, \"이다.\")"
      ],
      "metadata": {
        "colab": {
          "base_uri": "https://localhost:8080/"
        },
        "id": "JNDiQ6GEvN-8",
        "outputId": "7b1993bb-0d21-4eac-e7cf-596f2f1da388"
      },
      "execution_count": null,
      "outputs": [
        {
          "output_type": "stream",
          "name": "stdout",
          "text": [
            "총합을 구하고 싶은 정수 입력10\n",
            "1부터 10 까지의 총합은 55 이다.\n"
          ]
        }
      ]
    },
    {
      "cell_type": "code",
      "source": [
        "# 문제 7 - for 문\n",
        "\n",
        "na = int(input(\"첫 번째 정수를 입력하세요.\"))\n",
        "nb = int(input(\"두 번째 정수를 입력하세요.\"))\n",
        "total = 0\n",
        "for sb in range(na, nb+1, 1):\n",
        "    total=total + sb\n",
        "print(na,\"부터\",nb,\"까지의 총합은\", total,\"이다.\")"
      ],
      "metadata": {
        "colab": {
          "base_uri": "https://localhost:8080/"
        },
        "id": "WtYGNMH4v50L",
        "outputId": "acc8ba76-9234-49cf-e34f-755bf3438c1a"
      },
      "execution_count": null,
      "outputs": [
        {
          "output_type": "stream",
          "name": "stdout",
          "text": [
            "첫 번째 정수를 입력하세요.1\n",
            "두 번째 정수를 입력하세요.10\n",
            "1 부터 10 까지의 총합은 55 이다.\n"
          ]
        }
      ]
    },
    {
      "cell_type": "code",
      "source": [
        "# 문제 7 - while 문\n",
        "\n",
        "na = int(input(\"첫번째 정수를 입력하세요.\"))\n",
        "nb = int(input(\"두번째 정수를 입력하세요.\"))\n",
        "total = 0\n",
        "sb=na\n",
        "while sb < nb+1:\n",
        "    total=total + sb\n",
        "    sb=sb+1\n",
        "print(na,\"부터\",nb,\"까지의 총합은\", total,\"이다.\")"
      ],
      "metadata": {
        "colab": {
          "base_uri": "https://localhost:8080/"
        },
        "id": "EfNlWWLUwGzP",
        "outputId": "cd4a2e2b-07c7-4349-d795-cb4d1785a340"
      },
      "execution_count": null,
      "outputs": [
        {
          "output_type": "stream",
          "name": "stdout",
          "text": [
            "첫번째 정수를 입력하세요.1\n",
            "두번째 정수를 입력하세요.10\n",
            "1 부터 10 까지의 총합은 55 이다.\n"
          ]
        }
      ]
    },
    {
      "cell_type": "code",
      "source": [
        "# 문제 8 - for 문\n",
        "\n",
        "na = int(input(\"첫 번째 정수를 입력하세요.\"))\n",
        "nb = int(input(\"두 번째 정수를 입력하세요.\"))\n",
        "total = 0\n",
        "for sb in range(na, nb+1, 1):\n",
        "    if sb % 3 == 0:\n",
        "        total=total + sb\n",
        "print(na,\"부터\",nb,\"까지의 3의 배수의 총합은\", total,\"이다.\")"
      ],
      "metadata": {
        "colab": {
          "base_uri": "https://localhost:8080/"
        },
        "id": "Z1fVeBoswPw6",
        "outputId": "8bed4a9a-12b3-4ad0-b9e5-a0e82b29434d"
      },
      "execution_count": null,
      "outputs": [
        {
          "output_type": "stream",
          "name": "stdout",
          "text": [
            "첫 번째 정수를 입력하세요.1\n",
            "두 번째 정수를 입력하세요.10\n",
            "1 부터 10 까지의 3의 배수의 총합은 18 이다.\n"
          ]
        }
      ]
    },
    {
      "cell_type": "code",
      "source": [
        "# 문제 8 - while 문\n",
        "\n",
        "na = int(input(\"첫 번째 정수를 입력하세요.\"))\n",
        "nb = int(input(\"두 번째 정수를 입력하세요.\"))\n",
        "total = 0\n",
        "sb=na\n",
        "while na < nb+1:\n",
        "    if na % 3 == 0:\n",
        "        total=total + na\n",
        "    na=na+1\n",
        "print(sb,\"부터\",nb,\"까지의 3의 배수의 총합은\", total,\"이다.\")"
      ],
      "metadata": {
        "colab": {
          "base_uri": "https://localhost:8080/"
        },
        "id": "zi8ofjOUwZK_",
        "outputId": "b808aaa5-4a72-4485-c924-15d2ba438be7"
      },
      "execution_count": null,
      "outputs": [
        {
          "output_type": "stream",
          "name": "stdout",
          "text": [
            "첫 번째 정수를 입력하세요.0\n",
            "두 번째 정수를 입력하세요.10\n",
            "0 부터 10 까지의 3의 배수의 총합은 18 이다.\n"
          ]
        }
      ]
    },
    {
      "cell_type": "code",
      "source": [
        "# 문제 9\n",
        "\n",
        "MyName=''\n",
        "while True:\n",
        "    print(\"이름을 입력하세요.\")\n",
        "    MyName = input()\n",
        "    if MyName == 'hongkildong':\n",
        "        break\n",
        "print(\"확인되었습니다.\")"
      ],
      "metadata": {
        "colab": {
          "base_uri": "https://localhost:8080/"
        },
        "id": "RCFa5Gzxwi58",
        "outputId": "722a3986-c593-481c-dafb-ad5d57d20c07"
      },
      "execution_count": null,
      "outputs": [
        {
          "output_type": "stream",
          "name": "stdout",
          "text": [
            "이름을 입력하세요.\n",
            "hongkildong\n",
            "확인되었습니다.\n"
          ]
        }
      ]
    },
    {
      "cell_type": "code",
      "source": [
        "# 문제 10 \n",
        "\n",
        "MyName=''\n",
        "while True:\n",
        "    print(\"이름을 입력하세요.\")\n",
        "    MyName = input()\n",
        "    if MyName != 'hongkildong':\n",
        "        continue\n",
        "    else:\n",
        "        print(\"패스워드를 입력하세요.\")\n",
        "        MyPass=input()\n",
        "        if MyPass==\"hahaha\":\n",
        "            break\n",
        "print(\"확인되었습니다.\")"
      ],
      "metadata": {
        "colab": {
          "base_uri": "https://localhost:8080/"
        },
        "id": "TXv18lfzwtmR",
        "outputId": "2cadd390-17a8-40ab-892a-a6ae7499788d"
      },
      "execution_count": null,
      "outputs": [
        {
          "output_type": "stream",
          "name": "stdout",
          "text": [
            "이름을 입력하세요.\n",
            "hongkildong\n",
            "패스워드를 입력하세요.\n",
            "hahaha\n",
            "확인되었습니다.\n"
          ]
        }
      ]
    },
    {
      "cell_type": "code",
      "source": [
        "# 문제 11 - for 문\n",
        "\n",
        "na = int(input(\"출력하고자 하는 구구단을 입력하세요.\"))\n",
        "for sb in range(1, 10, 1):\n",
        "    print(na, \"*\", sb, \"=\", na * sb )"
      ],
      "metadata": {
        "colab": {
          "base_uri": "https://localhost:8080/"
        },
        "id": "MkAdjmu8xFRK",
        "outputId": "605188d9-777f-4fed-a0bd-598b22118d62"
      },
      "execution_count": null,
      "outputs": [
        {
          "output_type": "stream",
          "name": "stdout",
          "text": [
            "출력하고자 하는 구구단을 입력하세요.4\n",
            "4 * 1 = 4\n",
            "4 * 2 = 8\n",
            "4 * 3 = 12\n",
            "4 * 4 = 16\n",
            "4 * 5 = 20\n",
            "4 * 6 = 24\n",
            "4 * 7 = 28\n",
            "4 * 8 = 32\n",
            "4 * 9 = 36\n"
          ]
        }
      ]
    },
    {
      "cell_type": "code",
      "source": [
        "# 문제 11 - while 문\n",
        "\n",
        "na = int(input(\"출력하고자 하는 구구단을 입력하세요\"))\n",
        "nb = 1\n",
        "while nb < 10:\n",
        "    print(na, \"*\", nb, \"=\", na * nb )\n",
        "    nb = nb + 1"
      ],
      "metadata": {
        "colab": {
          "base_uri": "https://localhost:8080/"
        },
        "id": "iJGyjG27xOwu",
        "outputId": "e6f40947-cd05-4071-a114-7670543f8012"
      },
      "execution_count": null,
      "outputs": [
        {
          "output_type": "stream",
          "name": "stdout",
          "text": [
            "출력하고자 하는 구구단을 입력하세요4\n",
            "4 * 1 = 4\n",
            "4 * 2 = 8\n",
            "4 * 3 = 12\n",
            "4 * 4 = 16\n",
            "4 * 5 = 20\n",
            "4 * 6 = 24\n",
            "4 * 7 = 28\n",
            "4 * 8 = 32\n",
            "4 * 9 = 36\n"
          ]
        }
      ]
    },
    {
      "cell_type": "code",
      "source": [
        "# 문제 12 - 1\n",
        "\n",
        "for i in range(1, 6):\n",
        "  for j in range(1, i+1):\n",
        "    print(j, end=' ')\n",
        "  print()"
      ],
      "metadata": {
        "colab": {
          "base_uri": "https://localhost:8080/"
        },
        "id": "VzS3RyElxWqS",
        "outputId": "0f5947fc-40f8-43b9-e45d-7299911c500b"
      },
      "execution_count": null,
      "outputs": [
        {
          "output_type": "stream",
          "name": "stdout",
          "text": [
            "1 \n",
            "1 2 \n",
            "1 2 3 \n",
            "1 2 3 4 \n",
            "1 2 3 4 5 \n"
          ]
        }
      ]
    },
    {
      "cell_type": "code",
      "source": [
        "# 문제 12 - 2\n",
        "\n",
        "for i in range(5):\n",
        "  for j in range(i + 1):\n",
        "    print(chr(65 + j), end=' ')\n",
        "print()"
      ],
      "metadata": {
        "colab": {
          "base_uri": "https://localhost:8080/"
        },
        "id": "LSvRlXTJx65G",
        "outputId": "15e7eabb-2ea8-4cdf-d1ba-a5e45b569da2"
      },
      "execution_count": null,
      "outputs": [
        {
          "output_type": "stream",
          "name": "stdout",
          "text": [
            "A A B A B C A B C D A B C D E \n"
          ]
        }
      ]
    },
    {
      "cell_type": "code",
      "source": [
        "# 문제 12 - 3\n",
        "\n",
        "for i in range(5):\n",
        "  for j in range(5):\n",
        "      print('*', end='')\n",
        "  print()"
      ],
      "metadata": {
        "colab": {
          "base_uri": "https://localhost:8080/"
        },
        "id": "43aZmFykyAmT",
        "outputId": "77ad6620-778c-472b-e1cc-2961f5b6b5ab"
      },
      "execution_count": null,
      "outputs": [
        {
          "output_type": "stream",
          "name": "stdout",
          "text": [
            "*****\n",
            "*****\n",
            "*****\n",
            "*****\n",
            "*****\n"
          ]
        }
      ]
    }
  ]
}