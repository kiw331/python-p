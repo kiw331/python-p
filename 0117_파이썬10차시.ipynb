{
 "cells": [
  {
   "cell_type": "markdown",
   "metadata": {},
   "source": [
    "10.1 모듈 생성  \n",
    "10.2 멤버 변수  \n",
    "10.3 from 모듈 이름 import 함수  \n",
    "10.4 메인 모듈과 하위 모듈  \n",
    "10.5 상속  \n",
    "10.6 오버라이딩  "
   ]
  },
  {
   "cell_type": "code",
   "execution_count": null,
   "metadata": {},
   "outputs": [],
   "source": []
  },
  {
   "cell_type": "code",
   "execution_count": null,
   "metadata": {},
   "outputs": [],
   "source": []
  }
 ],
 "metadata": {
  "kernelspec": {
   "display_name": "conda",
   "language": "python",
   "name": "conda"
  },
  "language_info": {
   "name": "python",
   "version": "3.10.4"
  }
 },
 "nbformat": 4,
 "nbformat_minor": 2
}
