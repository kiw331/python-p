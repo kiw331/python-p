{
 "cells": [
  {
   "cell_type": "code",
   "execution_count": 1,
   "metadata": {},
   "outputs": [
    {
     "data": {
      "text/plain": [
       "4500"
      ]
     },
     "execution_count": 1,
     "metadata": {},
     "output_type": "execute_result"
    }
   ],
   "source": [
    "\n",
    "def solution(order):\n",
    "    answer = 0\n",
    "    \n",
    "    for i in order:\n",
    "        \n",
    "        answer = 0\n",
    "    \n",
    "        #\n",
    "        if i in 'americano' or i == 'anything':\n",
    "            answer += 4500\n",
    "            \n",
    "        else:\n",
    "            answer += 5000\n",
    "            \n",
    "    return answer\n",
    "\n",
    "od = ['americanoice','cafelatte','hotcafelatte','anything']\n",
    "a = solution(od)\n",
    "\n",
    "a\n",
    "    "
   ]
  },
  {
   "cell_type": "code",
   "execution_count": null,
   "metadata": {},
   "outputs": [],
   "source": [
    "\n",
    "order = []\n",
    "for i in order:\n",
    "    \n",
    "    answer = 0\n",
    "    \n",
    "    \n",
    "    \n",
    "    #\n",
    "    if i in 'americatno' or i == 'anything' or]:\n",
    "        answer += \n",
    "        \n",
    "        \n",
    "        \n"
   ]
  },
  {
   "cell_type": "code",
   "execution_count": 9,
   "metadata": {},
   "outputs": [
    {
     "data": {
      "text/plain": [
       "19000"
      ]
     },
     "execution_count": 9,
     "metadata": {},
     "output_type": "execute_result"
    }
   ],
   "source": [
    "\n",
    "def solution(order):\n",
    "    answer = 0\n",
    "    \n",
    "    for i in order:\n",
    "            \n",
    "        if 'cafelatte' in i:\n",
    "            answer += 5000\n",
    "            \n",
    "        else:\n",
    "            answer += 4500\n",
    "                        \n",
    "    return answer\n",
    "\n",
    "od = ['americanoice','cafelatte','hotcafelatte','anything']\n",
    "a = solution(od)\n",
    "\n",
    "a"
   ]
  },
  {
   "cell_type": "code",
   "execution_count": 7,
   "metadata": {},
   "outputs": [
    {
     "data": {
      "text/plain": [
       "False"
      ]
     },
     "execution_count": 7,
     "metadata": {},
     "output_type": "execute_result"
    }
   ],
   "source": [
    "'hotcafelatte' in 'cafelatte'"
   ]
  },
  {
   "cell_type": "code",
   "execution_count": 18,
   "metadata": {},
   "outputs": [
    {
     "name": "stdout",
     "output_type": "stream",
     "text": [
      "[0, 1]\n",
      "[0, 1]\n",
      "[1, 1]\n",
      "[1, 1]\n",
      "[1, 0]\n",
      "[1, 0]\n",
      "[2, 0]\n"
     ]
    },
    {
     "data": {
      "text/plain": [
       "[2, 0]"
      ]
     },
     "execution_count": 18,
     "metadata": {},
     "output_type": "execute_result"
    }
   ],
   "source": [
    "def solution(command):\n",
    "    \n",
    "    #방향: 북, 동, 남, 서\n",
    "    dir = ((0, 1), (1, 0), (0, -1), (-1, 0))\n",
    "\n",
    "    # 초기 좌표, 방향 인덱스\n",
    "    c, d = [0, 0], 0\n",
    "    \n",
    "    for i in command:\n",
    "        if i == 'G':\n",
    "            c[0], c[1] = c[0]+dir[d][0], c[1]+dir[d][1]\n",
    "            \n",
    "        elif i == 'B':\n",
    "            c[0], c[1] = c[0]-dir[d][0], c[1]-dir[d][1]\n",
    "            \n",
    "        elif i == 'R':\n",
    "            d = (d+1) % 4\n",
    "            \n",
    "        elif i == 'L':\n",
    "            d -=1\n",
    "            \n",
    "            #북쪽에서 왼쪽회전 -> 서쪽\n",
    "            if d == -1:\n",
    "                d = 3\n",
    "                \n",
    "    return c\n",
    "\n",
    "#solution('GRGLGRG')\n",
    "solution('GRGRGRB')"
   ]
  },
  {
   "cell_type": "code",
   "execution_count": 15,
   "metadata": {},
   "outputs": [
    {
     "ename": "TypeError",
     "evalue": "unsupported operand type(s) for -: 'list' and 'list'",
     "output_type": "error",
     "traceback": [
      "\u001b[1;31m---------------------------------------------------------------------------\u001b[0m",
      "\u001b[1;31mTypeError\u001b[0m                                 Traceback (most recent call last)",
      "Input \u001b[1;32mIn [15]\u001b[0m, in \u001b[0;36m<cell line: 1>\u001b[1;34m()\u001b[0m\n\u001b[1;32m----> 1\u001b[0m \u001b[43m[\u001b[49m\u001b[38;5;241;43m1\u001b[39;49m\u001b[43m,\u001b[49m\u001b[38;5;241;43m2\u001b[39;49m\u001b[43m]\u001b[49m\u001b[43m \u001b[49m\u001b[38;5;241;43m-\u001b[39;49m\u001b[43m \u001b[49m\u001b[43m[\u001b[49m\u001b[38;5;241;43m2\u001b[39;49m\u001b[43m,\u001b[49m\u001b[38;5;241;43m1\u001b[39;49m\u001b[43m]\u001b[49m\n",
      "\u001b[1;31mTypeError\u001b[0m: unsupported operand type(s) for -: 'list' and 'list'"
     ]
    }
   ],
   "source": [
    "[1,2] - [2,1]"
   ]
  },
  {
   "cell_type": "code",
   "execution_count": 19,
   "metadata": {},
   "outputs": [
    {
     "data": {
      "text/plain": [
       "{'c'}"
      ]
     },
     "execution_count": 19,
     "metadata": {},
     "output_type": "execute_result"
    }
   ],
   "source": [
    "def solution(participant, completion):\n",
    "    \n",
    "    sp = set(participant)\n",
    "    sc = set(completion)\n",
    "    \n",
    "    answer = sp-sc\n",
    "    return answer\n",
    "\n",
    "a = ['a','b','c']\n",
    "b = ['a','b']\n",
    "\n",
    "solution(a,b)"
   ]
  },
  {
   "cell_type": "code",
   "execution_count": 21,
   "metadata": {},
   "outputs": [
    {
     "data": {
      "text/plain": [
       "\"{'c'}\""
      ]
     },
     "execution_count": 21,
     "metadata": {},
     "output_type": "execute_result"
    }
   ],
   "source": [
    "a = set(['a','b','c'])\n",
    "b = set(['a','b'])\n",
    "\n",
    "set"
   ]
  },
  {
   "cell_type": "code",
   "execution_count": 23,
   "metadata": {},
   "outputs": [
    {
     "data": {
      "text/plain": [
       "'c'"
      ]
     },
     "execution_count": 23,
     "metadata": {},
     "output_type": "execute_result"
    }
   ],
   "source": [
    "def solution(participant, completion):\n",
    "    \n",
    "    sp = set(participant)\n",
    "    sc = set(completion)\n",
    "    \n",
    "    answer = list(sp-sc)[0]\n",
    "    return answer\n",
    "\n",
    "a = ['a','b','c']\n",
    "b = ['a','b']\n",
    "\n",
    "solution(a,b)"
   ]
  },
  {
   "cell_type": "code",
   "execution_count": 22,
   "metadata": {},
   "outputs": [
    {
     "ename": "TypeError",
     "evalue": "unsupported operand type(s) for -: 'list' and 'list'",
     "output_type": "error",
     "traceback": [
      "\u001b[1;31m---------------------------------------------------------------------------\u001b[0m",
      "\u001b[1;31mTypeError\u001b[0m                                 Traceback (most recent call last)",
      "Input \u001b[1;32mIn [22]\u001b[0m, in \u001b[0;36m<cell line: 1>\u001b[1;34m()\u001b[0m\n\u001b[1;32m----> 1\u001b[0m \u001b[43m[\u001b[49m\u001b[38;5;124;43m'\u001b[39;49m\u001b[38;5;124;43m1\u001b[39;49m\u001b[38;5;124;43m'\u001b[39;49m\u001b[43m,\u001b[49m\u001b[38;5;124;43m'\u001b[39;49m\u001b[38;5;124;43m1\u001b[39;49m\u001b[38;5;124;43m'\u001b[39;49m\u001b[43m]\u001b[49m\u001b[43m \u001b[49m\u001b[38;5;241;43m-\u001b[39;49m\u001b[43m \u001b[49m\u001b[43m[\u001b[49m\u001b[38;5;124;43m'\u001b[39;49m\u001b[38;5;124;43m1\u001b[39;49m\u001b[38;5;124;43m'\u001b[39;49m\u001b[43m]\u001b[49m\n",
      "\u001b[1;31mTypeError\u001b[0m: unsupported operand type(s) for -: 'list' and 'list'"
     ]
    }
   ],
   "source": [
    "['1','1'] - ['1']"
   ]
  },
  {
   "cell_type": "code",
   "execution_count": 25,
   "metadata": {},
   "outputs": [
    {
     "data": {
      "text/plain": [
       "'c'"
      ]
     },
     "execution_count": 25,
     "metadata": {},
     "output_type": "execute_result"
    }
   ],
   "source": [
    "def solution(participant, completion):\n",
    "    \n",
    "    for p in participant:\n",
    "        \n",
    "        if p in completion:\n",
    "            completion.remove(p)\n",
    "        \n",
    "        else:\n",
    "            answer = p\n",
    "            break\n",
    "    \n",
    "    return answer\n",
    "\n",
    "a = ['a','b','c']\n",
    "b = ['a','b']\n",
    "\n",
    "solution(a,b)"
   ]
  },
  {
   "cell_type": "code",
   "execution_count": 26,
   "metadata": {},
   "outputs": [
    {
     "data": {
      "text/plain": [
       "'c'"
      ]
     },
     "execution_count": 26,
     "metadata": {},
     "output_type": "execute_result"
    }
   ],
   "source": [
    "def solution(participant, completion):\n",
    "    \n",
    "    \n",
    "    participant.sort()\n",
    "    completion.sort()\n",
    "    \n",
    "    for i in range(len(participant)-1):\n",
    "        \n",
    "        if participant[i] != completion[i]:\n",
    "            answer = participant[i]\n",
    "            \n",
    "            return answer\n",
    "    \n",
    "    #마지막 사람이 불합격자\n",
    "    answer = participant[-1]\n",
    "    \n",
    "    return answer\n",
    "\n",
    "a = ['a','b','c']\n",
    "b = ['a','b']\n",
    "\n",
    "solution(a,b)"
   ]
  },
  {
   "cell_type": "code",
   "execution_count": 66,
   "metadata": {},
   "outputs": [
    {
     "data": {
      "text/plain": [
       "-1"
      ]
     },
     "execution_count": 66,
     "metadata": {},
     "output_type": "execute_result"
    }
   ],
   "source": [
    "def dfs(cur, count, maps, goal, ans):\n",
    "    \n",
    "    # 카운트가 알려진 최대값 이하면 탐색 종료\n",
    "    if count > ans:\n",
    "        return\n",
    "            \n",
    "    #도착하면 정답 갱신\n",
    "    if cur == goal:\n",
    "        return  count\n",
    "    \n",
    "    x, y = cur[0], cur[1]\n",
    "    \n",
    "    # 4방향으로 이동\n",
    "    for d in [(1,0), (0,1), (-1,0), (0,-1)]:\n",
    "        \n",
    "        nx, ny = x+d[0], y+d[1]\n",
    "        \n",
    "        #범위 안벗어나고\n",
    "        if nx > goal[0] or ny > goal[1] or nx < 0 or ny < 0:\n",
    "            continue\n",
    "         \n",
    "        #벽 아니면 탐색\n",
    "        if maps[nx][ny]==1: \n",
    "            maps[nx][ny] = 0 #왔던길 안돌아가게 마킹\n",
    "            dfs((nx,ny), count+1, maps, goal, ans)\n",
    "            \n",
    "            maps[nx][ny] = 1 #dfs끝났으면 길 복구\n",
    "            \n",
    "\n",
    "def solution(maps):\n",
    "    \n",
    "    #도착 좌표\n",
    "    goal = (len(maps)-1, len(maps[0])-1)\n",
    "    \n",
    "    answer = 100000\n",
    "    \n",
    "    dfs((0,0), 1, maps, goal, answer) #시작 위치에서도 count=1되는거 주의\n",
    "    \n",
    "    # 도착 못함\n",
    "    if answer == 100000:\n",
    "        return -1\n",
    "    \n",
    "    return answer\n",
    "    \n",
    "\n",
    "\n",
    "map1 = [\n",
    "    [1,0,1,1,1], \n",
    "    [1,0,1,0,1], \n",
    "    [1,0,1,1,1], \n",
    "    [1,1,1,0,1],\n",
    "    [0,0,0,0,1]\n",
    "]\n",
    "\n",
    "map2  = [\n",
    "    [1,0,1,1,1],\n",
    "    [1,0,1,1,1],\n",
    "    [1,0,1,1,1],\n",
    "    [1,1,1,0,0],\n",
    "    [0,0,0,0,1]\n",
    "    \n",
    "]\n",
    "\n",
    "solution(map1)"
   ]
  },
  {
   "cell_type": "code",
   "execution_count": 53,
   "metadata": {},
   "outputs": [
    {
     "data": {
      "text/plain": [
       "-1"
      ]
     },
     "execution_count": 53,
     "metadata": {},
     "output_type": "execute_result"
    }
   ],
   "source": [
    "map1 = [\n",
    "    [1,0,1,1,1], \n",
    "    [1,0,1,0,1], \n",
    "    [1,0,1,1,1], \n",
    "    [1,1,1,0,1],\n",
    "    [0,0,0,0,1]\n",
    "]\n",
    "\n",
    "map2  = [\n",
    "    [1,0,1,1,1],\n",
    "    [1,0,1,1,1],\n",
    "    [1,0,1,1,1],\n",
    "    [1,1,1,0,0],\n",
    "    [0,0,0,0,1]\n",
    "    \n",
    "]\n",
    "\n",
    "solution(map1)"
   ]
  },
  {
   "cell_type": "code",
   "execution_count": 27,
   "metadata": {},
   "outputs": [
    {
     "data": {
      "text/plain": [
       "(1, 2)"
      ]
     },
     "execution_count": 27,
     "metadata": {},
     "output_type": "execute_result"
    }
   ],
   "source": [
    "a, b =[1,2]\n",
    "a,b"
   ]
  },
  {
   "cell_type": "code",
   "execution_count": 40,
   "metadata": {},
   "outputs": [],
   "source": [
    "if []:\n",
    "    print('a')"
   ]
  },
  {
   "cell_type": "code",
   "execution_count": 41,
   "metadata": {},
   "outputs": [
    {
     "name": "stdout",
     "output_type": "stream",
     "text": [
      "a\n"
     ]
    }
   ],
   "source": [
    "if a:\n",
    "    print('a')"
   ]
  },
  {
   "cell_type": "code",
   "execution_count": 67,
   "metadata": {},
   "outputs": [],
   "source": [
    "def dfs(cur, count, maps, goal):\n",
    "        \n",
    "    #도착\n",
    "    if cur == goal:\n",
    "        can.append(count)\n",
    "        return \n",
    "    \n",
    "    x, y = cur[0], cur[1]\n",
    "    \n",
    "    # 4방향으로 이동\n",
    "    for d in [(1,0), (0,1), (-1,0), (0,-1)]:\n",
    "        \n",
    "        nx, ny = x+d[0], y+d[1]\n",
    "        \n",
    "        #범위 안벗어나고\n",
    "        if nx > goal[0] or ny > goal[1] or nx < 0 or ny < 0:\n",
    "            continue\n",
    "         \n",
    "        #벽 아니면 탐색\n",
    "        if maps[nx][ny]==1: \n",
    "            maps[nx][ny] = 0 #왔던길 안돌아가게 마킹\n",
    "            dfs((nx,ny), count+1, maps, goal)\n",
    "            \n",
    "            maps[nx][ny] = 1 #dfs끝났으면 길 복구\n",
    "            \n",
    "#정답 후보\n",
    "can = []\n",
    "    \n",
    "def solution(maps):\n",
    "    \n",
    "    #도착 좌표\n",
    "    goal = (len(maps)-1, len(maps[0])-1)\n",
    "    \n",
    "    maps[0][0] = 0\n",
    "    dfs((0,0), 1, maps, goal) #시작 위치에서도 count=1되는거 주의\n",
    "    \n",
    "    #안비어있으면 최소값 출력\n",
    "    if can:\n",
    "        return min(can)\n",
    "        \n",
    "    return -1"
   ]
  },
  {
   "cell_type": "code",
   "execution_count": 74,
   "metadata": {},
   "outputs": [],
   "source": [
    "def get_goal(maps):\n",
    "    \n",
    "\n",
    "def dfs(cur, count, maps, goal):\n",
    "    \n",
    "    # 카운트가 알려진 최소값 넘어가면 탐색중지 - 타임아웃 방지\n",
    "    if can and count >= min(can):\n",
    "        print(\"중지\")\n",
    "        return\n",
    "        \n",
    "    #도착\n",
    "    if cur == goal:\n",
    "        can.append(count)\n",
    "        return \n",
    "    \n",
    "    x, y = cur[0], cur[1]\n",
    "    \n",
    "    # 4방향으로 이동\n",
    "    for d in [(1,0), (0,1), (-1,0), (0,-1)]:\n",
    "        \n",
    "        nx, ny = x+d[0], y+d[1]\n",
    "        \n",
    "        #범위 안벗어나고\n",
    "        if nx > goal[0] or ny > goal[1] or nx < 0 or ny < 0:\n",
    "            continue\n",
    "         \n",
    "        #벽 아니면 탐색\n",
    "        if maps[nx][ny]==1: \n",
    "            maps[nx][ny] = 0 #왔던길 안돌아가게 마킹\n",
    "            dfs((nx,ny), count+1, maps, goal)\n",
    "            \n",
    "            maps[nx][ny] = 1 #dfs끝났으면 길 복구\n",
    "            \n",
    "#정답 후보\n",
    "can = []\n",
    "\n",
    "    \n",
    "def solution(maps):\n",
    "    \n",
    "    #도착 좌표\n",
    "    goal = (len(maps)-1, len(maps[0])-1)\n",
    "    \n",
    "    dfs((0,0), 1, maps, goal) #시작 위치에서도 count=1되는거 주의\n",
    "    \n",
    "    #안비어있으면 최소값 출력\n",
    "    if can:\n",
    "        return min(can)\n",
    "        \n",
    "    return -1"
   ]
  },
  {
   "cell_type": "code",
   "execution_count": 75,
   "metadata": {},
   "outputs": [
    {
     "name": "stdout",
     "output_type": "stream",
     "text": [
      "중지\n",
      "중지\n"
     ]
    },
    {
     "data": {
      "text/plain": [
       "11"
      ]
     },
     "execution_count": 75,
     "metadata": {},
     "output_type": "execute_result"
    }
   ],
   "source": [
    "map1 = [\n",
    "    [1,0,1,1,1], \n",
    "    [1,0,1,0,1], \n",
    "    [1,0,1,1,1], \n",
    "    [1,1,1,0,1],\n",
    "    [0,0,0,0,1]\n",
    "]\n",
    "\n",
    "map2  = [\n",
    "    [1,0,1,1,1],\n",
    "    [1,0,1,1,1],\n",
    "    [1,0,1,1,1],\n",
    "    [1,1,1,0,0],\n",
    "    [0,0,0,0,1]\n",
    "    \n",
    "]\n",
    "\n",
    "solution(map1)"
   ]
  },
  {
   "cell_type": "code",
   "execution_count": null,
   "metadata": {},
   "outputs": [],
   "source": [
    "def dfs(cur, count, maps, goal):\n",
    "    # 도착 시 count 저장\n",
    "    if cur == goal:\n",
    "        return count\n",
    "    \n",
    "    x, y = cur\n",
    "    min_count = 1000000\n",
    "    \n",
    "    # 4방향 탐색\n",
    "    for dx, dy in [(1, 0), (0, 1), (-1, 0), (0, -1)]:\n",
    "        nx, ny = x + dx, y + dy\n",
    "        \n",
    "        # 범위 체크\n",
    "        if nx < 0 or ny < 0 or nx >= len(maps) or ny >= len(maps[0]):\n",
    "            continue\n",
    "        \n",
    "        # 벽이 아니면 탐색\n",
    "        if maps[nx][ny] == 1:\n",
    "            maps[nx][ny] = 0  # 방문 표시\n",
    "            result = dfs((nx, ny), count + 1, maps, goal)\n",
    "            if result is not None:  # 유효한 경로가 있으면 최소값 갱신\n",
    "                min_count = min(min_count, result)\n",
    "            maps[nx][ny] = 1  # 복구\n",
    "    \n",
    "    return min_count if min_count != float('inf') else None\n",
    "\n",
    "def solution(maps):\n",
    "    goal = (len(maps) - 1, len(maps[0]) - 1)\n",
    "    maps[0][0] = 0  # 시작 위치 방문 표시\n",
    "    result = dfs((0, 0), 1, maps, goal)\n",
    "    return result if result is not None else -1\n",
    "\n",
    "# 테스트\n",
    "map1 = [\n",
    "    [1, 0, 1, 1, 1],\n",
    "    [1, 0, 1, 0, 1],\n",
    "    [1, 0, 1, 1, 1],\n",
    "    [1, 1, 1, 0, 1],\n",
    "    [0, 0, 0, 0, 1],\n",
    "]\n",
    "\n",
    "map2 = [\n",
    "    [1, 0, 1, 1, 1],\n",
    "    [1, 0, 1, 1, 1],\n",
    "    [1, 0, 1, 1, 1],\n",
    "    [1, 1, 1, 0, 0],\n",
    "    [0, 0, 0, 0, 1],\n",
    "]\n",
    "\n",
    "print(solution(map1))  # 예상 출력: 최소 경로\n",
    "print(solution(map2))  # 예상 출력: -1\n"
   ]
  },
  {
   "cell_type": "code",
   "execution_count": null,
   "metadata": {},
   "outputs": [],
   "source": []
  }
 ],
 "metadata": {
  "kernelspec": {
   "display_name": "conda",
   "language": "python",
   "name": "conda"
  },
  "language_info": {
   "codemirror_mode": {
    "name": "ipython",
    "version": 3
   },
   "file_extension": ".py",
   "mimetype": "text/x-python",
   "name": "python",
   "nbconvert_exporter": "python",
   "pygments_lexer": "ipython3",
   "version": "3.10.4"
  }
 },
 "nbformat": 4,
 "nbformat_minor": 2
}
