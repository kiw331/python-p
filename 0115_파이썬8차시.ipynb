{
 "cells": [
  {
   "cell_type": "markdown",
   "metadata": {},
   "source": [
    "•8.1 리스트 데이터 SWAP\n",
    "•8.2 id 함수와 리스트\n",
    "•8.3 최대값 찾기(1)\n",
    "•8.4 선택 정렬\n",
    "•8.5 최대값 찾기(2)\n",
    "•8.6 딕셔너리를 매개변수로 사용"
   ]
  },
  {
   "cell_type": "code",
   "execution_count": 2,
   "metadata": {},
   "outputs": [
    {
     "name": "stdout",
     "output_type": "stream",
     "text": [
      "ca[0]의 값은 10 ca[1]의 값은 11\n",
      "ca[0]의 값은 11 ca[1]의 값은 10\n"
     ]
    }
   ],
   "source": [
    "#p207_2.py 리스트 데이터 스왑 \n",
    "ca=[10,11]\n",
    "print(\"ca[0]의 값은\", ca[0], \"ca[1]의 값은\", ca[1])\n",
    "\n",
    "temp=ca[0]\n",
    "ca[0]=ca[1]\n",
    "ca[1]=temp\n",
    "print(\"ca[0]의 값은\", ca[0], \"ca[1]의 값은\", ca[1])"
   ]
  },
  {
   "cell_type": "code",
   "execution_count": 3,
   "metadata": {},
   "outputs": [
    {
     "name": "stdout",
     "output_type": "stream",
     "text": [
      "ca[0]의 값은 10 ca[1]의 값은 11\n",
      "ca[0]의 값은 10 ca[1]의 값은 11\n"
     ]
    }
   ],
   "source": [
    "#p209.py ??\n",
    "def funca(na, nb):\n",
    "    temp=na\n",
    "    na=nb\n",
    "    nb=temp\n",
    "   \n",
    "ca=[10,11]\n",
    "na=ca[0]\n",
    "nb=ca[1]\n",
    "print(\"ca[0]의 값은\", ca[0], \"ca[1]의 값은\", ca[1])\n",
    "funca(ca[0], ca[1])\n",
    "print(\"ca[0]의 값은\", ca[0], \"ca[1]의 값은\", ca[1]) # 스왑 안됨"
   ]
  },
  {
   "cell_type": "code",
   "execution_count": 4,
   "metadata": {},
   "outputs": [
    {
     "name": "stdout",
     "output_type": "stream",
     "text": [
      "리스트ca값은 [10, 11]\n",
      "리스트cb값은 [10, 11]\n"
     ]
    }
   ],
   "source": [
    "#리스트에 새 이름 (별명) 추가 - 얕은 복사\n",
    "ca=[10, 11]\n",
    "cb=ca\n",
    "print(\"리스트ca값은\", ca)\n",
    "print(\"리스트cb값은\", cb)"
   ]
  },
  {
   "cell_type": "code",
   "execution_count": 5,
   "metadata": {},
   "outputs": [
    {
     "data": {
      "text/plain": [
       "[10, 11, 12]"
      ]
     },
     "execution_count": 5,
     "metadata": {},
     "output_type": "execute_result"
    }
   ],
   "source": [
    "# ca 리스트 바뀌면 같이 cb도 같이 바뀜\n",
    "ca.append(12)\n",
    "cb"
   ]
  },
  {
   "cell_type": "code",
   "execution_count": 6,
   "metadata": {},
   "outputs": [
    {
     "name": "stdout",
     "output_type": "stream",
     "text": [
      "ca[0] 값은 10 ca[1] 값은 11\n",
      "ca[0] 값은 11 ca[1] 값은 10\n"
     ]
    }
   ],
   "source": [
    "#리스트 이름을 매개변수로 사용한 SWAP\n",
    "#이런 구조의 장점 - 메모리 공간 절약 (깊은 복사는 더 써야함)\n",
    "def funca(cb):\n",
    "    temp=cb[0]\n",
    "    cb[0]=cb[1]\n",
    "    cb[1]=temp\n",
    "    \n",
    "ca=[10, 11]\n",
    "\n",
    "print(\"ca[0] 값은\", ca[0], \"ca[1] 값은\", ca[1])\n",
    "funca(ca)\n",
    "print(\"ca[0] 값은\", ca[0], \"ca[1] 값은\", ca[1])"
   ]
  },
  {
   "cell_type": "markdown",
   "metadata": {},
   "source": [
    "(번외) mutable과 immutable 객체 (변경되는, 변경되지 않는)"
   ]
  },
  {
   "cell_type": "markdown",
   "metadata": {},
   "source": [
    "리스트 얕은복사, 깊은복사  \n",
    "(책과 차이가 있음)\n",
    "교재 - 이미 생성된 리스트에 새로운 이름을 붙이는 것을 '얕은 복사'라고 한다.\n",
    "```python\n",
    "lst1 = [1,2,3]\n",
    "lst2 = lst1\n",
    "```\n",
    "\n",
    "다른 자료 -  위 코드는 리스트를 복사한 것이 아니라 참조를 할당한 것  \n",
    "얕은 복사는 아래 3가지 방법\n",
    "1. list.copy()\n",
    "2. 슬라이싱\n",
    "3. copy 모듈의 copy()"
   ]
  },
  {
   "cell_type": "code",
   "execution_count": 18,
   "metadata": {},
   "outputs": [],
   "source": [
    "# 방법1 list.copy()\n",
    "original = [1, 2, 3]\n",
    "shallow_copy = original.copy()\n",
    "\n",
    "# 방법2 슬라이싱\n",
    "original = [1, 2, 3]\n",
    "shallow_copy = original[:]\n",
    "\n",
    "# 방법3 copy 모듈의 copy()\n",
    "import copy\n",
    "original = [1, 2, 3]\n",
    "shallow_copy = copy.copy(original)"
   ]
  },
  {
   "cell_type": "code",
   "execution_count": 15,
   "metadata": {},
   "outputs": [
    {
     "data": {
      "text/plain": [
       "(2281810069632, 2281810069632)"
      ]
     },
     "execution_count": 15,
     "metadata": {},
     "output_type": "execute_result"
    }
   ],
   "source": [
    "#리스트에 새로운 이름 붙이기(교재에서는 얕은 복사) - id그대로\n",
    "lst1 = [1,2,3]\n",
    "lst2 = lst1\n",
    "\n",
    "id(lst1), id(lst2)"
   ]
  },
  {
   "cell_type": "code",
   "execution_count": 16,
   "metadata": {},
   "outputs": [
    {
     "data": {
      "text/plain": [
       "(2281810073152, 2281810104448)"
      ]
     },
     "execution_count": 16,
     "metadata": {},
     "output_type": "execute_result"
    }
   ],
   "source": [
    "# (일반적인) 얕은복사 -id 변경\n",
    "lst1 = [1,2,3]\n",
    "lst2 = lst1.copy()\n",
    "\n",
    "id(lst1), id(lst2)"
   ]
  },
  {
   "cell_type": "code",
   "execution_count": 23,
   "metadata": {},
   "outputs": [
    {
     "name": "stdout",
     "output_type": "stream",
     "text": [
      "[1, 2, 3, 4]\n",
      "[1, 2, 3]\n"
     ]
    }
   ],
   "source": [
    "# (일반적인) 얕은복사 - (1차원리스트)기존 리스트 변경 시 영향 없음\n",
    "lst1 = [1,2,3]\n",
    "lst2 = lst1.copy()\n",
    "lst1.append(4)\n",
    "\n",
    "print(lst1)\n",
    "print(lst2)"
   ]
  },
  {
   "cell_type": "code",
   "execution_count": 24,
   "metadata": {},
   "outputs": [
    {
     "name": "stdout",
     "output_type": "stream",
     "text": [
      "Original: [[99, 2], [3, 4]]\n",
      "Shallow Copy: [[99, 2], [3, 4]]\n"
     ]
    }
   ],
   "source": [
    "# (일반적인) 얕은복사 - 2차원 리스트의 원소를 변경할시 영향을 받는다\n",
    "original = [[1, 2], [3, 4]]\n",
    "shallow_copy = original.copy()\n",
    "\n",
    "# 내부 리스트의 값을 변경\n",
    "shallow_copy[0][0] = 99\n",
    "\n",
    "print(\"Original:\", original)   # [[99, 2], [3, 4]]\n",
    "print(\"Shallow Copy:\", shallow_copy)  # [[99, 2], [3, 4]]"
   ]
  },
  {
   "cell_type": "code",
   "execution_count": 27,
   "metadata": {},
   "outputs": [
    {
     "name": "stdout",
     "output_type": "stream",
     "text": [
      "Original: [[1, 2], [3, 4]]\n",
      "Shallow Copy: [[11, 22], [3, 4]]\n"
     ]
    }
   ],
   "source": [
    "# (일반적인) 얕은복사 - 2차원 리스트라도 최상위 객체를 바꿨을 때는 영향 없음\n",
    "original = [[1, 2], [3, 4]]\n",
    "shallow_copy = original.copy()\n",
    "\n",
    "# 내부 리스트의 값을 변경\n",
    "shallow_copy[0] = [11,22]\n",
    "\n",
    "print(\"Original:\", original)   \n",
    "print(\"Shallow Copy:\", shallow_copy)"
   ]
  },
  {
   "cell_type": "code",
   "execution_count": 28,
   "metadata": {},
   "outputs": [
    {
     "name": "stdout",
     "output_type": "stream",
     "text": [
      "Original: [[1, 2], [3, 4]]\n",
      "Shallow Copy: [[111, 22], [3, 4]]\n"
     ]
    }
   ],
   "source": [
    "# (일반적인) 얕은복사 - 최상위 객체를 한번 바꾸고 다시 중첩 리스트 안의 원소를 바꿨을 때는 영향없음\n",
    "# 아마 처음 리스트를 변경하는 과정에서 주소가 분리된듯하다\n",
    "original = [[1, 2], [3, 4]]\n",
    "shallow_copy = original.copy()\n",
    "\n",
    "# 내부 리스트의 값을 변경\n",
    "shallow_copy[0] = [11,22]\n",
    "shallow_copy[0][0] = 111\n",
    "\n",
    "\n",
    "print(\"Original:\", original)   \n",
    "print(\"Shallow Copy:\", shallow_copy)"
   ]
  },
  {
   "cell_type": "code",
   "execution_count": 29,
   "metadata": {},
   "outputs": [
    {
     "name": "stdout",
     "output_type": "stream",
     "text": [
      "Original: [[1, 2], [3, 4]]\n",
      "Deep Copy: [[99, 2], [3, 4]]\n"
     ]
    }
   ],
   "source": [
    "# 깊은 복사 - 최상위 객체뿐만 아니라 모든 하위 객체를 재귀적으로 복사하여 완전히 독립적인 복사본을 생성\n",
    "import copy\n",
    "\n",
    "original = [[1, 2], [3, 4]]\n",
    "deep_copy = copy.deepcopy(original)\n",
    "\n",
    "# 내부 객체 변경 -> 원본 리스트에 영향 없음\n",
    "deep_copy[0][0] = 99\n",
    "print(\"Original:\", original)        # [[1, 2], [3, 4]]\n",
    "print(\"Deep Copy:\", deep_copy)      # [[99, 2], [3, 4]]"
   ]
  },
  {
   "cell_type": "markdown",
   "metadata": {},
   "source": [
    "금일 오전 수업과 교재에 나온 내용은\n",
    "'이미 생성된 리스트에 새로운 이름을 붙이는 것을 얕은 복사라고 한다' 라고 언급하며 아래와 코드를 예시를 들었습니다.\n",
    "\n",
    "ca=[10, 11]\n",
    "cb=ca\n",
    "\n",
    "다만 \n",
    "\n",
    "교재 내용과 주로 알려진 내용이 상반되는 부분이 있는거 같은데\n",
    "제가 이해 내용이 맞는지 확인해주시고\n",
    "앞으로 수행할 과제나 평가 에서는 교재 내용을 전제로 ...\n"
   ]
  },
  {
   "cell_type": "code",
   "execution_count": 30,
   "metadata": {},
   "outputs": [
    {
     "name": "stdout",
     "output_type": "stream",
     "text": [
      "리스트 a값 [10, 11, 12, 13]\n",
      "리스트 b값 [10, 11, 12, 13]\n"
     ]
    }
   ],
   "source": [
    "#id함수와 리스트\n",
    "a=[10, 11, 12, 13]\n",
    "print(\"리스트 a값\", a)\n",
    "b=a\n",
    "print(\"리스트 b값\",b)"
   ]
  },
  {
   "cell_type": "code",
   "execution_count": 32,
   "metadata": {},
   "outputs": [
    {
     "name": "stdout",
     "output_type": "stream",
     "text": [
      "리스트 a값 [10, 11, 12, 13]\n",
      "리스트 a값 [10, 21, 12, 13]\n",
      "리스트 b값 [10, 21, 12, 13]\n",
      "리스트 b값 [30, 31, 32, 33]\n"
     ]
    }
   ],
   "source": [
    "a=[10,11,12,13]\n",
    "print(\"리스트 a값\", a)\n",
    "b=a\n",
    "\n",
    "a[1]=21\n",
    "print(\"리스트 a값\",a)\n",
    "\n",
    "# b=a\n",
    "print(\"리스트 b값\",b)   #같은 객체를 가리키고 있으므로 a수정 사항이 반영됨\n",
    "\n",
    "b=[30, 31, 32, 33]\n",
    "print(\"리스트 b값\",b)"
   ]
  },
  {
   "cell_type": "code",
   "execution_count": 42,
   "metadata": {},
   "outputs": [
    {
     "name": "stdout",
     "output_type": "stream",
     "text": [
      "리스트a id:  2281802309056\n",
      "리스트a 요소:  2281700065808 2281700065840 2281700065872\n",
      "\n",
      "리스트a id:  2281802309056\n",
      "리스트a 요소:  2281700065808 2281700066160 2281700065872\n",
      "\n",
      "리스트b id:  2281802309056\n",
      "리스트b 요소:  2281700065808 2281700066160 2281700065872\n",
      "\n",
      "리스트b id:  2281810167296\n",
      "[2281700066448, 2281700066480, 2281700066512, 2281700066544]\n"
     ]
    }
   ],
   "source": [
    "a = [10, 11, 12, 13]\n",
    "print('리스트a id: ',id(a))\n",
    "print('리스트a 요소: ',id(a[0]),id(a[1]),id(a[2]))\n",
    "print()\n",
    "\n",
    "# 리스트 요소 변경 - 인덱스[1] id값 변경\n",
    "a[1] = 21\n",
    "print('리스트a id: ',id(a))\n",
    "print('리스트a 요소: ',id(a[0]),id(a[1]),id(a[2]))\n",
    "print()\n",
    "\n",
    "# 리스트에 새로운 이름 붙이기 - 리스트a와 동일\n",
    "b = a\n",
    "print('리스트b id: ',id(b))\n",
    "print('리스트b 요소: ',id(b[0]),id(b[1]),id(b[2]))\n",
    "print()\n",
    "\n",
    "# 리스트 변수 b에 새로운 주소 데이터가 할당 -> 리스트id, 요소값id가 모두 변경\n",
    "b = [30, 31, 32, 33]\n",
    "print('리스트b id: ',id(b))\n",
    "print([id(element) for element in b])"
   ]
  },
  {
   "cell_type": "code",
   "execution_count": 43,
   "metadata": {},
   "outputs": [
    {
     "name": "stdout",
     "output_type": "stream",
     "text": [
      "17\n",
      "17\n"
     ]
    }
   ],
   "source": [
    "# 8.3 최대값 찾기(1)\n",
    "# 강의자료 13슬라이드 순서도 오타\n",
    "\n",
    "# 문제 2\n",
    "ca=[10,17,13,11]\n",
    "max=ca[0]\n",
    "for sb in range(1, 4, 1):\n",
    "    if max < ca[sb]:\n",
    "        max = ca[sb]\n",
    "print(max)\n",
    "\n",
    "# 문제 3 \n",
    "ca=[10,17,13,11]\n",
    "max=ca[0]\n",
    "for sb in ca:\n",
    "    if max < sb:\n",
    "        max = sb\n",
    "print(max)"
   ]
  },
  {
   "cell_type": "code",
   "execution_count": 46,
   "metadata": {},
   "outputs": [
    {
     "name": "stdout",
     "output_type": "stream",
     "text": [
      "정렬전:  [21, 10, 11, 15, 13]\n",
      "정렬후:  [10, 11, 13, 15, 21]\n"
     ]
    }
   ],
   "source": [
    "# 선택정렬\n",
    "# 주어진 리스트 요소 중 최소값을 찾아 첫 번째 위치의 요소와 서로 교환하는 과정을 \n",
    "# 모든 요소가 정렬될 때까지 반복하는 알고리즘\n",
    "\n",
    "def fselsort(lst):\n",
    "    \n",
    "    # 반복문을 돌며 현재 위치sa에 들어갈 최소값을 찾기. \n",
    "    for i in range(0, len(lst)-1):  # 리스트의 마지막 요소 전까지 반복(마지막 요소는 비교할 요소가 없기때문)\n",
    "        \n",
    "        \n",
    "        # 먼저 현재인덱스(i)에 있는 값이 최소값이라 가정\n",
    "        mina=lst[i]\n",
    "        minidx=i\n",
    "        \n",
    "        # 현재 위치 뒤에 있는 요소들을 확인하면서 최소값 갱신\n",
    "        for j in range(i+1, 5, 1):\n",
    "          if mina > lst[j]:\n",
    "              mina = lst[j]\n",
    "              minidx = j\n",
    "        \n",
    "        # i번째요소와 최소값이 있는 요소를 교환\n",
    "        lst[i], lst[minidx] = lst[minidx], lst[i]\n",
    "\n",
    "        \n",
    "lst=[21,10,11,15,13]\n",
    "print('정렬전: ', lst)\n",
    "fselsort(lst)\n",
    "print('정렬후: ', lst)"
   ]
  },
  {
   "cell_type": "code",
   "execution_count": 50,
   "metadata": {},
   "outputs": [
    {
     "data": {
      "text/plain": [
       "10"
      ]
     },
     "execution_count": 50,
     "metadata": {},
     "output_type": "execute_result"
    }
   ],
   "source": [
    "# 8.5 최대값 찾기(2)\n",
    "\n",
    "def find_max(lst):\n",
    "    max=lst[0]\n",
    "    for i in range(1,len(lst)):\n",
    "        if lst[i] > max:\n",
    "              max = lst[i]\n",
    "    return max\n",
    "\n",
    "lst = [5, 4, 7, 10, 6]\n",
    "find_max(lst)"
   ]
  },
  {
   "cell_type": "code",
   "execution_count": 53,
   "metadata": {},
   "outputs": [
    {
     "data": {
      "text/plain": [
       "4"
      ]
     },
     "execution_count": 53,
     "metadata": {},
     "output_type": "execute_result"
    }
   ],
   "source": [
    "#최소값 찾기\n",
    "def find_min(lst):\n",
    "    min=lst[0]\n",
    "    for i in range(1,len(lst)):\n",
    "        if lst[i] < min:\n",
    "              min = lst[i]\n",
    "    return min\n",
    "\n",
    "lst = [5, 4, 7, 10, 6]\n",
    "find_min(lst)"
   ]
  },
  {
   "cell_type": "markdown",
   "metadata": {},
   "source": [
    "### 8.6딕셔너리를 매개변수로 사용"
   ]
  },
  {
   "cell_type": "code",
   "execution_count": 54,
   "metadata": {},
   "outputs": [
    {
     "name": "stdout",
     "output_type": "stream",
     "text": [
      "a:  {1: '월', 'tue': '화', 'wed': '수'}\n",
      "\n",
      "x:  {1: '월', 'tue': '화', 'wed': '수'}\n",
      "\n",
      "a:  {1: '일', 'tue': '화', 'wed': '수'}\n",
      "x:  {1: '일', 'tue': '화', 'wed': '수'}\n"
     ]
    }
   ],
   "source": [
    "a={1:\"월\", \"tue\":\"화\", \"wed\":\"수\"}\n",
    "print('a: ',a, end='\\n\\n')\n",
    "\n",
    "x=a\n",
    "print('x: ',x, end='\\n\\n')\n",
    "\n",
    "x[1]=\"일\"\n",
    "print('x: ',x)\n",
    "print('a: ',a)  #같은 주소공간을 가리키기 때문에 같이 바뀜\n"
   ]
  },
  {
   "cell_type": "code",
   "execution_count": 55,
   "metadata": {},
   "outputs": [
    {
     "name": "stdout",
     "output_type": "stream",
     "text": [
      "{1: '월', 'tue': '화', 'wed': '수'}\n",
      "{1: '일', 'tue': '화', 'wed': '수'}\n"
     ]
    }
   ],
   "source": [
    "def fch(x):\n",
    "    x[1] =\"일\"\n",
    "    \n",
    "a={1:\"월\", \"tue\":\"화\", \"wed\":\"수\"}\n",
    "print(a)\n",
    "fch(a)  #인자로 딕셔너리를 넘\n",
    "print(a)"
   ]
  },
  {
   "cell_type": "code",
   "execution_count": 57,
   "metadata": {},
   "outputs": [
    {
     "name": "stdout",
     "output_type": "stream",
     "text": [
      "{1: '월', 'tue': '화', 'wed': '수'}\n",
      "{1: '일', 'tue': '화', 'wed': '수'}\n"
     ]
    }
   ],
   "source": [
    "#(번외) 인자로 딕셔너리를 안넘겨 주면? - 딕셔너리 이름만 같으면 함수 내에서 실행해도  딕셔너리 바뀜\n",
    "def fch():\n",
    "    a[1] =\"일\"\n",
    "    \n",
    "a={1:\"월\", \"tue\":\"화\", \"wed\":\"수\"}\n",
    "print(a)\n",
    "fch()  #인자로 딕셔너리를 넘\n",
    "print(a)"
   ]
  },
  {
   "cell_type": "markdown",
   "metadata": {},
   "source": [
    "### (231p) 가변인자, 키워드 가변 인자"
   ]
  },
  {
   "cell_type": "code",
   "execution_count": 58,
   "metadata": {},
   "outputs": [
    {
     "name": "stdout",
     "output_type": "stream",
     "text": [
      "1\n",
      "2\n",
      "3\n"
     ]
    }
   ],
   "source": [
    "# 가변인자: 함수를 호출할 때 전달하는 인자의 개수가 가변적일 때 사용\n",
    "# 매개변수로 *를 사용\n",
    "\n",
    "def func1(*args):\n",
    "    for arg in args:\n",
    "        print(arg)\n",
    "        \n",
    "func1(1,2,3)"
   ]
  },
  {
   "cell_type": "code",
   "execution_count": 59,
   "metadata": {},
   "outputs": [
    {
     "name": "stdout",
     "output_type": "stream",
     "text": [
      "<class 'tuple'>\n"
     ]
    }
   ],
   "source": [
    "# 가변인자는 튜플로 처리됨\n",
    "def func1(*args):\n",
    "    print(type(args))\n",
    "    \n",
    "func1(1,2,3)"
   ]
  },
  {
   "cell_type": "code",
   "execution_count": 63,
   "metadata": {},
   "outputs": [
    {
     "name": "stdout",
     "output_type": "stream",
     "text": [
      "name Kang\n",
      "age 18\n",
      "gender male\n"
     ]
    }
   ],
   "source": [
    "# 키워드 가변인자: \n",
    "# 매개변수로 **사용\n",
    "def func2(**kargs):\n",
    "    \n",
    "    for key, value in kargs.items():\n",
    "        print(key, value)\n",
    "    \n",
    "func2(name='Kang', age='18', gender='male')\n"
   ]
  },
  {
   "cell_type": "code",
   "execution_count": 68,
   "metadata": {},
   "outputs": [
    {
     "name": "stdout",
     "output_type": "stream",
     "text": [
      "dict_items([('name', 'Kang'), ('age', 18), ('gender', 'male')])\n",
      "<class 'dict_items'>\n"
     ]
    }
   ],
   "source": [
    "# (번외) items() 메소드: 딕셔너리를 튜플 '형태'로 변환 (튜플이 아님)\n",
    "# 리스트안에 있는 튜플 처럼 보이지만 실제론 딕셔너리의 키-값 쌍을 나타내는 동적 뷰 객체\n",
    "\n",
    "dict1 = {'name':'Kang', 'age':18, 'gender':'male'}\n",
    "print(dict1.items())\n",
    "print(type(dict1.items()))"
   ]
  },
  {
   "cell_type": "code",
   "execution_count": 69,
   "metadata": {},
   "outputs": [
    {
     "data": {
      "text/plain": [
       "list"
      ]
     },
     "execution_count": 69,
     "metadata": {},
     "output_type": "execute_result"
    }
   ],
   "source": [
    "# (참고)출력 내용복사해서 타입을 구하면 리스트\n",
    "type([('name', 'Kang'), ('age', 18), ('gender', 'male')])"
   ]
  },
  {
   "cell_type": "code",
   "execution_count": 62,
   "metadata": {},
   "outputs": [
    {
     "name": "stdout",
     "output_type": "stream",
     "text": [
      "<class 'dict'>\n"
     ]
    }
   ],
   "source": [
    "# 키워드 가변인자는 딕셔너리로 처리됨\n",
    "def func2(**kargs):\n",
    "    print(type(kargs))\n",
    "    \n",
    "func2(name='Kang', age='18', gender='male')"
   ]
  },
  {
   "cell_type": "code",
   "execution_count": 64,
   "metadata": {},
   "outputs": [
    {
     "name": "stdout",
     "output_type": "stream",
     "text": [
      "Positional argument a: 10\n",
      "Additional args: (20, 30)\n",
      "Keyword args: {'name': 'Alice', 'age': 30}\n"
     ]
    }
   ],
   "source": [
    "# 혼합사용\n",
    "def mixed_function(a, *args, **kwargs):\n",
    "    print(f\"Positional argument a: {a}\")\n",
    "    print(f\"Additional args: {args}\")\n",
    "    print(f\"Keyword args: {kwargs}\")\n",
    "\n",
    "mixed_function(10, 20, 30, name=\"Alice\", age=30)"
   ]
  },
  {
   "cell_type": "markdown",
   "metadata": {},
   "source": [
    "---"
   ]
  },
  {
   "cell_type": "code",
   "execution_count": 70,
   "metadata": {},
   "outputs": [
    {
     "name": "stdout",
     "output_type": "stream",
     "text": [
      "[4, 2, 3, 1]\n"
     ]
    }
   ],
   "source": [
    "a = [1, 2, 3, 4]\n",
    "a[0], a[3] = a[3], a[0]\n",
    "print(a)"
   ]
  },
  {
   "cell_type": "code",
   "execution_count": 72,
   "metadata": {},
   "outputs": [
    {
     "data": {
      "text/plain": [
       "[10, 20, 30, 40]"
      ]
     },
     "execution_count": 72,
     "metadata": {},
     "output_type": "execute_result"
    }
   ],
   "source": [
    "# 2. 다음 코드에서 스왑 결과가 [10, 20, 30, 40]이 되도록 빈칸에 들어갈 코드는?\n",
    "\n",
    "# lst = [40, 20, 30, 10]\n",
    "# lst[0], lst[3] = _____\n",
    "\n",
    "\n",
    "lst = [40, 20, 30, 10]\n",
    "lst[0], lst[3] = lst[3], lst[0]\n",
    "lst"
   ]
  },
  {
   "cell_type": "code",
   "execution_count": 73,
   "metadata": {},
   "outputs": [
    {
     "data": {
      "text/plain": [
       "[9, 6, 3, 12]"
      ]
     },
     "execution_count": 73,
     "metadata": {},
     "output_type": "execute_result"
    }
   ],
   "source": [
    "# 3. 리스트 arr = [3, 6, 9, 12]가 주어졌을 때, 첫 번째와 세 번째 요소를 스왑한 결과를 출력하는 코드를 작성하세요.\n",
    "\n",
    "arr = [3, 6, 9, 12]\n",
    "arr[0],arr[2] = arr[2],arr[0]\n",
    "print(arr)"
   ]
  },
  {
   "cell_type": "code",
   "execution_count": 74,
   "metadata": {},
   "outputs": [
    {
     "name": "stdout",
     "output_type": "stream",
     "text": [
      "True\n"
     ]
    }
   ],
   "source": [
    "''' \n",
    "4. 다음 코드의 실행 결과로 출력될 두 값에 대한 설명으로 올바른 것은?\n",
    "a = [1, 2, 3]\n",
    "b = a\n",
    "print(id(a) == id(b))\n",
    "a. a와 b는 동일한 메모리 주소를 참조하므로 True가 출력된다.\n",
    "b. a와 b는 다른 메모리 주소를 참조하므로 False가 출력된다.\n",
    "c. id() 함수는 항상 다른 값을 반환하므로 False가 출력된다.\n",
    "d. 리스트는 변경 가능한 객체이므로 id() 함수와 관계없이 항상 True가 출력된다.\n",
    "'''\n",
    "\n",
    "a = [1, 2, 3]\n",
    "b = a\n",
    "print(id(a) == id(b))"
   ]
  },
  {
   "cell_type": "code",
   "execution_count": 77,
   "metadata": {},
   "outputs": [
    {
     "data": {
      "text/plain": [
       "True"
      ]
     },
     "execution_count": 77,
     "metadata": {},
     "output_type": "execute_result"
    }
   ],
   "source": [
    "[1,2] == [1,2]"
   ]
  },
  {
   "cell_type": "code",
   "execution_count": 78,
   "metadata": {},
   "outputs": [
    {
     "name": "stdout",
     "output_type": "stream",
     "text": [
      "True\n"
     ]
    }
   ],
   "source": [
    "# Python은 성능 최적화를 위해 -5에서 256 사이의 정수에 대해 캐싱을 수행합니다.\n",
    "# 이 범위의 정수는 프로그램 실행 시 미리 생성되고, 동일한 값을 가진 변수를 만들면 동일한 객체를 재사용합니다.\n",
    "\n",
    "x = 42\n",
    "y = 42\n",
    "print(id(x) == id(y))"
   ]
  },
  {
   "cell_type": "code",
   "execution_count": 81,
   "metadata": {},
   "outputs": [
    {
     "name": "stdout",
     "output_type": "stream",
     "text": [
      "2281810570736 2281810571376 False\n"
     ]
    }
   ],
   "source": [
    "a = id(-100)\n",
    "b = id(-100)\n",
    "print(a,b, a==b)    #캐싱범위를 넘어가면 id값이 바뀐다."
   ]
  },
  {
   "cell_type": "code",
   "execution_count": null,
   "metadata": {},
   "outputs": [],
   "source": [
    "'''\n",
    "6. 다음 코드에서 id(a)와 id(b)의 값은 어떤 관계에 있을까요? b\n",
    "a = [10, 20, 30]\n",
    "b = a.copy()\n",
    "a. id(a) == id(b)\n",
    "b. id(a) != id(b)\n",
    "c. id(a)와 id(b)는 서로 참조하는 리스트의 요소마다 다르다.\n",
    "d. id() 함수는 리스트의 길이에 따라 값을 다르게 반환한다.\n",
    "'''\n",
    "\n"
   ]
  },
  {
   "cell_type": "code",
   "execution_count": 82,
   "metadata": {},
   "outputs": [
    {
     "name": "stdout",
     "output_type": "stream",
     "text": [
      "100\n"
     ]
    }
   ],
   "source": [
    "# 7. 파이썬으로 최대값을 찾는 알고리즘을 구현하시오.\n",
    "\n",
    "def find_max(lst):\n",
    "    max=lst[0]\n",
    "    for i in range(1,len(lst)):\n",
    "        if lst[i] > max:\n",
    "              max = lst[i]\n",
    "    return max\n",
    "\n",
    "lst = [-15, 42, 7, 100, 26]\n",
    "print(find_max(lst))"
   ]
  },
  {
   "cell_type": "code",
   "execution_count": null,
   "metadata": {},
   "outputs": [],
   "source": [
    "lst = [-15, 42, 7, 100, 26]\n",
    "\n",
    "# 리스트에서 첫번째 요소를 최대값으로 가정\n",
    "max_number = lst[0]\n",
    "\n",
    "# 리스트의 두번째 요소부터 마지막 요소까지 현재 알려진 최대값 max_number과 비교\n",
    "for i in range(1,len(lst)):\n",
    "    \n",
    "    #max_number보다 큰 수가 있다면 최대값 갱신\n",
    "    if lst[i] > max_number: \n",
    "        max_number = lst[i] \n",
    "        \n",
    "#최대값 출력\n",
    "print(max_number)"
   ]
  },
  {
   "cell_type": "code",
   "execution_count": 87,
   "metadata": {},
   "outputs": [
    {
     "name": "stdout",
     "output_type": "stream",
     "text": [
      "[11, 12, 22, 25, 64]\n"
     ]
    }
   ],
   "source": [
    "'''\n",
    "9. 다음 코드에서 선택 정렬 알고리즘을 사용하여 리스트를 오름차순으로 정렬하려고 합니다. 빈칸에 들어갈 코드는 무엇인가요?\n",
    "def selection_sort(arr):\n",
    "    for i in range(len(arr)):\n",
    "        min_idx = i\n",
    "        for j in range(i+1, len(arr)):\n",
    "            if arr[j] < arr[min_idx]:\n",
    "                min_idx = j\n",
    "        # 빈칸에 들어갈 코드\n",
    "        arr[i], arr[min_idx] = _____\n",
    "    return arr\n",
    "\n",
    "data = [64, 25, 12, 22, 11]\n",
    "print(selection_sort(data))\n",
    "'''\n",
    "\n",
    "\n",
    "def selection_sort(arr):\n",
    "    for i in range(len(arr)):\n",
    "        min_idx = i\n",
    "        for j in range(i+1, len(arr)):\n",
    "            if arr[j] < arr[min_idx]:\n",
    "                min_idx = j\n",
    "        arr[i], arr[min_idx] = arr[min_idx],arr[i]\n",
    "    return arr\n",
    "\n",
    "data = [64, 25, 12, 22, 11]\n",
    "print(selection_sort(data))"
   ]
  },
  {
   "cell_type": "code",
   "execution_count": 89,
   "metadata": {},
   "outputs": [
    {
     "data": {
      "text/plain": [
       "60"
      ]
     },
     "execution_count": 89,
     "metadata": {},
     "output_type": "execute_result"
    }
   ],
   "source": [
    "# 10. 주어진 딕셔너리에서 모든 값의 합을 구하는 함수를 작성하세요. \n",
    "# ( 예를 들어, 딕셔너리 { 'a': 10, 'b': 20, 'c': 30 }가 주어졌을 때, 합은 60 )\n",
    "\n",
    "\n",
    "def sum_from_dict(dict):\n",
    "    \n",
    "    res = 0\n",
    "    for key in dict:\n",
    "        res += dict[key]\n",
    "        \n",
    "    return res\n",
    "    \n",
    "\n",
    "dict = { 'a': 10, 'b': 20, 'c': 30 }\n",
    "print(sum_from_dict(dict))"
   ]
  },
  {
   "cell_type": "code",
   "execution_count": null,
   "metadata": {},
   "outputs": [],
   "source": [
    "def fch(x):\n",
    "    x[1] =\"일\"\n",
    "    \n",
    "a={1:\"월\", \"tue\":\"화\", \"wed\":\"수\"}\n",
    "print(a)\n",
    "fch(a)  #인자로 딕셔너리를 넘\n",
    "print(a)"
   ]
  }
 ],
 "metadata": {
  "kernelspec": {
   "display_name": "conda",
   "language": "python",
   "name": "conda"
  },
  "language_info": {
   "codemirror_mode": {
    "name": "ipython",
    "version": 3
   },
   "file_extension": ".py",
   "mimetype": "text/x-python",
   "name": "python",
   "nbconvert_exporter": "python",
   "pygments_lexer": "ipython3",
   "version": "3.10.4"
  }
 },
 "nbformat": 4,
 "nbformat_minor": 2
}
