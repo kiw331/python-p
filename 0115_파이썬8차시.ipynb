{
 "cells": [
  {
   "cell_type": "markdown",
   "metadata": {},
   "source": [
    "•8.1 리스트 데이터 SWAP\n",
    "•8.2 id 함수와 리스트\n",
    "•8.3 최대값 찾기(1)\n",
    "•8.4 선택 정렬\n",
    "•8.5 최대값 찾기(1)\n",
    "•8.6 딕셔너리를 매개변수로 사용"
   ]
  },
  {
   "cell_type": "code",
   "execution_count": null,
   "metadata": {},
   "outputs": [],
   "source": [
    "#리스트 데이터 스왑\n",
    "ca = [10, 11]\n"
   ]
  },
  {
   "cell_type": "code",
   "execution_count": null,
   "metadata": {},
   "outputs": [],
   "source": []
  }
 ],
 "metadata": {
  "kernelspec": {
   "display_name": "conda",
   "language": "python",
   "name": "conda"
  },
  "language_info": {
   "name": "python",
   "version": "3.10.4"
  }
 },
 "nbformat": 4,
 "nbformat_minor": 2
}
