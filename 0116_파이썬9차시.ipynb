{
 "cells": [
  {
   "cell_type": "markdown",
   "metadata": {},
   "source": [
    "9.1 클래스 구성 및 정의  \n",
    "9.2 객체 생성  \n",
    "9.3 객체의 멤버 접근  \n",
    "9.4 self  \n",
    "9.5 __init__() 초기화 메소드  \n",
    "9.6 내장 클래스"
   ]
  },
  {
   "cell_type": "markdown",
   "metadata": {},
   "source": [
    "__9.1 클래스 구성 및 정의__"
   ]
  },
  {
   "cell_type": "code",
   "execution_count": null,
   "metadata": {},
   "outputs": [],
   "source": [
    "# 멤버함수, 멤버변수\n",
    "class Cexm:\n",
    "    def fsam(self):\n",
    "        print(\"멤버함수(메소드)\")\n",
    "    def fsbm(self, pa):\n",
    "        self.x = pa\n",
    "        print(\"멤버변수 x 는\", self.x)\n",
    "\n",
    "ca = Cexm() #객체 생성\n",
    "ca.fsam()   #멤버함수 호출\n",
    "ca.fsbm(10)"
   ]
  },
  {
   "cell_type": "code",
   "execution_count": 1,
   "metadata": {},
   "outputs": [
    {
     "name": "stdout",
     "output_type": "stream",
     "text": [
      "멤버 변수 x 는 10\n",
      "변수 y 는 20\n",
      "멤버 함수(메소드)\n"
     ]
    }
   ],
   "source": [
    "# 멤버 함수 정의시 매개변수에 반드시 self를 사용해야함\n",
    "# (객체생성, 메소드 호출 시)self 매개변수에는 명시적으로 인자를 전달하지 않음\n",
    "# pa, pb, y는 모두 멤버변수 \n",
    "\n",
    "class Cexm:\n",
    "     \n",
    "     # self 매개변수가 없으므로 멤버함수가 아님\n",
    "    def fssam():\n",
    "         print(\"멤버함수가 아니다\")\n",
    "    def fsam(self):\n",
    "         print(\"멤버 함수(메소드)\")\n",
    "    def __init__(self, pa, pb): #------------> ①\n",
    "          self.x = pa\n",
    "          y = pb    # self를 사용하지 않은 매개변수 - 멤버변수가 아님\n",
    "          print(\"멤버 변수 x 는\", self.x) #-> ③\n",
    "          print(\"변수 y 는\", y) #-> ③\n",
    "\n",
    "ca = Cexm(10, 20)# --------------------------> ②\n",
    "ca.fsam()"
   ]
  },
  {
   "cell_type": "code",
   "execution_count": null,
   "metadata": {},
   "outputs": [],
   "source": [
    "# (GPT) 멤버변수는 클래스변수, 인스턴스 변수로 나뉨\n",
    "\n",
    "class MyClass:\n",
    "    # 클래스 변수\n",
    "    class_variable = \"Shared by all instances\"\n",
    "\n",
    "    def __init__(self, value):\n",
    "        # 인스턴스 변수\n",
    "        self.instance_variable = value\n",
    "\n",
    "    def method(self):\n",
    "        # 로컬 변수\n",
    "        local_variable = \"I exist only in this method\"\n",
    "        print(local_variable)\n",
    "\n",
    "# 객체 생성\n",
    "obj = MyClass(\"Instance-specific value\")\n",
    "print(obj.class_variable)      # Shared by all instances\n",
    "print(obj.instance_variable)   # Instance-specific value\n",
    "obj.method()                   # I exist only in this method\n"
   ]
  },
  {
   "attachments": {
    "image.png": {
     "image/png": "[encoded data removed]"
    }
   },
   "cell_type": "markdown",
   "metadata": {},
   "source": [
    "![image.png](attachment:image.png)"
   ]
  },
  {
   "cell_type": "code",
   "execution_count": null,
   "metadata": {},
   "outputs": [],
   "source": [
    "# (번외)클래스 변수 자리에 self. 키워드를 써서 멤버변수(인스턴스변수)를 만들수 있나? - 오류발생\n",
    "\n",
    "class MyClass:\n",
    "    self.variable = 10  # SyntaxError: cannot use 'self' in class body\n",
    "    \n",
    "    def __init__(self, value):\n",
    "        # 멤버 변수\n",
    "        self.instance_variable = value\n",
    "        \n"
   ]
  },
  {
   "cell_type": "markdown",
   "metadata": {},
   "source": [
    "__9.2 클래스와 객체__"
   ]
  },
  {
   "cell_type": "code",
   "execution_count": 2,
   "metadata": {},
   "outputs": [
    {
     "name": "stdout",
     "output_type": "stream",
     "text": [
      "abc\n"
     ]
    }
   ],
   "source": [
    "# 클래스가 객체를 생성-인스턴스화\n",
    "# 문자열 \"abc\"를 변수 stra에 저장한다 =  \"abc\"를 가리키는 주소 데이터를 변수 stra(객체 stra)에 저장한다\n",
    "# 파이썬에서 변수는 객체\n",
    "stra = \"abc\"\n",
    "print(stra)"
   ]
  },
  {
   "cell_type": "code",
   "execution_count": 4,
   "metadata": {},
   "outputs": [
    {
     "name": "stdout",
     "output_type": "stream",
     "text": [
      "abc\n",
      "Abc\n"
     ]
    }
   ],
   "source": [
    "# str은 파이썬의 built-in(내장) 클래스\n",
    "# 아래 코드에서 str 클래스의 객체를 생성하면서 문자열 \"abc\"를 인수로 받는 __init __(self, pa) 메소드 호출\n",
    "strb=str(\"abc\")\n",
    "print(strb)\n",
    "\n",
    "# str클래스의 멤버함수 capitalize() 호출\n",
    "strc=strb.capitalize()\n",
    "print(strc)"
   ]
  },
  {
   "cell_type": "code",
   "execution_count": 6,
   "metadata": {},
   "outputs": [
    {
     "name": "stdout",
     "output_type": "stream",
     "text": [
      "HELLO, PYTHON!\n",
      "hello, python!\n",
      "Hello, python!\n"
     ]
    }
   ],
   "source": [
    "# 번외 upper(), lower(), capitalize\n",
    "text = \"hello, Python!\"\n",
    "\n",
    "print(text.upper())\n",
    "print(text.lower())\n",
    "print(text.capitalize())    #영어 첫글자만 대문자로"
   ]
  },
  {
   "cell_type": "code",
   "execution_count": null,
   "metadata": {},
   "outputs": [],
   "source": [
    "# 클래스와 메소드를 이용해서 계산기 기능 구현\n",
    "# result변수는 생성자에 쓰이지도 않았는데\n",
    "class Calculator:\n",
    "    def setinit(self):\n",
    "        self.result = 0\n",
    "    \n",
    "    def adder(self, num):\n",
    "        self.result = self.result + num\n",
    "        return self.result\n",
    "    \n",
    "cal1 = Calculator()\n",
    "cal1.setinit()\n",
    "print(cal1.adder(3))\n",
    "print(cal1.adder(4))\n",
    "\n",
    "cal2 = Calculator()\n",
    "cal2.setinit()\n",
    "print(cal2.adder(3))\n",
    "print(cal2.adder(7))"
   ]
  },
  {
   "cell_type": "markdown",
   "metadata": {},
   "source": [
    "생성자 __init()__ 밖에 선언되더라도 self. 매개변수만 사용하면 멤버변수이고 객체 내 어디서나 사용가능\n",
    "\n",
    "위 코드에서 result와 같이 init() 밖에서 선언된 멤버변수는 인스턴스 변수인가?\n",
    "(GPT)\n",
    "self.result는 self를 통해 선언되었기 때문에 인스턴스 변수입니다.\n",
    "일반적으로는 __init__ 메서드 내부에 멤버 변수(인스턴스 변수)를 선언하는 것이 맞음\n",
    "이유는 __init__이 객체가 생성될 때 자동으로 호출되기 때문에, \n",
    "모든 멤버 변수를 한곳에서 초기화할 수 있고, 코드의 가독성과 유지보수성이 높아지기 때문입니다."
   ]
  },
  {
   "cell_type": "code",
   "execution_count": 9,
   "metadata": {},
   "outputs": [
    {
     "name": "stdout",
     "output_type": "stream",
     "text": [
      "3\n",
      "7\n",
      "3\n",
      "10\n"
     ]
    }
   ],
   "source": [
    "# 생성자: __init()__ 메소드: 객체가 생성될 때 자동을 호출되는 특수한 초기화 메소드\n",
    "# 클래스에서 반드시 실행되어야 하는 기능이 있다면,\n",
    "# (위 계산기 코드처럼) 명시적으로 호출하는 대신 생성될 떄 자동으로 호출되게 함\n",
    "class Calculator:\n",
    "    def __init__(self):\n",
    "        self.result = 0\n",
    "    \n",
    "    def adder(self, num):\n",
    "        self.result = self.result + num\n",
    "        return self.result\n",
    "cal1 = Calculator()\n",
    "cal2 = Calculator()\n",
    "\n",
    "print(cal1.adder(3))    # 0+3\n",
    "print(cal1.adder(4))\n",
    "print(cal2.adder(3))\n",
    "print(cal2.adder(7))"
   ]
  },
  {
   "cell_type": "code",
   "execution_count": null,
   "metadata": {},
   "outputs": [],
   "source": [
    "# (번외) init()메소드에서 리턴값을 넣으면? - TypeError: __init__() should return None, not 'str'\n",
    "class MyClass:\n",
    "    def __init__(self):\n",
    "        return \"Hello\"  # 잘못된 코드: 반환값 존재\n",
    "\n",
    "obj = MyClass()"
   ]
  },
  {
   "cell_type": "code",
   "execution_count": null,
   "metadata": {},
   "outputs": [],
   "source": [
    "# 생성자, 멤버함수\n",
    "class Car:\n",
    "    def __init__(self, pnum, pspeed):\n",
    "        self.num = pnum\n",
    "        self.speed = pspeed\n",
    "    def fprint(self):\n",
    "        print(\"차량번호\", self.num)\n",
    "        print(\"속도는\", self.speed)        \n",
    "        \n",
    "new_car = Car(2023, 90)\n",
    "new_car.fprint()"
   ]
  },
  {
   "cell_type": "code",
   "execution_count": 11,
   "metadata": {},
   "outputs": [
    {
     "name": "stdout",
     "output_type": "stream",
     "text": [
      "ohap의 값은 30\n",
      "ohap2의 값은 12\n",
      "ohap2의 값은 3\n"
     ]
    }
   ],
   "source": [
    "# (문제3)디폴트 매개변수를 이용하여 제시된 화면 출력 결과가 나오도록 fadd 함수를 정의하세요.\n",
    "def fadd(a=1,b=2):\n",
    "    x=a\n",
    "    y=b\n",
    "    hap=x+y\n",
    "    return hap\n",
    "\n",
    "ohap=fadd(10, 20)\n",
    "print(\"ohap의 값은\", ohap)\n",
    "ohap2=fadd(10)\n",
    "print(\"ohap2의 값은\", ohap2)\n",
    "ohap3=fadd()\n",
    "print(\"ohap2의 값은\", ohap3)"
   ]
  },
  {
   "cell_type": "code",
   "execution_count": 12,
   "metadata": {},
   "outputs": [
    {
     "name": "stdout",
     "output_type": "stream",
     "text": [
      "객체 obj 내의 인스턴스 변수 hap의 값은 30\n",
      "객체 obj 내의 인스턴스 변수 hap의 값은 12\n",
      "객체 obj 내의 인스턴스 변수 hap의 값은 3\n"
     ]
    }
   ],
   "source": [
    "#(문제4) 디폴트 매개변수의 사용을 응용하여 클래스를 변경해 보세요.\n",
    "class Cadd:\n",
    "    def fadd(self, a=1, b=2):\n",
    "        self.x=a\n",
    "        self.y=b\n",
    "        self.hap=self.x+self.y\n",
    "\n",
    "obj=Cadd()\n",
    "obj.fadd(10, 20)\n",
    "print(\"객체 obj 내의 인스턴스 변수 hap의 값은\", obj.hap)\n",
    "obj.fadd(10)\n",
    "print(\"객체 obj 내의 인스턴스 변수 hap의 값은\", obj.hap)\n",
    "obj.fadd()\n",
    "print(\"객체 obj 내의 인스턴스 변수 hap의 값은\", obj.hap)"
   ]
  },
  {
   "cell_type": "code",
   "execution_count": null,
   "metadata": {},
   "outputs": [],
   "source": [
    "class Car:\n",
    "    def __init__(self, pnum, pspeed):\n",
    "        self.num = pnum\n",
    "        self.speed = pspeed\n",
    "    def fprint(self):\n",
    "        print(\"차량번호\", self.num)\n",
    "        print(\"속도는\", self.speed)        \n",
    "        \n",
    "new_car = Car(2023, 90)\n",
    "new_car.fprint()"
   ]
  },
  {
   "cell_type": "code",
   "execution_count": 18,
   "metadata": {},
   "outputs": [
    {
     "name": "stdout",
     "output_type": "stream",
     "text": [
      "고양이\n",
      "야옹 소리내다\n"
     ]
    }
   ],
   "source": [
    "'''\n",
    "•다음과 같은 속성과 동작을 포함하는 동물(Animal) 클래스를 생성하고, \n",
    "고양이(cat) 객체를 생성하여 속성을 출력하고 동작을 수행하시오.\n",
    "- 속성: 이름(name)=‘고양이’\n",
    "- 동작: ‘야옹’소리내다(sound)\n",
    "'''\n",
    "class Animal:\n",
    "    \n",
    "    def __init__(self, name):\n",
    "        self.name = name\n",
    "    \n",
    "    def fprint(self):\n",
    "        print(self.name)\n",
    "    \n",
    "    def act(self):\n",
    "        print('야옹 소리내다')\n",
    "        \n",
    "\n",
    "cat = Animal('고양이')\n",
    "#cat.fprint()\n",
    "print(cat.name)\n",
    "cat.act()"
   ]
  },
  {
   "cell_type": "code",
   "execution_count": 14,
   "metadata": {},
   "outputs": [
    {
     "name": "stdout",
     "output_type": "stream",
     "text": [
      "오렌지\n",
      "주황색\n",
      "새콤한 맛이 나다\n",
      "None\n"
     ]
    }
   ],
   "source": [
    "'''\n",
    "•다음과 같은 속성과 동작을 포함하는 과일(Fruit) 클래스를 생성하고, \n",
    "오렌지(orange) 객체를 생성하여 속성을 출력하고 동작을 수행하시오.\n",
    "- 속성: 이름(name)=‘오렌지’, 색상(color)=‘노란색’\n",
    "- 동작: ‘새콤하다’맛이나다(taste)\n",
    "'''\n",
    "class Fruit:\n",
    "    def __init__(self, name, color):\n",
    "        self.name = name\n",
    "        self.color = color\n",
    "        \n",
    "    def fprint(self):\n",
    "        print(self.name)\n",
    "        print(self.color)\n",
    "\n",
    "    def taste(self):\n",
    "        print('새콤한 맛이 나다')\n",
    "\n",
    "orange = Fruit('오렌지', '주황색')\n",
    "\n",
    "# 속성 출력\n",
    "orange.fprint()\n",
    "\n",
    "# 동작 수행\n",
    "print(orange.taste())  # 오렌지는 새콤하다!"
   ]
  },
  {
   "cell_type": "markdown",
   "metadata": {},
   "source": [
    "클래스에서 속성(atrribute) = 멤버변수?\n",
    "\n",
    "(4슬라이드)\n",
    "맴버 변수 (Member Variable)\n",
    "-클래스의 속성, 명사로 표현\n",
    "\n",
    "맴버 함수 (Method, 메서드)\n",
    "- 클래스의 동작을 구현한 함수, 동사로 표현\n",
    "- 매개변수로 self가 포함된 함수"
   ]
  },
  {
   "cell_type": "markdown",
   "metadata": {},
   "source": [
    "---"
   ]
  },
  {
   "cell_type": "code",
   "execution_count": 20,
   "metadata": {},
   "outputs": [],
   "source": [
    "# 3. 내부 코드가 없는 핸드폰 (Phone) 클래스를 \"정의\" 해보세요\n",
    "\n",
    "class Phone:\n",
    "    pass\n",
    "\n",
    "my_phone = Phone()"
   ]
  },
  {
   "cell_type": "code",
   "execution_count": 21,
   "metadata": {},
   "outputs": [
    {
     "name": "stdout",
     "output_type": "stream",
     "text": [
      "휴대폰 생성\n"
     ]
    }
   ],
   "source": [
    "# 5. 핸드폰 (Phone) 클래스에 \"휴대폰 생성\"를 출력하는 생성자를 추가하세요.\n",
    "class Phone:\n",
    "    def __init__(self):\n",
    "        print('휴대폰 생성')\n",
    "\n",
    "my_phone = Phone()"
   ]
  },
  {
   "cell_type": "code",
   "execution_count": 22,
   "metadata": {},
   "outputs": [
    {
     "name": "stdout",
     "output_type": "stream",
     "text": [
      "휴대폰 생성\n"
     ]
    }
   ],
   "source": [
    "# 6. 핸드폰 (Phone) 클래스에 (제조사, 출고년도, 색상)을 입력받는 생성자를 추가하세요.\n",
    "\n",
    "class Phone:\n",
    "    def __init__(self, manufacturer, released_year , color):\n",
    "        print('휴대폰 생성')\n",
    "        self.제조사 = manufacturer\n",
    "        self.출고년도 = released_year\n",
    "        self.색상 = color\n",
    "\n",
    "my_phone = Phone('삼성', '2025', '블랙')"
   ]
  },
  {
   "cell_type": "code",
   "execution_count": 24,
   "metadata": {},
   "outputs": [
    {
     "name": "stdout",
     "output_type": "stream",
     "text": [
      "휴대폰 생성\n",
      "삼성\n",
      "2025\n",
      "블랙\n"
     ]
    }
   ],
   "source": [
    "# 7. 앞서 생성한 인스턴스의 제조사, 출고년도, 색상을 출력하시오.\n",
    "\n",
    "class Phone:\n",
    "    def __init__(self, manufacturer, released_year, color):\n",
    "        print('휴대폰 생성')\n",
    "        self.제조사 = manufacturer\n",
    "        self.출고년도 = released_year\n",
    "        self.색상 = color\n",
    "        \n",
    "\n",
    "my_phone = Phone('삼성', '2025', '블랙')\n",
    "print(my_phone.제조사)\n",
    "print(my_phone.출고년도)\n",
    "print(my_phone.색상)"
   ]
  },
  {
   "cell_type": "code",
   "execution_count": 25,
   "metadata": {},
   "outputs": [
    {
     "name": "stdout",
     "output_type": "stream",
     "text": [
      "휴대폰 생성\n",
      "삼성\n",
      "2025\n",
      "블랙\n"
     ]
    }
   ],
   "source": [
    "# 8. 핸드폰 (Phone) 클래스에서 제조사, 출고년도, 색상을 출력하는 info() 메소드를 추가하세요.\n",
    "\n",
    "class Phone:\n",
    "    def __init__(self, manufacturer, released_year, color):\n",
    "        print('휴대폰 생성')\n",
    "        self.제조사 = manufacturer\n",
    "        self.출고년도 = released_year\n",
    "        self.색상 = color\n",
    "        \n",
    "    def info(self):\n",
    "        print(self.제조사)\n",
    "        print(self.출고년도)\n",
    "        print(self.색상)\n",
    "\n",
    "my_phone = Phone('삼성', '2025', '블랙')\n",
    "my_phone.info()"
   ]
  },
  {
   "cell_type": "code",
   "execution_count": 26,
   "metadata": {},
   "outputs": [
    {
     "name": "stdout",
     "output_type": "stream",
     "text": [
      "휴대폰 생성\n",
      "애플\n",
      "2024\n",
      "화이트\n"
     ]
    }
   ],
   "source": [
    "# 9. 핸드폰 (Phone) 클래스에 (제조사, 출고년도, 색상)을 받는 setInfo 메소드를 추가하세요.\n",
    "\n",
    "class Phone:\n",
    "    def __init__(self, 제조사, 출고년도, 색상):\n",
    "        print('휴대폰 생성')\n",
    "        self.제조사 = 제조사\n",
    "        self.출고년도 = 출고년도\n",
    "        self.색상 = 색상\n",
    "        \n",
    "    def info(self):\n",
    "        print(self.제조사)\n",
    "        print(self.출고년도)\n",
    "        print(self.색상)\n",
    "        \n",
    "    def setinfo(self, 제조사, 출고년도, 색상):\n",
    "        self.제조사 = 제조사\n",
    "        self.출고년도 = 출고년도\n",
    "        self.색상 = 색상\n",
    "\n",
    "my_phone = Phone('삼성', '2025', '블랙')\n",
    "my_phone.setinfo('애플', '2024', '화이트')\n",
    "my_phone.info()"
   ]
  },
  {
   "cell_type": "code",
   "execution_count": null,
   "metadata": {},
   "outputs": [],
   "source": [
    "# 10. 다음 self 를 설명한 내용 중 틀린 것은?\n",
    "# a. 해당 클래스의 객체를 의미\n",
    "# b. 클래스 내 메서드의 두 번째 매개변수로 사용\n",
    "# c. 클래스를 통해 생성된 객체를 구분하기 위해 사용\n",
    "# d. self 객체를 통해 변수와 메서드 호출 가능\n",
    "\n",
    "\n"
   ]
  }
 ],
 "metadata": {
  "kernelspec": {
   "display_name": "conda",
   "language": "python",
   "name": "conda"
  },
  "language_info": {
   "codemirror_mode": {
    "name": "ipython",
    "version": 3
   },
   "file_extension": ".py",
   "mimetype": "text/x-python",
   "name": "python",
   "nbconvert_exporter": "python",
   "pygments_lexer": "ipython3",
   "version": "3.10.4"
  }
 },
 "nbformat": 4,
 "nbformat_minor": 2
}
