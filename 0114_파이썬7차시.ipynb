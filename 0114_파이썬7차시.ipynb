{
 "cells": [
  {
   "cell_type": "markdown",
   "metadata": {},
   "source": [
    "파라미터\n",
    "아큐먼트 argument?"
   ]
  },
  {
   "cell_type": "markdown",
   "metadata": {},
   "source": [
    "10:40 (04)오타\n"
   ]
  },
  {
   "cell_type": "markdown",
   "metadata": {},
   "source": [
    "(14슬라아이드)"
   ]
  },
  {
   "cell_type": "code",
   "execution_count": 1,
   "metadata": {},
   "outputs": [
    {
     "name": "stdout",
     "output_type": "stream",
     "text": [
      "scope_test()함수 밖의 a값은 0\n",
      "scope_Test()함수안의 a값은 3\n",
      "scope_test()함수 호출후의 a값은 3\n"
     ]
    }
   ],
   "source": [
    "def scope_test():\n",
    "    global a \n",
    "    a = a + 3\n",
    "    print(\"scope_Test()함수안의 a값은\", a)\n",
    "    \n",
    "a = 0\n",
    "print(\"scope_test()함수 밖의 a값은\", a)\n",
    "scope_test()\n",
    "print(\"scope_test()함수 호출 후의 a값은\", a)"
   ]
  },
  {
   "cell_type": "code",
   "execution_count": 3,
   "metadata": {},
   "outputs": [
    {
     "ename": "SyntaxError",
     "evalue": "invalid syntax. Maybe you meant '==' or ':=' instead of '='? (3977724438.py, line 4)",
     "output_type": "error",
     "traceback": [
      "\u001b[1;36m  Input \u001b[1;32mIn [3]\u001b[1;36m\u001b[0m\n\u001b[1;33m    sua = 10, sub=5, suc=7\u001b[0m\n\u001b[1;37m    ^\u001b[0m\n\u001b[1;31mSyntaxError\u001b[0m\u001b[1;31m:\u001b[0m invalid syntax. Maybe you meant '==' or ':=' instead of '='?\n"
     ]
    }
   ],
   "source": [
    "#(200p 문제4) 오타 14:28 (200p 문제4)\n",
    "# 순서도대로 프로그램 작성\n",
    "\n",
    "sua = 10, sub=5, suc=7\n",
    "\n",
    "max = sua\n",
    "\n",
    "if max<sua:\n",
    "    max = sub\n",
    "\n",
    "if max<suc:\n",
    "    max = suc\n",
    "\n",
    "print('최대값: ', max)"
   ]
  },
  {
   "cell_type": "code",
   "execution_count": 4,
   "metadata": {},
   "outputs": [
    {
     "ename": "SyntaxError",
     "evalue": "invalid syntax. Maybe you meant '==' or ':=' instead of '='? (984702847.py, line 3)",
     "output_type": "error",
     "traceback": [
      "\u001b[1;36m  Input \u001b[1;32mIn [4]\u001b[1;36m\u001b[0m\n\u001b[1;33m    a = 1, b = 2\u001b[0m\n\u001b[1;37m    ^\u001b[0m\n\u001b[1;31mSyntaxError\u001b[0m\u001b[1;31m:\u001b[0m invalid syntax. Maybe you meant '==' or ':=' instead of '='?\n"
     ]
    }
   ],
   "source": [
    "# 변수 초기화\n",
    "a = 1, b = 2    #불가능\n",
    "a,b"
   ]
  },
  {
   "cell_type": "code",
   "execution_count": null,
   "metadata": {},
   "outputs": [],
   "source": [
    "#(201p 문제5) \n",
    "# 앞서 작성한 프로그램을 fmax로 정의, fmax 함수를 호출하도록 프로그램을 변경\n",
    "\n"
   ]
  },
  {
   "cell_type": "code",
   "execution_count": 7,
   "metadata": {},
   "outputs": [
    {
     "data": {
      "text/plain": [
       "['a', 'b', 'c', 'd']"
      ]
     },
     "execution_count": 7,
     "metadata": {},
     "output_type": "execute_result"
    }
   ],
   "source": [
    "# 문자열을 입력받아 각 문자들로 구성된 리스트로 반환하는 make_list 함수를 작성하시오.\n",
    "\n",
    "def make_list():\n",
    "    pass\n",
    "\n",
    "str1 = 'abcd'\n",
    "\n",
    "list(str1)"
   ]
  },
  {
   "cell_type": "code",
   "execution_count": 9,
   "metadata": {},
   "outputs": [
    {
     "data": {
      "text/plain": [
       "[2, 4, 6]"
      ]
     },
     "execution_count": 9,
     "metadata": {},
     "output_type": "execute_result"
    }
   ],
   "source": [
    "# 숫자로 구성된 하나의 리스트를 인수로 입력받아\n",
    "# 짝수들을 추출하여 리스트로 반환하는 pickup_even 함수\n",
    "\n",
    "def pickup_even(lst):\n",
    "    res = []\n",
    "    \n",
    "    for i in lst:\n",
    "        if i%2 ==0:\n",
    "            res.append(i)\n",
    "            \n",
    "            \n",
    "    return res\n",
    "    \n",
    "\n",
    "lst1 = [1,2,3,4,5,6]\n",
    "pickup_even(lst1)\n"
   ]
  },
  {
   "cell_type": "code",
   "execution_count": null,
   "metadata": {},
   "outputs": [
    {
     "data": {
      "text/plain": [
       "[2, 4, 6]"
      ]
     },
     "execution_count": 13,
     "metadata": {},
     "output_type": "execute_result"
    }
   ],
   "source": [
    "def pickup_even(lst):\n",
    "    return [i for i in lst if i % 2 == 0]\n",
    "\n",
    "#lst2 = map(int, input().split())\n",
    "lst2 = [1,2,3,4,5,6]\n",
    "pickup_even(lst2)"
   ]
  },
  {
   "cell_type": "code",
   "execution_count": 10,
   "metadata": {},
   "outputs": [
    {
     "name": "stdout",
     "output_type": "stream",
     "text": [
      "[2, 4]\n"
     ]
    }
   ],
   "source": [
    "pickup_even = lambda arr: [i for i in arr if i % 2 == 0]\n",
    "print(pickup_even([1,2,3,4,5]))"
   ]
  },
  {
   "cell_type": "code",
   "execution_count": 14,
   "metadata": {},
   "outputs": [
    {
     "data": {
      "text/plain": [
       "dict_items([('애플', 'apple.com'), ('파이썬', 'python.org'), ('마소', 'microsoft.com')])"
      ]
     },
     "execution_count": 14,
     "metadata": {},
     "output_type": "execute_result"
    }
   ],
   "source": [
    "# (149p)딕셔너리 메소드\n",
    "\n",
    "# 딕셔너리 내장함수, 빌트인함수,\n",
    "# 내장 메소드?\n",
    "\n",
    "dic = {'애플': 'apple.com', '파이썬': 'python.org', '마소': 'microsoft.com'}\n",
    "\n",
    "dic.keys()\n",
    "dic.values()\n",
    "dic.items()     # 아이템(키와 값을 둘다 반환) // 그럼 그냥 dic랑 뭔차이지"
   ]
  },
  {
   "cell_type": "code",
   "execution_count": null,
   "metadata": {},
   "outputs": [],
   "source": []
  },
  {
   "cell_type": "code",
   "execution_count": null,
   "metadata": {},
   "outputs": [],
   "source": []
  },
  {
   "cell_type": "markdown",
   "metadata": {},
   "source": [
    "---"
   ]
  },
  {
   "cell_type": "code",
   "execution_count": 1,
   "metadata": {},
   "outputs": [
    {
     "name": "stdout",
     "output_type": "stream",
     "text": [
      "50\n",
      "100\n"
     ]
    }
   ],
   "source": [
    "# 3. 다음 함수의 출력 결과를 작성하고, 함수가 어떻게 동작하는지 설명하세요.\n",
    "def calculate_area(length, width=10):\n",
    "    return length * width\n",
    "print(calculate_area(5))\n",
    "print(calculate_area(5, 20))"
   ]
  },
  {
   "cell_type": "markdown",
   "metadata": {},
   "source": [
    "함수 정의부에는 length, width 두개의 매개변수가 있고 그 중 width는 디폴트값이 존재한다. \n",
    "첫번째 호출 print(calculate_area(5)) 에서는 함수로 인자가 하나만 전달되어 전달된 인자값 5와 디폴트 매개변수값 10이 곱해진 결과가 반환된다.\n",
    "반면 두번째 호출print(calculate_area(5, 20))에서는 두개의 인자가 모두 전달되기 때문에 디폴트 매개변수 대신 전달된 인자값이 그대로 매개변수로 사용되어 5와 20이 곱해진 값이 반환된다.\n"
   ]
  },
  {
   "cell_type": "code",
   "execution_count": null,
   "metadata": {},
   "outputs": [],
   "source": [
    "# 4. 다음 코드의 오류 원인을 설명하고, 올바르게 수정하세요.\n",
    "\n",
    "def add_numbers(a, b):\n",
    "    return a + b\n",
    "print(add_numbers(10))\n",
    "\n",
    "\n"
   ]
  },
  {
   "cell_type": "markdown",
   "metadata": {},
   "source": [
    "함수 정의부에는 두개의 매개변수가 사용되었지만 호출할 때는 하나의 정수만을 인자로 사용했기 때문에 오류가 발생한다. \n",
    "인자가 하나만 넘어오는 경우를 고려해서 매개변수 b를 디폴트 매개변수로 만들거나 호출 시에 함수 정의부에 맞춰 인자를 2개 모두 전달하면 된다.\n"
   ]
  },
  {
   "cell_type": "code",
   "execution_count": 2,
   "metadata": {},
   "outputs": [
    {
     "name": "stdout",
     "output_type": "stream",
     "text": [
      "30\n"
     ]
    }
   ],
   "source": [
    "def add_numbers(a, b):\n",
    "    return a + b\n",
    "print(add_numbers(10,20))"
   ]
  },
  {
   "cell_type": "code",
   "execution_count": null,
   "metadata": {},
   "outputs": [],
   "source": [
    "def inner_function(x, y):\n",
    "        return x + y\n",
    "def outer_function(x, y):\n",
    "    return inner_function(x, y)\n",
    "\n",
    "add_10 = outer_function(10, 5)\n",
    "print(add_10)"
   ]
  },
  {
   "cell_type": "markdown",
   "metadata": {},
   "source": [
    "outer_function()호출\n",
    "outer_function()에서 inner_function()을 호출\n",
    "inner_function()이 호출할 때 outer_function()에 매개변수로 넘어간 값 (10, 5)가 그대로 인자로 사용됨\n",
    "inner_function()의 두 수를 더한 반환값 15가 outer_function()으로 반환되고\n",
    "outer_function()에서 다시 15를 반환하여 변수 add_10에 할당됨\n",
    "변수값 15 출력\n",
    "\n",
    "\n"
   ]
  },
  {
   "cell_type": "code",
   "execution_count": 5,
   "metadata": {},
   "outputs": [
    {
     "name": "stdout",
     "output_type": "stream",
     "text": [
      "30\n"
     ]
    }
   ],
   "source": [
    "# 6. 다음 코드는 오류를 발생시킵니다. 오류 원인을 설명하고 올바르게 수정하세요.\n",
    "\n",
    "\n",
    "def add_numbers(a, b):\n",
    "    result = a + b\n",
    "    return result\n",
    "    \n",
    "print(add_numbers(10,20))"
   ]
  },
  {
   "cell_type": "code",
   "execution_count": 6,
   "metadata": {},
   "outputs": [
    {
     "name": "stdout",
     "output_type": "stream",
     "text": [
      "A\n",
      "B\n",
      "C\n",
      "A\n",
      "B\n"
     ]
    }
   ],
   "source": [
    "def message() :\n",
    "    print(\"A\")\n",
    "    print(\"B\")\n",
    "message()\n",
    "print(\"C\")\n",
    "message()"
   ]
  },
  {
   "cell_type": "code",
   "execution_count": 7,
   "metadata": {},
   "outputs": [
    {
     "name": "stdout",
     "output_type": "stream",
     "text": [
      "A\n",
      "C\n",
      "B\n"
     ]
    }
   ],
   "source": [
    "print(\"A\")\n",
    "def message() :\n",
    "    print(\"B\")\n",
    "print(\"C\")\n",
    "message()\n"
   ]
  },
  {
   "cell_type": "code",
   "execution_count": null,
   "metadata": {},
   "outputs": [],
   "source": [
    "#9. 정수를 입력받아 해당 정수가 짝수인지 홀수인지 문자열로 반환하는 함수를 작성하세요.\n",
    "\n",
    "\n",
    "def odd_even(number):\n",
    "    return '홀수' if number%2==1 else '짝수'\n",
    "\n",
    "\n",
    "n = int(input('숫자를 입력하세요 '))\n",
    "print(odd_even(n))"
   ]
  },
  {
   "cell_type": "code",
   "execution_count": 15,
   "metadata": {},
   "outputs": [
    {
     "name": "stdout",
     "output_type": "stream",
     "text": [
      "24.0\n"
     ]
    }
   ],
   "source": [
    "# 10. 매개변수로 주어진 숫자 리스트의 평균을 계산하는 프로그램을 작성하시오.\n",
    "\n",
    "\n",
    "def get_average(lst):\n",
    "    sumv = 0\n",
    "    \n",
    "    for i in lst:\n",
    "        sumv += i\n",
    "    \n",
    "    return sumv / len(lst)\n",
    "\n",
    "lst1 = [7, 13, 100, 5, 1, 9, 4, 53]\n",
    "\n",
    "print(get_average(lst1))"
   ]
  },
  {
   "cell_type": "code",
   "execution_count": null,
   "metadata": {},
   "outputs": [],
   "source": []
  }
 ],
 "metadata": {
  "kernelspec": {
   "display_name": "conda",
   "language": "python",
   "name": "conda"
  },
  "language_info": {
   "codemirror_mode": {
    "name": "ipython",
    "version": 3
   },
   "file_extension": ".py",
   "mimetype": "text/x-python",
   "name": "python",
   "nbconvert_exporter": "python",
   "pygments_lexer": "ipython3",
   "version": "3.10.4"
  }
 },
 "nbformat": 4,
 "nbformat_minor": 2
}
